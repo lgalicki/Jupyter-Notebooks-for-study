{
 "cells": [
  {
   "cell_type": "markdown",
   "metadata": {},
   "source": [
    "# Functions are objects!\n",
    "It turns out functions are objects! How cool is that?! Let's explore this concept. First of all let's creat a function called func1()."
   ]
  },
  {
   "cell_type": "code",
   "execution_count": 2,
   "metadata": {},
   "outputs": [],
   "source": [
    "def func1():\n",
    "    print(\"I'm in function 1\")"
   ]
  },
  {
   "cell_type": "markdown",
   "metadata": {},
   "source": [
    "If we execute it, it's executed."
   ]
  },
  {
   "cell_type": "code",
   "execution_count": 3,
   "metadata": {},
   "outputs": [
    {
     "name": "stdout",
     "output_type": "stream",
     "text": [
      "I'm in function 1\n"
     ]
    }
   ],
   "source": [
    "func1()"
   ]
  },
  {
   "cell_type": "markdown",
   "metadata": {},
   "source": [
    "If we invoke it as a variable, we receive a message saying it's a function inside of the module being executed."
   ]
  },
  {
   "cell_type": "code",
   "execution_count": 4,
   "metadata": {},
   "outputs": [
    {
     "data": {
      "text/plain": [
       "<function __main__.func1()>"
      ]
     },
     "execution_count": 4,
     "metadata": {},
     "output_type": "execute_result"
    }
   ],
   "source": [
    "func1"
   ]
  },
  {
   "cell_type": "markdown",
   "metadata": {},
   "source": [
    "It we check the type of the object func1, we're told functions' type is <i>function</i>"
   ]
  },
  {
   "cell_type": "code",
   "execution_count": 5,
   "metadata": {},
   "outputs": [
    {
     "data": {
      "text/plain": [
       "function"
      ]
     },
     "execution_count": 5,
     "metadata": {},
     "output_type": "execute_result"
    }
   ],
   "source": [
    "type(func1)"
   ]
  },
  {
   "cell_type": "markdown",
   "metadata": {},
   "source": [
    "Notice when we check the type of the execution of a function we'll receive the type of whatever is returned by it."
   ]
  },
  {
   "cell_type": "code",
   "execution_count": 7,
   "metadata": {},
   "outputs": [
    {
     "name": "stdout",
     "output_type": "stream",
     "text": [
      "I'm in function 1\n"
     ]
    },
    {
     "data": {
      "text/plain": [
       "NoneType"
      ]
     },
     "execution_count": 7,
     "metadata": {},
     "output_type": "execute_result"
    }
   ],
   "source": [
    "type(func1())"
   ]
  },
  {
   "cell_type": "markdown",
   "metadata": {},
   "source": [
    "Now it gets cooler. We can actualy attribute the value of the variable func1 to another variable and execute this other variable!"
   ]
  },
  {
   "cell_type": "code",
   "execution_count": 8,
   "metadata": {},
   "outputs": [
    {
     "name": "stdout",
     "output_type": "stream",
     "text": [
      "I'm in function 1\n"
     ]
    }
   ],
   "source": [
    "another_var = func1\n",
    "another_var()"
   ]
  },
  {
   "cell_type": "markdown",
   "metadata": {},
   "source": [
    "This other variable is also of the type <i>function</i>."
   ]
  },
  {
   "cell_type": "code",
   "execution_count": 9,
   "metadata": {},
   "outputs": [
    {
     "data": {
      "text/plain": [
       "function"
      ]
     },
     "execution_count": 9,
     "metadata": {},
     "output_type": "execute_result"
    }
   ],
   "source": [
    "type(another_var)"
   ]
  },
  {
   "cell_type": "markdown",
   "metadata": {},
   "source": [
    "Now comes the most bizarre thing. I can actually delete the original defined function! Remember it's an object, so this actually makes sense!"
   ]
  },
  {
   "cell_type": "code",
   "execution_count": 10,
   "metadata": {},
   "outputs": [],
   "source": [
    "del func1"
   ]
  },
  {
   "cell_type": "markdown",
   "metadata": {},
   "source": [
    "Notice that func1 exists no more!"
   ]
  },
  {
   "cell_type": "code",
   "execution_count": 11,
   "metadata": {},
   "outputs": [
    {
     "ename": "NameError",
     "evalue": "name 'func1' is not defined",
     "output_type": "error",
     "traceback": [
      "\u001b[0;31m---------------------------------------------------------------------------\u001b[0m",
      "\u001b[0;31mNameError\u001b[0m                                 Traceback (most recent call last)",
      "\u001b[0;32m<ipython-input-11-72a292336881>\u001b[0m in \u001b[0;36m<module>\u001b[0;34m\u001b[0m\n\u001b[0;32m----> 1\u001b[0;31m \u001b[0mtype\u001b[0m\u001b[0;34m(\u001b[0m\u001b[0mfunc1\u001b[0m\u001b[0;34m)\u001b[0m\u001b[0;34m\u001b[0m\u001b[0;34m\u001b[0m\u001b[0m\n\u001b[0m",
      "\u001b[0;31mNameError\u001b[0m: name 'func1' is not defined"
     ]
    }
   ],
   "source": [
    "type(func1)"
   ]
  },
  {
   "cell_type": "code",
   "execution_count": 12,
   "metadata": {},
   "outputs": [
    {
     "ename": "NameError",
     "evalue": "name 'func1' is not defined",
     "output_type": "error",
     "traceback": [
      "\u001b[0;31m---------------------------------------------------------------------------\u001b[0m",
      "\u001b[0;31mNameError\u001b[0m                                 Traceback (most recent call last)",
      "\u001b[0;32m<ipython-input-12-09a918b40c96>\u001b[0m in \u001b[0;36m<module>\u001b[0;34m\u001b[0m\n\u001b[0;32m----> 1\u001b[0;31m \u001b[0mfunc1\u001b[0m\u001b[0;34m\u001b[0m\u001b[0;34m\u001b[0m\u001b[0m\n\u001b[0m",
      "\u001b[0;31mNameError\u001b[0m: name 'func1' is not defined"
     ]
    }
   ],
   "source": [
    "func1"
   ]
  },
  {
   "cell_type": "code",
   "execution_count": 13,
   "metadata": {},
   "outputs": [
    {
     "ename": "NameError",
     "evalue": "name 'func1' is not defined",
     "output_type": "error",
     "traceback": [
      "\u001b[0;31m---------------------------------------------------------------------------\u001b[0m",
      "\u001b[0;31mNameError\u001b[0m                                 Traceback (most recent call last)",
      "\u001b[0;32m<ipython-input-13-d88c41ef3303>\u001b[0m in \u001b[0;36m<module>\u001b[0;34m\u001b[0m\n\u001b[0;32m----> 1\u001b[0;31m \u001b[0mfunc1\u001b[0m\u001b[0;34m(\u001b[0m\u001b[0;34m)\u001b[0m\u001b[0;34m\u001b[0m\u001b[0;34m\u001b[0m\u001b[0m\n\u001b[0m",
      "\u001b[0;31mNameError\u001b[0m: name 'func1' is not defined"
     ]
    }
   ],
   "source": [
    "func1()"
   ]
  },
  {
   "cell_type": "markdown",
   "metadata": {},
   "source": [
    "Can we still use the variable that received the function that now exists no more? In other words, is it a pointer to a now defunct function or is it an object?"
   ]
  },
  {
   "cell_type": "code",
   "execution_count": 14,
   "metadata": {},
   "outputs": [
    {
     "data": {
      "text/plain": [
       "<function __main__.func1()>"
      ]
     },
     "execution_count": 14,
     "metadata": {},
     "output_type": "execute_result"
    }
   ],
   "source": [
    "another_var"
   ]
  },
  {
   "cell_type": "code",
   "execution_count": 15,
   "metadata": {},
   "outputs": [
    {
     "data": {
      "text/plain": [
       "function"
      ]
     },
     "execution_count": 15,
     "metadata": {},
     "output_type": "execute_result"
    }
   ],
   "source": [
    "type(another_var)"
   ]
  },
  {
   "cell_type": "code",
   "execution_count": 16,
   "metadata": {},
   "outputs": [
    {
     "name": "stdout",
     "output_type": "stream",
     "text": [
      "I'm in function 1\n"
     ]
    }
   ],
   "source": [
    "another_var()"
   ]
  },
  {
   "cell_type": "markdown",
   "metadata": {},
   "source": [
    "As you can see it's not a pointer. It's an object. It still exists!"
   ]
  },
  {
   "cell_type": "markdown",
   "metadata": {},
   "source": [
    "# Making functions return functions\n",
    "Given what's been shown above, we can, therefore return functions when functions are called. Check it out!"
   ]
  },
  {
   "cell_type": "code",
   "execution_count": 17,
   "metadata": {},
   "outputs": [],
   "source": [
    "def dad_function(give_kid):\n",
    "    def son_function():\n",
    "        print(\"I'm daddy's boy\")\n",
    "    \n",
    "    if give_kid == True:\n",
    "        return son_function"
   ]
  },
  {
   "cell_type": "markdown",
   "metadata": {},
   "source": [
    "Because <code>son_function</code> is inside <code>dad_function</code>, we can not call it outside it's parent function."
   ]
  },
  {
   "cell_type": "code",
   "execution_count": 16,
   "metadata": {},
   "outputs": [
    {
     "ename": "NameError",
     "evalue": "name 'son_function' is not defined",
     "output_type": "error",
     "traceback": [
      "\u001b[0;31m---------------------------------------------------------------------------\u001b[0m",
      "\u001b[0;31mNameError\u001b[0m                                 Traceback (most recent call last)",
      "\u001b[0;32m<ipython-input-16-ef5720dffd30>\u001b[0m in \u001b[0;36m<module>\u001b[0;34m\u001b[0m\n\u001b[0;32m----> 1\u001b[0;31m \u001b[0mson_function\u001b[0m\u001b[0;34m(\u001b[0m\u001b[0;34m)\u001b[0m\u001b[0;34m\u001b[0m\u001b[0;34m\u001b[0m\u001b[0m\n\u001b[0m",
      "\u001b[0;31mNameError\u001b[0m: name 'son_function' is not defined"
     ]
    }
   ],
   "source": [
    "son_function()"
   ]
  },
  {
   "cell_type": "markdown",
   "metadata": {},
   "source": [
    "We obviously could run it inside its parent function, but, if we wanna run it outside, we can actually return it."
   ]
  },
  {
   "cell_type": "code",
   "execution_count": 18,
   "metadata": {},
   "outputs": [
    {
     "name": "stdout",
     "output_type": "stream",
     "text": [
      "I'm daddy's boy\n"
     ]
    }
   ],
   "source": [
    "outsider = dad_function(True)\n",
    "outsider()"
   ]
  },
  {
   "cell_type": "markdown",
   "metadata": {},
   "source": [
    "# Passing functions as parameters\n",
    "Given what's been shown above, nothing impedes us passing function as parameters to other functions, which will then be able to execute them inside themselves."
   ]
  },
  {
   "cell_type": "code",
   "execution_count": 19,
   "metadata": {},
   "outputs": [
    {
     "name": "stdout",
     "output_type": "stream",
     "text": [
      "Even when he's with me, he still only thinks about his dad! :(\n",
      "I'm daddy's boy\n"
     ]
    }
   ],
   "source": [
    "def dad_function(give_kid):\n",
    "    def son_function():\n",
    "        print(\"I'm daddy's boy\")\n",
    "    \n",
    "    if give_kid == True:\n",
    "        return son_function\n",
    "    \n",
    "    \n",
    "def mom_function(kiddo):\n",
    "    print(\"Even when he's with me, he still only thinks about his dad! :(\")\n",
    "    kiddo()\n",
    "    \n",
    "kiddo = dad_function(True)\n",
    "mom_function(kiddo)"
   ]
  },
  {
   "cell_type": "markdown",
   "metadata": {},
   "source": [
    "# Now, into decorators\n",
    "Imagine you have a function which might need to have, sometimes, some code added on its top, over its bottom, or both. You could do the following:"
   ]
  },
  {
   "cell_type": "code",
   "execution_count": 20,
   "metadata": {},
   "outputs": [
    {
     "name": "stdout",
     "output_type": "stream",
     "text": [
      "Here's the top bread\n",
      "I only have the filling here\n",
      "Here's the bottom bread\n"
     ]
    }
   ],
   "source": [
    "def sandwich():\n",
    "    print('I only have the filling here')\n",
    "    \n",
    "def complete_sandwich(filling):\n",
    "    def pilling_stuff_up():\n",
    "        print(\"Here's the top bread\")\n",
    "        filling()\n",
    "        print(\"Here's the bottom bread\")\n",
    "    return pilling_stuff_up\n",
    "\n",
    "tasty_sandwich = complete_sandwich(sandwich)\n",
    "tasty_sandwich()"
   ]
  },
  {
   "cell_type": "markdown",
   "metadata": {},
   "source": [
    "The above logic is what's called a decorator. In essence, we had a simpler <code>sandwich()</code> function which got more robust, with logic being put above and under its original logic.\n",
    "\n",
    "Now let's take a look at how decorators are usually invoked in Python."
   ]
  },
  {
   "cell_type": "code",
   "execution_count": 21,
   "metadata": {},
   "outputs": [
    {
     "name": "stdout",
     "output_type": "stream",
     "text": [
      "Here's the top bread\n",
      "I only have the second type of filling here\n",
      "Here's the bottom bread\n"
     ]
    }
   ],
   "source": [
    "@complete_sandwich\n",
    "def sandwich2():\n",
    "    print('I only have the second type of filling here')\n",
    "    \n",
    "sandwich2()"
   ]
  },
  {
   "cell_type": "markdown",
   "metadata": {},
   "source": [
    "This might seem useless, but it can be very usefull when we are using imported libraries which have uncomplete functions that we must complete with our own logic. I guess this is a recurring thing when programming for the web.\n",
    "\n",
    "The <code>complete_sandwich(filing)</code> function that is here is what would be pre-programmed by someone else."
   ]
  },
  {
   "cell_type": "markdown",
   "metadata": {},
   "source": [
    "# <center> SECOND COURSE. Let's try to really understand this thing</center>"
   ]
  },
  {
   "cell_type": "markdown",
   "metadata": {},
   "source": [
    "# First class functions & High order function\n",
    "The concept of first class function means that functions are treated as variables. They can be attributed to other variables, passed as a parameter in a function call and be returned by a function.\n",
    "\n",
    "High order function, in the other hand, is the classification given to function that receive and/or return functions. They are only possible, therefore, if the concept of first class functions is existent.\n",
    "\n",
    "Below we have examples of both concepts."
   ]
  },
  {
   "cell_type": "code",
   "execution_count": 1,
   "metadata": {},
   "outputs": [
    {
     "name": "stdout",
     "output_type": "stream",
     "text": [
      "7.5\n",
      "55\n"
     ]
    }
   ],
   "source": [
    "def calc_sum(init, end, func):\n",
    "    \"\"\"\n",
    "    Receives a range and returns the sum of func() applied to all the values in the range\n",
    "    \"\"\"\n",
    "    result = 0\n",
    "    for x in range(init, end + 1):\n",
    "        result += func(x)\n",
    "    \n",
    "    return result\n",
    "\n",
    "def half(num):\n",
    "    return num / 2\n",
    "\n",
    "def pow2(num):\n",
    "    return num ** 2\n",
    "\n",
    "#Now let's call calc_sum telling it what function it should use to calculate the sum of the ranges\n",
    "print(calc_sum(1, 5, half))\n",
    "print(calc_sum(1, 5, pow2))"
   ]
  },
  {
   "cell_type": "markdown",
   "metadata": {},
   "source": [
    "Now let's see an example of a function that returns another function."
   ]
  },
  {
   "cell_type": "code",
   "execution_count": 3,
   "metadata": {},
   "outputs": [
    {
     "name": "stdin",
     "output_type": "stream",
     "text": [
      "If you wanna sum halfs type \"a\". Anything else will sum potencies of 2:  q\n"
     ]
    },
    {
     "name": "stdout",
     "output_type": "stream",
     "text": [
      "55\n"
     ]
    }
   ],
   "source": [
    "def get_input():\n",
    "    option = input('If you wanna sum halfs type \"a\". Anything else will sum potencies of 2: ').lower()\n",
    "    if option == 'a':\n",
    "        return half\n",
    "    else:\n",
    "        return pow2\n",
    "\n",
    "#Notice how choice is a variable that receives a function, therefore it can be invoked.\n",
    "choice = get_input()\n",
    "print(calc_sum(1, 5, choice))"
   ]
  },
  {
   "cell_type": "markdown",
   "metadata": {},
   "source": [
    "# Inner functions\n",
    "Inner functions, or nested functions, are functions defined inside another function. They can access variables of the closure. What do I mean by closure? I'll soon explain. Hold on.\n",
    "\n",
    "In the case below, inner was defined when outer was executed, but, since inner wasn't called anywhere, we can't see its print."
   ]
  },
  {
   "cell_type": "markdown",
   "metadata": {},
   "source": [
    "def outer():\n",
    "    def inner():\n",
    "        print(\"I'm in the inner function!\")\n",
    "\n",
    "outer()"
   ]
  },
  {
   "cell_type": "markdown",
   "metadata": {},
   "source": [
    "Now let's try something similar from above, but let's actually execute inner."
   ]
  },
  {
   "cell_type": "code",
   "execution_count": 7,
   "metadata": {},
   "outputs": [
    {
     "name": "stdout",
     "output_type": "stream",
     "text": [
      "I'm in the inner function!\n"
     ]
    }
   ],
   "source": [
    "def outer():\n",
    "    def inner():\n",
    "        print(\"I'm in the inner function!\")\n",
    "\n",
    "    inner()\n",
    "outer()"
   ]
  },
  {
   "cell_type": "markdown",
   "metadata": {},
   "source": [
    "Could you call inner outside its parent function? Let's see!"
   ]
  },
  {
   "cell_type": "code",
   "execution_count": 8,
   "metadata": {},
   "outputs": [
    {
     "ename": "NameError",
     "evalue": "name 'inner' is not defined",
     "output_type": "error",
     "traceback": [
      "\u001b[0;31m---------------------------------------------------------------------------\u001b[0m",
      "\u001b[0;31mNameError\u001b[0m                                 Traceback (most recent call last)",
      "\u001b[0;32m<ipython-input-8-c07e2f19a96e>\u001b[0m in \u001b[0;36m<module>\u001b[0;34m\u001b[0m\n\u001b[1;32m      4\u001b[0m \u001b[0;34m\u001b[0m\u001b[0m\n\u001b[1;32m      5\u001b[0m \u001b[0mouter\u001b[0m\u001b[0;34m(\u001b[0m\u001b[0;34m)\u001b[0m\u001b[0;34m\u001b[0m\u001b[0;34m\u001b[0m\u001b[0m\n\u001b[0;32m----> 6\u001b[0;31m \u001b[0minner\u001b[0m\u001b[0;34m(\u001b[0m\u001b[0;34m)\u001b[0m\u001b[0;34m\u001b[0m\u001b[0;34m\u001b[0m\u001b[0m\n\u001b[0m",
      "\u001b[0;31mNameError\u001b[0m: name 'inner' is not defined"
     ]
    }
   ],
   "source": [
    "def outer():\n",
    "    def inner():\n",
    "        print(\"I'm in the inner function!\")\n",
    "\n",
    "outer()\n",
    "inner()"
   ]
  },
  {
   "cell_type": "markdown",
   "metadata": {},
   "source": [
    "As expected, it's not possible. Now let's see how the inner function has access to the scope of its parent function."
   ]
  },
  {
   "cell_type": "code",
   "execution_count": 10,
   "metadata": {},
   "outputs": [
    {
     "name": "stdout",
     "output_type": "stream",
     "text": [
      "I'm in the inner function, and outer function's var is xpto\n"
     ]
    }
   ],
   "source": [
    "def outer():\n",
    "    var = 'xpto'\n",
    "    def inner():\n",
    "        print(f\"I'm in the inner function, and outer function's var is {var}\")\n",
    "\n",
    "    inner()\n",
    "outer()"
   ]
  },
  {
   "cell_type": "markdown",
   "metadata": {},
   "source": [
    "Can the inner function alter the value of a variable that belongs to its parent? Let's see!"
   ]
  },
  {
   "cell_type": "code",
   "execution_count": 11,
   "metadata": {},
   "outputs": [
    {
     "name": "stdout",
     "output_type": "stream",
     "text": [
      "In outer, before calling inner: xpto\n"
     ]
    },
    {
     "ename": "UnboundLocalError",
     "evalue": "local variable 'var' referenced before assignment",
     "output_type": "error",
     "traceback": [
      "\u001b[0;31m---------------------------------------------------------------------------\u001b[0m",
      "\u001b[0;31mUnboundLocalError\u001b[0m                         Traceback (most recent call last)",
      "\u001b[0;32m<ipython-input-11-639ff1d66fde>\u001b[0m in \u001b[0;36m<module>\u001b[0;34m\u001b[0m\n\u001b[1;32m     10\u001b[0m     \u001b[0mprint\u001b[0m\u001b[0;34m(\u001b[0m\u001b[0;34mf'In outer, after calling inner: {var}'\u001b[0m\u001b[0;34m)\u001b[0m\u001b[0;34m\u001b[0m\u001b[0;34m\u001b[0m\u001b[0m\n\u001b[1;32m     11\u001b[0m \u001b[0;34m\u001b[0m\u001b[0m\n\u001b[0;32m---> 12\u001b[0;31m \u001b[0mouter\u001b[0m\u001b[0;34m(\u001b[0m\u001b[0;34m)\u001b[0m\u001b[0;34m\u001b[0m\u001b[0;34m\u001b[0m\u001b[0m\n\u001b[0m",
      "\u001b[0;32m<ipython-input-11-639ff1d66fde>\u001b[0m in \u001b[0;36mouter\u001b[0;34m()\u001b[0m\n\u001b[1;32m      7\u001b[0m \u001b[0;34m\u001b[0m\u001b[0m\n\u001b[1;32m      8\u001b[0m     \u001b[0mprint\u001b[0m\u001b[0;34m(\u001b[0m\u001b[0;34mf'In outer, before calling inner: {var}'\u001b[0m\u001b[0;34m)\u001b[0m\u001b[0;34m\u001b[0m\u001b[0;34m\u001b[0m\u001b[0m\n\u001b[0;32m----> 9\u001b[0;31m     \u001b[0minner\u001b[0m\u001b[0;34m(\u001b[0m\u001b[0;34m)\u001b[0m\u001b[0;34m\u001b[0m\u001b[0;34m\u001b[0m\u001b[0m\n\u001b[0m\u001b[1;32m     10\u001b[0m     \u001b[0mprint\u001b[0m\u001b[0;34m(\u001b[0m\u001b[0;34mf'In outer, after calling inner: {var}'\u001b[0m\u001b[0;34m)\u001b[0m\u001b[0;34m\u001b[0m\u001b[0;34m\u001b[0m\u001b[0m\n\u001b[1;32m     11\u001b[0m \u001b[0;34m\u001b[0m\u001b[0m\n",
      "\u001b[0;32m<ipython-input-11-639ff1d66fde>\u001b[0m in \u001b[0;36minner\u001b[0;34m()\u001b[0m\n\u001b[1;32m      2\u001b[0m     \u001b[0mvar\u001b[0m \u001b[0;34m=\u001b[0m \u001b[0;34m'xpto'\u001b[0m\u001b[0;34m\u001b[0m\u001b[0;34m\u001b[0m\u001b[0m\n\u001b[1;32m      3\u001b[0m     \u001b[0;32mdef\u001b[0m \u001b[0minner\u001b[0m\u001b[0;34m(\u001b[0m\u001b[0;34m)\u001b[0m\u001b[0;34m:\u001b[0m\u001b[0;34m\u001b[0m\u001b[0;34m\u001b[0m\u001b[0m\n\u001b[0;32m----> 4\u001b[0;31m         \u001b[0mprint\u001b[0m\u001b[0;34m(\u001b[0m\u001b[0;34mf\"I'm in the inner function and var came as {var}!\"\u001b[0m\u001b[0;34m)\u001b[0m\u001b[0;34m\u001b[0m\u001b[0;34m\u001b[0m\u001b[0m\n\u001b[0m\u001b[1;32m      5\u001b[0m         \u001b[0mvar\u001b[0m \u001b[0;34m=\u001b[0m \u001b[0;34m'inside'\u001b[0m\u001b[0;34m\u001b[0m\u001b[0;34m\u001b[0m\u001b[0m\n\u001b[1;32m      6\u001b[0m         \u001b[0mprint\u001b[0m\u001b[0;34m(\u001b[0m\u001b[0;34mf\"I'm in the inner function and I changed var to {var}\"\u001b[0m\u001b[0;34m)\u001b[0m\u001b[0;34m\u001b[0m\u001b[0;34m\u001b[0m\u001b[0m\n",
      "\u001b[0;31mUnboundLocalError\u001b[0m: local variable 'var' referenced before assignment"
     ]
    }
   ],
   "source": [
    "def outer():\n",
    "    var = 'xpto'\n",
    "    def inner():\n",
    "        print(f\"I'm in the inner function and var came as {var}!\")\n",
    "        var = 'inside'\n",
    "        print(f\"I'm in the inner function and I changed var to {var}\")\n",
    "\n",
    "    print(f'In outer, before calling inner: {var}')\n",
    "    inner()\n",
    "    print(f'In outer, after calling inner: {var}')\n",
    "\n",
    "outer()"
   ]
  },
  {
   "cell_type": "markdown",
   "metadata": {},
   "source": [
    "Ouch! This is exactly like when we try to access and than modify a variable inside a function. Let's try to simplify this to test what we wanna test!"
   ]
  },
  {
   "cell_type": "code",
   "execution_count": 12,
   "metadata": {},
   "outputs": [
    {
     "name": "stdout",
     "output_type": "stream",
     "text": [
      "In outer, before calling inner: xpto\n",
      "I'm in the inner function and I changed var to inside\n",
      "In outer, after calling inner: xpto\n"
     ]
    }
   ],
   "source": [
    "def outer():\n",
    "    var = 'xpto'\n",
    "    def inner():\n",
    "        var = 'inside'\n",
    "        print(f\"I'm in the inner function and I changed var to {var}\")\n",
    "\n",
    "    print(f'In outer, before calling inner: {var}')\n",
    "    inner()\n",
    "    print(f'In outer, after calling inner: {var}')\n",
    "\n",
    "outer()"
   ]
  },
  {
   "cell_type": "markdown",
   "metadata": {},
   "source": [
    "Cool! We managed to run it because we didn't try to access the variable before altering it inside the inner function. Still, what if we wanted the inner function to alter the value of the variable that belongs to the alter function?! We use the trick below. This works just like the 'global' command for \"first level\" functions."
   ]
  },
  {
   "cell_type": "code",
   "execution_count": 13,
   "metadata": {},
   "outputs": [
    {
     "name": "stdout",
     "output_type": "stream",
     "text": [
      "In outer, before calling inner: xpto\n",
      "I'm in the inner function and var came as xpto!\n",
      "I'm in the inner function and I changed var to inside\n",
      "In outer, after calling inner: inside\n"
     ]
    }
   ],
   "source": [
    "def outer():\n",
    "    var = 'xpto'\n",
    "    def inner():\n",
    "        nonlocal var\n",
    "        print(f\"I'm in the inner function and var came as {var}!\")\n",
    "        var = 'inside'\n",
    "        print(f\"I'm in the inner function and I changed var to {var}\")\n",
    "\n",
    "    print(f'In outer, before calling inner: {var}')\n",
    "    inner()\n",
    "    print(f'In outer, after calling inner: {var}')\n",
    "\n",
    "outer()"
   ]
  },
  {
   "cell_type": "markdown",
   "metadata": {},
   "source": [
    "# Closure\n",
    "We can think of the closure of a function as all values that exist inside it, including its methods and attributes. When an execution of a function is attributed to a variable, it retains the closure of that execution."
   ]
  },
  {
   "cell_type": "code",
   "execution_count": 19,
   "metadata": {},
   "outputs": [
    {
     "name": "stdout",
     "output_type": "stream",
     "text": [
      "Hello, mr xpto\n"
     ]
    }
   ],
   "source": [
    "def outer():\n",
    "    var = 'xpto' #This is called a free variable to the inner functions!\n",
    "    \n",
    "    def inner():\n",
    "        print(f'Hello, mr {var}')\n",
    "        \n",
    "    return inner\n",
    "\n",
    "fun_var = outer()\n",
    "fun_var()"
   ]
  },
  {
   "cell_type": "markdown",
   "metadata": {},
   "source": [
    "Do you see how outer was executed in the penultimate line, still fun_var, a variable holding an already executed function, still holds the closure of the executed function? Awesome!\n",
    "Now... Why did you I mention 'free variable' in that comment? Well... You can see the free variables of closure. Check it out!"
   ]
  },
  {
   "cell_type": "code",
   "execution_count": 20,
   "metadata": {},
   "outputs": [
    {
     "data": {
      "text/plain": [
       "('var',)"
      ]
     },
     "execution_count": 20,
     "metadata": {},
     "output_type": "execute_result"
    }
   ],
   "source": [
    "fun_var.__code__.co_freevars"
   ]
  },
  {
   "cell_type": "markdown",
   "metadata": {},
   "source": [
    "There it is! A tuple with all the variables that belong to a closure! Remember the variable called var was defined inside the function called outer.\n",
    "Now there's one more important thing to know about free variables. Closures are only created if there is at least one free variable in the function that was called. Let's repeat the example above, but without any free variables."
   ]
  },
  {
   "cell_type": "code",
   "execution_count": 21,
   "metadata": {},
   "outputs": [
    {
     "name": "stdout",
     "output_type": "stream",
     "text": [
      "Hello, mr!\n"
     ]
    }
   ],
   "source": [
    "def outer():\n",
    "    def inner():\n",
    "        print(f'Hello, mr!')\n",
    "        \n",
    "    return inner\n",
    "\n",
    "fun_var = outer()\n",
    "fun_var()"
   ]
  },
  {
   "cell_type": "markdown",
   "metadata": {},
   "source": [
    "And now let's see if we find  a closure in the variable that received the execution of the function."
   ]
  },
  {
   "cell_type": "code",
   "execution_count": 22,
   "metadata": {},
   "outputs": [
    {
     "data": {
      "text/plain": [
       "()"
      ]
     },
     "execution_count": 22,
     "metadata": {},
     "output_type": "execute_result"
    }
   ],
   "source": [
    "fun_var.__code__.co_freevars"
   ]
  },
  {
   "cell_type": "markdown",
   "metadata": {},
   "source": [
    "Probably the concept of closure is not very clear. Well, lemme show you something that might clarify things a little bit. Let's use a example similar to what has been used above, with a little difference."
   ]
  },
  {
   "cell_type": "code",
   "execution_count": 27,
   "metadata": {},
   "outputs": [
    {
     "name": "stdout",
     "output_type": "stream",
     "text": [
      "Hello, mr 1\n",
      "Hello, mr 2\n",
      "Hello, mr 3\n"
     ]
    }
   ],
   "source": [
    "def outer():\n",
    "    var = 0 #This is called a free variable to the inner functions!\n",
    "    \n",
    "    def inner():\n",
    "        nonlocal var\n",
    "        var += 1\n",
    "        print(f'Hello, mr {var}')\n",
    "        \n",
    "    return inner\n",
    "\n",
    "fun_var = outer()\n",
    "fun_var()\n",
    "fun_var()\n",
    "fun_var()"
   ]
  },
  {
   "cell_type": "markdown",
   "metadata": {},
   "source": [
    "Holy fucking cow! How the hell the local value of a variable (var, which belongs to outer, which was undirectly called by fun_var) kept its value in between various calls to it?! Simple: closure! Do you still doubt it? Take a look at the next execution. There's no closure if there's no variable to retain it!"
   ]
  },
  {
   "cell_type": "code",
   "execution_count": 30,
   "metadata": {},
   "outputs": [
    {
     "name": "stdout",
     "output_type": "stream",
     "text": [
      "Hello, mr 1\n",
      "Hello, mr 1\n",
      "Hello, mr 1\n"
     ]
    }
   ],
   "source": [
    "def outer():\n",
    "    var = 0 #This is called a free variable to the inner functions!\n",
    "    \n",
    "    def inner():\n",
    "        nonlocal var\n",
    "        var += 1\n",
    "        print(f'Hello, mr {var}')\n",
    "        \n",
    "    return inner\n",
    "\n",
    "outer()()\n",
    "outer()()\n",
    "outer()()"
   ]
  },
  {
   "cell_type": "markdown",
   "metadata": {},
   "source": [
    "Mind blown!"
   ]
  },
  {
   "cell_type": "markdown",
   "metadata": {},
   "source": [
    "Let's try one more thing to test closures. Do they really demand a function with an inner function in order to exist?!"
   ]
  },
  {
   "cell_type": "code",
   "execution_count": 3,
   "metadata": {},
   "outputs": [
    {
     "name": "stdout",
     "output_type": "stream",
     "text": [
      "Hello mr. 1\n",
      "Hello mr. 2\n",
      "Hello mr. 3\n",
      "()\n"
     ]
    }
   ],
   "source": [
    "var = 0\n",
    "def func():\n",
    "    global var\n",
    "    var += 1\n",
    "    print(f'Hello mr. {var}')\n",
    "    \n",
    "fun_var = func\n",
    "fun_var()\n",
    "fun_var()\n",
    "fun_var()\n",
    "\n",
    "print(fun_var.__code__.co_freevars)"
   ]
  },
  {
   "cell_type": "markdown",
   "metadata": {},
   "source": [
    "You can probably see the question is kinda stupid, since we're forced to work with globals to test such hypothesis. Plus you can see that no closure exists because the variable var is not being returned by the command that checks the contents of closures."
   ]
  },
  {
   "cell_type": "markdown",
   "metadata": {},
   "source": [
    "# Decorators\n",
    "\n",
    "By definition a decorator is a high order function which receives another function as parameter and extends its logic without explicitly altering it, in pythonic terms it decorates the received function. A decorator must also return a function.\n",
    "\n",
    "Let's show a simple example of what we're talking about. Basically our decorator receives a logic, in the form of a function, which can be executed only if the user has admin privileges. If he's got such privileges, then that logic can be executed, therefore the function receveid as parameter is returned. If he's not an admin, though, the decorator returns a useless function, which will do nothing."
   ]
  },
  {
   "cell_type": "code",
   "execution_count": 36,
   "metadata": {},
   "outputs": [
    {
     "name": "stdout",
     "output_type": "stream",
     "text": [
      "<class 'function'>\n",
      "This can be executed only if the user has admin privileges\n",
      "<class 'function'>\n",
      "This can be executed only if the user has admin privileges\n"
     ]
    }
   ],
   "source": [
    "user_access = 'admin'\n",
    "\n",
    "#This is a decorator. Notice it receives a function. It also returns a function.\n",
    "def is_admin(func):\n",
    "    if user_access == 'admin':\n",
    "        return func\n",
    "    else:\n",
    "        return lambda :None\n",
    "\n",
    "#This is a regular function\n",
    "def f1():\n",
    "    print('This can be executed only if the user has admin privileges')\n",
    "\n",
    "#Now we call our decorator passing the logic it must filter.\n",
    "fun_var = is_admin(f1)\n",
    "print(type(fun_var))\n",
    "fun_var()\n",
    "\n",
    "user_access = 'guest'\n",
    "print(type(fun_var))\n",
    "fun_var()"
   ]
  },
  {
   "cell_type": "markdown",
   "metadata": {},
   "source": [
    "And this is for you to understand why we used fun_var in the example above. Remember is_admin returns a function, and a fuction is executed only if you suceed its name by parentheses."
   ]
  },
  {
   "cell_type": "code",
   "execution_count": 37,
   "metadata": {},
   "outputs": [
    {
     "name": "stdout",
     "output_type": "stream",
     "text": [
      "This can be executed only if the user has admin privileges\n"
     ]
    }
   ],
   "source": [
    "user_access = 'admin'\n",
    "is_admin(f1)()"
   ]
  },
  {
   "cell_type": "markdown",
   "metadata": {},
   "source": [
    "What's been shown is not the pythonic way of using decorators, though. The right way to do it is declaring an inner function which will be always returned by the outer function, which is the decorator. This decorator receives a function, which is to be decorated,and the inner function executes it. Let's adapt the example above to this paradigm. By the way, it's done this way because a decorator must actually return a closure!"
   ]
  },
  {
   "cell_type": "code",
   "execution_count": 38,
   "metadata": {},
   "outputs": [
    {
     "name": "stdout",
     "output_type": "stream",
     "text": [
      "<class 'function'>\n",
      "This can be executed only if the user has admin privileges\n",
      "<class 'function'>\n"
     ]
    }
   ],
   "source": [
    "user_access = 'admin'\n",
    "\n",
    "#This is a decorator. Notice it receives a function. It also returns a function.\n",
    "def is_admin(func):\n",
    "    #It's common practice to call this inner function wrapper_<xpto>\n",
    "    def wrapper_is_admin():\n",
    "        if user_access == 'admin':\n",
    "            return func() #since wrapper_is_admin will be returned and executed, we gotta call func() now\n",
    "        else:\n",
    "            return None #no need for dumb lambda because wrapper_is_admin will be returned this time\n",
    "\n",
    "    return wrapper_is_admin #And here the inner function is being returned\n",
    "\n",
    "#This is a regular function\n",
    "def f1():\n",
    "    print('This can be executed only if the user has admin privileges')\n",
    "\n",
    "#Now we call our decorator passing the logic it must filter.\n",
    "fun_var = is_admin(f1)\n",
    "print(type(fun_var))\n",
    "fun_var()\n",
    "\n",
    "user_access = 'guest'\n",
    "print(type(fun_var))\n",
    "fun_var()"
   ]
  },
  {
   "cell_type": "markdown",
   "metadata": {},
   "source": [
    "Our decorator is pretty limited, though. It can not decorate function which receive parameters. Check this out!"
   ]
  },
  {
   "cell_type": "code",
   "execution_count": 39,
   "metadata": {},
   "outputs": [
    {
     "ename": "TypeError",
     "evalue": "wrapper_is_admin() takes 0 positional arguments but 2 were given",
     "output_type": "error",
     "traceback": [
      "\u001b[0;31m---------------------------------------------------------------------------\u001b[0m",
      "\u001b[0;31mTypeError\u001b[0m                                 Traceback (most recent call last)",
      "\u001b[0;32m<ipython-input-39-617fa104f2e2>\u001b[0m in \u001b[0;36m<module>\u001b[0;34m\u001b[0m\n\u001b[1;32m     14\u001b[0m \u001b[0;34m\u001b[0m\u001b[0m\n\u001b[1;32m     15\u001b[0m \u001b[0mfun_var\u001b[0m \u001b[0;34m=\u001b[0m \u001b[0mis_admin\u001b[0m\u001b[0;34m(\u001b[0m\u001b[0mf1\u001b[0m\u001b[0;34m)\u001b[0m\u001b[0;34m\u001b[0m\u001b[0;34m\u001b[0m\u001b[0m\n\u001b[0;32m---> 16\u001b[0;31m \u001b[0mfun_var\u001b[0m\u001b[0;34m(\u001b[0m\u001b[0;36m5\u001b[0m\u001b[0;34m,\u001b[0m \u001b[0;36m10\u001b[0m\u001b[0;34m)\u001b[0m\u001b[0;34m\u001b[0m\u001b[0;34m\u001b[0m\u001b[0m\n\u001b[0m",
      "\u001b[0;31mTypeError\u001b[0m: wrapper_is_admin() takes 0 positional arguments but 2 were given"
     ]
    }
   ],
   "source": [
    "user_access = 'admin'\n",
    "\n",
    "def is_admin(func):\n",
    "    def wrapper_is_admin():\n",
    "        if user_access == 'admin':\n",
    "            return func()\n",
    "        else:\n",
    "            return None\n",
    "\n",
    "    return wrapper_is_admin\n",
    "\n",
    "def f1(a, b):\n",
    "    return a + b\n",
    "\n",
    "fun_var = is_admin(f1)\n",
    "fun_var(5, 10)"
   ]
  },
  {
   "cell_type": "markdown",
   "metadata": {},
   "source": [
    "How do we create a decorator that can handle any function, despite the ammount of parameters it receives? Well..."
   ]
  },
  {
   "cell_type": "code",
   "execution_count": 40,
   "metadata": {},
   "outputs": [
    {
     "name": "stdout",
     "output_type": "stream",
     "text": [
      "15\n",
      "None\n"
     ]
    }
   ],
   "source": [
    "user_access = 'admin'\n",
    "\n",
    "def is_admin(func):\n",
    "    def wrapper_is_admin(*args, **kwargs):\n",
    "        if user_access == 'admin':\n",
    "            return func(*args, **kwargs)\n",
    "        else:\n",
    "            return None\n",
    "\n",
    "    return wrapper_is_admin\n",
    "\n",
    "def f1(a, b):\n",
    "    return a + b\n",
    "\n",
    "fun_var = is_admin(f1)\n",
    "print(fun_var(5, 10))\n",
    "\n",
    "user_access = 'user'\n",
    "print(fun_var(5, 10))"
   ]
  },
  {
   "cell_type": "markdown",
   "metadata": {},
   "source": [
    "# The @ or pie syntax\n",
    "This is an easier way to decorate a function. Notice, though, that, with this syntax, the decorated function can not be ran by itself anymore. Whenever you call it, you'll be calling it decorated by the decorator defined after the @ signal.\n",
    "In short, you won't have to pass the function to be decorated as a parameter to the decorator and you won't call the decorator anymore. You'll call the decorated function directly."
   ]
  },
  {
   "cell_type": "code",
   "execution_count": 42,
   "metadata": {},
   "outputs": [
    {
     "name": "stdout",
     "output_type": "stream",
     "text": [
      "15\n",
      "None\n"
     ]
    }
   ],
   "source": [
    "user_access = 'admin'\n",
    "\n",
    "def is_admin(func):\n",
    "    def wrapper_is_admin(*args, **kwargs):\n",
    "        if user_access == 'admin':\n",
    "            return func(*args, **kwargs)\n",
    "        else:\n",
    "            return None\n",
    "\n",
    "    return wrapper_is_admin\n",
    "@is_admin\n",
    "def f1(a, b):\n",
    "    return a + b\n",
    "\n",
    "print(fun_var(5, 10))\n",
    "\n",
    "user_access = 'user'\n",
    "print(fun_var(5, 10))"
   ]
  },
  {
   "cell_type": "markdown",
   "metadata": {},
   "source": [
    "So... What's so good about this? Well, imagine you have a situation where you have a shitload of functions and, for each one of them, you have to check if the user has got admin privileges. By using decorators you only have to code the logic to check access level once.\n",
    "\n",
    "Decorators, though, can hide the internal information, such as documentation, of a decorated functions when using the @ syntax. Check this out."
   ]
  },
  {
   "cell_type": "code",
   "execution_count": 47,
   "metadata": {},
   "outputs": [
    {
     "name": "stdout",
     "output_type": "stream",
     "text": [
      "Help on function wrapper_is_admin in module __main__:\n",
      "\n",
      "wrapper_is_admin(*args, **kwargs)\n",
      "    Documentation of the inner wrapper\n",
      "\n"
     ]
    }
   ],
   "source": [
    "user_access = 'admin'\n",
    "\n",
    "def is_admin(func):\n",
    "    def wrapper_is_admin(*args, **kwargs):\n",
    "        '''\n",
    "        Documentation of the inner wrapper\n",
    "        '''\n",
    "        if user_access == 'admin':\n",
    "            return func(*args, **kwargs)\n",
    "        else:\n",
    "            return None\n",
    "\n",
    "    return wrapper_is_admin\n",
    "@is_admin\n",
    "def f1(a, b):\n",
    "    '''\n",
    "    Documentation of f1.\n",
    "    '''\n",
    "    return a + b\n",
    "\n",
    "help(f1)"
   ]
  },
  {
   "cell_type": "markdown",
   "metadata": {},
   "source": [
    "How to fix this? Well... Bizarrely enough, you decorate the inner wrapper function with some cool stuff from a module."
   ]
  },
  {
   "cell_type": "code",
   "execution_count": 48,
   "metadata": {},
   "outputs": [
    {
     "name": "stdout",
     "output_type": "stream",
     "text": [
      "Help on function f1 in module __main__:\n",
      "\n",
      "f1(a, b)\n",
      "    Documentation of f1.\n",
      "\n"
     ]
    }
   ],
   "source": [
    "import functools\n",
    "user_access = 'admin'\n",
    "\n",
    "def is_admin(func):\n",
    "    @functools.wraps(func)\n",
    "    def wrapper_is_admin(*args, **kwargs):\n",
    "        '''\n",
    "        Documentation of the inner wrapper\n",
    "        '''\n",
    "        if user_access == 'admin':\n",
    "            return func(*args, **kwargs)\n",
    "        else:\n",
    "            return None\n",
    "\n",
    "    return wrapper_is_admin\n",
    "@is_admin\n",
    "def f1(a, b):\n",
    "    '''\n",
    "    Documentation of f1.\n",
    "    '''\n",
    "    return a + b\n",
    "\n",
    "help(f1)"
   ]
  },
  {
   "cell_type": "markdown",
   "metadata": {},
   "source": [
    "This happens because of introspection. Instrospection is the ability a function has of knowing stuff about itself, such as its name and its documentation."
   ]
  },
  {
   "cell_type": "code",
   "execution_count": null,
   "metadata": {},
   "outputs": [],
   "source": []
  }
 ],
 "metadata": {
  "kernelspec": {
   "display_name": "Python 3",
   "language": "python",
   "name": "python3"
  },
  "language_info": {
   "codemirror_mode": {
    "name": "ipython",
    "version": 3
   },
   "file_extension": ".py",
   "mimetype": "text/x-python",
   "name": "python",
   "nbconvert_exporter": "python",
   "pygments_lexer": "ipython3",
   "version": "3.7.6"
  }
 },
 "nbformat": 4,
 "nbformat_minor": 4
}
