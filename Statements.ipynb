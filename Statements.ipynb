{
 "cells": [
  {
   "cell_type": "markdown",
   "metadata": {},
   "source": [
    "# <b>if</b>, <b>elif</b> and <b>else</b>"
   ]
  },
  {
   "cell_type": "code",
   "execution_count": null,
   "metadata": {},
   "outputs": [],
   "source": []
  },
  {
   "cell_type": "code",
   "execution_count": 1,
   "metadata": {},
   "outputs": [
    {
     "name": "stdout",
     "output_type": "stream",
     "text": [
      "Lelê is the chick in the house!\n"
     ]
    }
   ],
   "source": [
    "name = 'Lelê'\n",
    "\n",
    "if (name == 'Júpiter'):\n",
    "    who = 'the big dog'\n",
    "elif (name == 'Circó'):\n",
    "    who = 'the small dog'\n",
    "elif (name == 'Luciano'):\n",
    "    who = 'yourself'\n",
    "elif (name == 'Alessandra' or name == 'Lelê'):\n",
    "    who = 'the chick in the house'\n",
    "else:\n",
    "    who ='unknown to me'\n",
    "\n",
    "print(f'{name} is {who}!')"
   ]
  },
  {
   "cell_type": "markdown",
   "metadata": {},
   "source": [
    "# for"
   ]
  },
  {
   "cell_type": "code",
   "execution_count": 2,
   "metadata": {},
   "outputs": [
    {
     "name": "stdout",
     "output_type": "stream",
     "text": [
      "This are the members of my family:\n",
      "Circó\n",
      "Júpiter\n",
      "Alessandra\n",
      "Luciano\n",
      "--------\n",
      "Luciano\n"
     ]
    }
   ],
   "source": [
    "family = ['Circó','Júpiter','Alessandra','Luciano']\n",
    "name = 'Nome'\n",
    "\n",
    "print('This are the members of my family:')\n",
    "\n",
    "for name in family:\n",
    "    print(name)\n",
    "\n",
    "#Notice how the variable name used in the for loop is not exclusive to it\n",
    "print ('--------')\n",
    "print(name)"
   ]
  },
  {
   "cell_type": "markdown",
   "metadata": {},
   "source": [
    "<br>for with <b>strings</b>"
   ]
  },
  {
   "cell_type": "code",
   "execution_count": 3,
   "metadata": {},
   "outputs": [
    {
     "name": "stdout",
     "output_type": "stream",
     "text": [
      "Luciano's letter 1: L\n",
      "Luciano's letter 2: u\n",
      "Luciano's letter 3: c\n",
      "Luciano's letter 4: i\n",
      "Luciano's letter 5: a\n",
      "Luciano's letter 6: n\n",
      "Luciano's letter 7: o\n"
     ]
    }
   ],
   "source": [
    "index = 0\n",
    "\n",
    "for letter in name:\n",
    "    index = index + 1\n",
    "    print(f\"{name}'s letter {index}: {letter}\")"
   ]
  },
  {
   "cell_type": "markdown",
   "metadata": {},
   "source": [
    "<br>\n",
    "for <b>without a variable name</b>"
   ]
  },
  {
   "cell_type": "code",
   "execution_count": 4,
   "metadata": {},
   "outputs": [
    {
     "name": "stdout",
     "output_type": "stream",
     "text": [
      "Luciano has 7 letter!\n"
     ]
    }
   ],
   "source": [
    "qt_letters = 0\n",
    "\n",
    "for _ in name:\n",
    "    qt_letters = qt_letters + 1\n",
    "    \n",
    "print(f'{name} has {qt_letters} letter!')"
   ]
  },
  {
   "cell_type": "markdown",
   "metadata": {},
   "source": [
    "<br><b>Tuple unpacking</b> with for"
   ]
  },
  {
   "cell_type": "code",
   "execution_count": 14,
   "metadata": {},
   "outputs": [
    {
     "name": "stdout",
     "output_type": "stream",
     "text": [
      "('Alessandra', 'Luciano')\n",
      "('Júpiter', 'Circó')\n",
      "--------\n",
      "Alessandra\n",
      "Luciano\n",
      "Júpiter\n",
      "Circó\n"
     ]
    }
   ],
   "source": [
    "my_family = [('Alessandra','Luciano'),('Júpiter','Circó')]\n",
    "\n",
    "#This is NOT tuple unpacking. I just wanna show you how this prints the tuples in the list\n",
    "for item_in_list in my_family:\n",
    "    print(item_in_list)\n",
    "    \n",
    "print ('--------')\n",
    "\n",
    "#Now this IS tuple unpacking\n",
    "for (a,b) in my_family:\n",
    "    print(a)\n",
    "    print(b)"
   ]
  },
  {
   "cell_type": "markdown",
   "metadata": {},
   "source": [
    "<br><b>Dictionaries</b> with for"
   ]
  },
  {
   "cell_type": "code",
   "execution_count": 27,
   "metadata": {},
   "outputs": [
    {
     "name": "stdout",
     "output_type": "stream",
     "text": [
      "name\n",
      "species\n",
      "appearance\n",
      "-------\n",
      "('name', 'Circó') - <class 'tuple'>\n",
      "('species', 'dog') - <class 'tuple'>\n",
      "('appearance', 'cute') - <class 'tuple'>\n",
      "-------\n",
      "Circó\n",
      "dog\n",
      "cute\n",
      "-------\n",
      "Circó\n",
      "dog\n",
      "cute\n"
     ]
    }
   ],
   "source": [
    "my_dict  = {'name':'Circó','species':'dog','appearance':'cute'}\n",
    "\n",
    "#By default, it will show the labels of the items\n",
    "for var in my_dict:\n",
    "    print(var)\n",
    "\n",
    "print ('-------')\n",
    "    \n",
    "#If you wanna get labels and values, do this to return tuples\n",
    "for var in my_dict.items():\n",
    "    print(f'{var} - {type(var)}')\n",
    "    \n",
    "print ('-------')\n",
    "    \n",
    "#If you wanna get the values of the items, you gotta can unpack the tuples...\n",
    "for (label,value) in my_dict.items():\n",
    "    print(value)\n",
    "    \n",
    "print ('-------')\n",
    "\n",
    "#... or get them directly  like this\n",
    "for valor in my_dict.values():\n",
    "    print(valor)"
   ]
  },
  {
   "cell_type": "markdown",
   "metadata": {},
   "source": [
    "# while"
   ]
  },
  {
   "cell_type": "code",
   "execution_count": 1,
   "metadata": {},
   "outputs": [
    {
     "name": "stdout",
     "output_type": "stream",
     "text": [
      "I've reached 5. Time to stop\n"
     ]
    }
   ],
   "source": [
    "x = 0\n",
    "while x < 5:\n",
    "    x = x + 1\n",
    "else:\n",
    "    print(f\"I've reached {x}. Time to stop.\")"
   ]
  },
  {
   "cell_type": "markdown",
   "metadata": {},
   "source": [
    "# <b>break</b>, <b>pass</b>, and <b>continue</b>"
   ]
  },
  {
   "cell_type": "code",
   "execution_count": 20,
   "metadata": {},
   "outputs": [
    {
     "name": "stdout",
     "output_type": "stream",
     "text": [
      "Even though the loop goes to 11, I wanted to stop at 5\n",
      "----------\n",
      "1\n",
      "2\n",
      "4\n",
      "5\n",
      "----------\n",
      "C\n",
      "i\n",
      "c\n",
      "ó\n"
     ]
    }
   ],
   "source": [
    "#break is like a ESCAPE BOTTOM\n",
    "x = 0\n",
    "\n",
    "while x < 11:\n",
    "    x += 1\n",
    "    if (x == 5):\n",
    "        break\n",
    "        \n",
    "print(f'Even though the loop goes to 11, I wanted to stop at {x}')\n",
    "\n",
    "print('----------')\n",
    "\n",
    "\n",
    "#pass is like an IGNORE\n",
    "x = 0\n",
    "\n",
    "while x < 5:\n",
    "    x += 1\n",
    "    if (x == 3):\n",
    "        pass\n",
    "    else:\n",
    "        print(x)\n",
    "        \n",
    "print('----------')\n",
    "\n",
    "\n",
    "#continue is like a ESCAPE TOP\n",
    "name = 'Circó'\n",
    "\n",
    "for letter in name:\n",
    "    \n",
    "    if (letter == 'r'):\n",
    "        continue\n",
    "        \n",
    "    print(letter)"
   ]
  },
  {
   "cell_type": "code",
   "execution_count": null,
   "metadata": {},
   "outputs": [],
   "source": []
  }
 ],
 "metadata": {
  "kernelspec": {
   "display_name": "Python 3",
   "language": "python",
   "name": "python3"
  },
  "language_info": {
   "codemirror_mode": {
    "name": "ipython",
    "version": 3
   },
   "file_extension": ".py",
   "mimetype": "text/x-python",
   "name": "python",
   "nbconvert_exporter": "python",
   "pygments_lexer": "ipython3",
   "version": "3.7.4"
  }
 },
 "nbformat": 4,
 "nbformat_minor": 4
}
