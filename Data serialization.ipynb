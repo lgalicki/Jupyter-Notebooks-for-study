{
 "cells": [
  {
   "cell_type": "markdown",
   "metadata": {},
   "source": [
    "# Data serialization\n",
    "\n",
    "Python can only write strings to a file. If you want to write a dictionary to a file, which will be later read by another script in order to recreate that dictionary, well... you're screwed. That's where data serialization comes in. It provides a way of recording this sort of stuff into a file automatically. You won't need to worry about making up a format and implementing all the rules about it."
   ]
  },
  {
   "cell_type": "code",
   "execution_count": 1,
   "metadata": {},
   "outputs": [
    {
     "ename": "TypeError",
     "evalue": "write() argument must be str, not dict",
     "output_type": "error",
     "traceback": [
      "\u001b[0;31m---------------------------------------------------------------------------\u001b[0m",
      "\u001b[0;31mTypeError\u001b[0m                                 Traceback (most recent call last)",
      "\u001b[0;32m<ipython-input-1-492541145b03>\u001b[0m in \u001b[0;36m<module>\u001b[0;34m\u001b[0m\n\u001b[1;32m      1\u001b[0m \u001b[0;32mwith\u001b[0m \u001b[0mopen\u001b[0m\u001b[0;34m(\u001b[0m\u001b[0;34m'woops.txt'\u001b[0m\u001b[0;34m,\u001b[0m \u001b[0;34m'w'\u001b[0m\u001b[0;34m)\u001b[0m \u001b[0;32mas\u001b[0m \u001b[0mopened_file\u001b[0m\u001b[0;34m:\u001b[0m\u001b[0;34m\u001b[0m\u001b[0;34m\u001b[0m\u001b[0m\n\u001b[0;32m----> 2\u001b[0;31m     \u001b[0mopened_file\u001b[0m\u001b[0;34m.\u001b[0m\u001b[0mwrite\u001b[0m\u001b[0;34m(\u001b[0m\u001b[0;34m{\u001b[0m\u001b[0;34m'k1'\u001b[0m\u001b[0;34m:\u001b[0m \u001b[0;36m1\u001b[0m\u001b[0;34m,\u001b[0m \u001b[0;34m'k2'\u001b[0m\u001b[0;34m:\u001b[0m \u001b[0;36m2\u001b[0m\u001b[0;34m}\u001b[0m\u001b[0;34m)\u001b[0m\u001b[0;34m\u001b[0m\u001b[0;34m\u001b[0m\u001b[0m\n\u001b[0m",
      "\u001b[0;31mTypeError\u001b[0m: write() argument must be str, not dict"
     ]
    }
   ],
   "source": [
    "with open('woops.txt', 'w') as opened_file:\n",
    "    opened_file.write({'k1': 1, 'k2': 2})"
   ]
  },
  {
   "cell_type": "markdown",
   "metadata": {},
   "source": [
    "# Pickle\n",
    "This is the default serialization method for Python. It's got its drawbacks. First, pickled data can only be read by Python. Second, it's not considered secure. You could unpickle data that contains malicious commands that would run during the unpickling operation that could screw you bad.\n",
    "\n",
    "Pickle saves data in binary format, therefore you must open filed in binary mode."
   ]
  },
  {
   "cell_type": "code",
   "execution_count": 3,
   "metadata": {},
   "outputs": [
    {
     "name": "stdout",
     "output_type": "stream",
     "text": [
      "<class 'tuple'>\n",
      "({'name': 'Circó', 'age': 10, 'size': 'small'}, {'name': 'Júpiter', 'age': 6, 'size': 'medium'})\n"
     ]
    }
   ],
   "source": [
    "import pickle\n",
    "\n",
    "dog1 = {'name': 'Circó', 'age': 10, 'size': 'small'}\n",
    "dog2 = {'name': 'Júpiter', 'age': 6, 'size': 'medium'}\n",
    "dogs = (dog1, dog2)\n",
    "\n",
    "with open('pickledData', 'wb') as o_f:\n",
    "    pickle.dump(dogs, o_f)\n",
    "    \n",
    "with open('pickledData', 'rb') as o_f:\n",
    "    obj = pickle.load(o_f)\n",
    "    print(type(obj))\n",
    "    print(obj)"
   ]
  },
  {
   "cell_type": "code",
   "execution_count": null,
   "metadata": {},
   "outputs": [],
   "source": []
  }
 ],
 "metadata": {
  "kernelspec": {
   "display_name": "Python 3",
   "language": "python",
   "name": "python3"
  },
  "language_info": {
   "codemirror_mode": {
    "name": "ipython",
    "version": 3
   },
   "file_extension": ".py",
   "mimetype": "text/x-python",
   "name": "python",
   "nbconvert_exporter": "python",
   "pygments_lexer": "ipython3",
   "version": "3.7.6"
  }
 },
 "nbformat": 4,
 "nbformat_minor": 4
}
