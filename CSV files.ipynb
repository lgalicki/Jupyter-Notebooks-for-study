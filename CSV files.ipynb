{
 "cells": [
  {
   "cell_type": "markdown",
   "metadata": {},
   "source": [
    "Python has a built in module ready to work with CSV files. It's called CSV. Let's see some of its features."
   ]
  },
  {
   "cell_type": "markdown",
   "metadata": {},
   "source": [
    "# Reading CSV files\n",
    "This piece of cake. Use the csv.reader function to memorize the content of the n a csv.reader object. It's is an iterable which contains a list for each row in the file. Each column will be, obviously, an element of the lists."
   ]
  },
  {
   "cell_type": "code",
   "execution_count": 8,
   "metadata": {},
   "outputs": [
    {
     "name": "stdout",
     "output_type": "stream",
     "text": [
      "['JAN', '  340', '  360', '  417']\n",
      "['FEB', '  318', '  342', '  391']\n",
      "['MAR', '  362', '  406', '  419']\n",
      "['APR', '  348', '  396', '  461']\n",
      "['MAY', '  363', '  420', '  472']\n",
      "['JUN', '  435', '  472', '  535']\n",
      "['JUL', '  491', '  548', '  622']\n",
      "['AUG', '  505', '  559', '  606']\n",
      "['SEP', '  404', '  463', '  508']\n",
      "['OCT', '  359', '  407', '  461']\n",
      "['NOV', '  310', '  362', '  390']\n",
      "['DEC', '  337', '  405', '  432']\n"
     ]
    }
   ],
   "source": [
    "import csv\n",
    "\n",
    "with open('airtravel.csv') as open_file:\n",
    "    file_content = csv.reader(open_file)\n",
    "    next(file_content) #skipping the header of the file. This skips a position in any iterable, actually.\n",
    "    for row in file_content:\n",
    "        print(row)"
   ]
  },
  {
   "cell_type": "markdown",
   "metadata": {},
   "source": [
    "# Writing CSV files\n",
    "This is pretty straight forward. You create a writer object associated to a file you open in read or append mode and then you call its writerow method passing a list to it. This will write a row in the file and each item of the list will be in a column."
   ]
  },
  {
   "cell_type": "code",
   "execution_count": 11,
   "metadata": {},
   "outputs": [
    {
     "name": "stdout",
     "output_type": "stream",
     "text": [
      "Done!\n"
     ]
    }
   ],
   "source": [
    "import csv\n",
    "\n",
    "with open('writtenCSV.csv', 'a') as open_file:\n",
    "    writer = csv.writer(open_file)\n",
    "    for x in range (1, 11):\n",
    "        row = [x, x * 2, x * 3, x * 4]\n",
    "        writer.writerow(row)\n",
    "        \n",
    "print('Done!')"
   ]
  },
  {
   "cell_type": "code",
   "execution_count": null,
   "metadata": {},
   "outputs": [],
   "source": []
  }
 ],
 "metadata": {
  "kernelspec": {
   "display_name": "Python 3",
   "language": "python",
   "name": "python3"
  },
  "language_info": {
   "codemirror_mode": {
    "name": "ipython",
    "version": 3
   },
   "file_extension": ".py",
   "mimetype": "text/x-python",
   "name": "python",
   "nbconvert_exporter": "python",
   "pygments_lexer": "ipython3",
   "version": "3.7.6"
  }
 },
 "nbformat": 4,
 "nbformat_minor": 4
}
