{
 "cells": [
  {
   "cell_type": "markdown",
   "metadata": {},
   "source": [
    "Python has a built in module ready to work with CSV files. It's called CSV. Let's see some of its features."
   ]
  },
  {
   "cell_type": "markdown",
   "metadata": {},
   "source": [
    "# Reading CSV files\n",
    "This piece of cake. Use the csv.reader function to memorize the content of the csv in a reader object. It's is an iterable that contains a list for each row in the file. Each column will be, obviously, an element of the lists."
   ]
  },
  {
   "cell_type": "code",
   "execution_count": 8,
   "metadata": {},
   "outputs": [
    {
     "name": "stdout",
     "output_type": "stream",
     "text": [
      "['JAN', '  340', '  360', '  417']\n",
      "['FEB', '  318', '  342', '  391']\n",
      "['MAR', '  362', '  406', '  419']\n",
      "['APR', '  348', '  396', '  461']\n",
      "['MAY', '  363', '  420', '  472']\n",
      "['JUN', '  435', '  472', '  535']\n",
      "['JUL', '  491', '  548', '  622']\n",
      "['AUG', '  505', '  559', '  606']\n",
      "['SEP', '  404', '  463', '  508']\n",
      "['OCT', '  359', '  407', '  461']\n",
      "['NOV', '  310', '  362', '  390']\n",
      "['DEC', '  337', '  405', '  432']\n"
     ]
    }
   ],
   "source": [
    "import csv\n",
    "\n",
    "with open('airtravel.csv') as open_file:\n",
    "    file_content = csv.reader(open_file)\n",
    "    next(file_content) #skipping the header of the file. This skips a position in any iterable, actually.\n",
    "    for row in file_content:\n",
    "        print(row)"
   ]
  },
  {
   "cell_type": "markdown",
   "metadata": {},
   "source": [
    "# Writing CSV files\n",
    "This is pretty straight forward. You create a writer object associated to a file you open in read or append mode and then you call its writerow method passing a list to it. This will write a row in the file and each item of the list will be in a column."
   ]
  },
  {
   "cell_type": "code",
   "execution_count": 11,
   "metadata": {},
   "outputs": [
    {
     "name": "stdout",
     "output_type": "stream",
     "text": [
      "Done!\n"
     ]
    }
   ],
   "source": [
    "import csv\n",
    "\n",
    "with open('writtenCSV.csv', 'a') as open_file:\n",
    "    writer = csv.writer(open_file)\n",
    "    for x in range (1, 11):\n",
    "        row = [x, x * 2, x * 3, x * 4]\n",
    "        writer.writerow(row)\n",
    "        \n",
    "print('Done!')"
   ]
  },
  {
   "cell_type": "markdown",
   "metadata": {},
   "source": [
    "# Changing the default field and line delimiters\n",
    "\n",
    "This is pretty straight forward. You just gotta pass some more parameters in when creating the writer and reader csv objects. Check it out!"
   ]
  },
  {
   "cell_type": "code",
   "execution_count": 27,
   "metadata": {},
   "outputs": [
    {
     "name": "stdout",
     "output_type": "stream",
     "text": [
      "['1', '2', '3', '4']\n",
      "['2', '4', '6', '8']\n",
      "['3', '6', '9', '12']\n",
      "['4', '8', '12', '16']\n",
      "['5', '10', '15', '20']\n",
      "['6', '12', '18', '24']\n",
      "['7', '14', '21', '28']\n",
      "['8', '16', '24', '32']\n",
      "['9', '18', '27', '36']\n",
      "['10', '20', '30', '40']\n"
     ]
    }
   ],
   "source": [
    "import csv\n",
    "\n",
    "with open('writtenCSV2.csv', 'w') as open_file:\n",
    "    writer = csv.writer(open_file, delimiter = ';', lineterminator = '\\n')\n",
    "    for x in range(1, 11):\n",
    "        row = [x, x * 2, x * 3, x * 4]\n",
    "        writer.writerow(row)\n",
    "        \n",
    "with open('writtenCSV2.csv', 'r') as open_file:\n",
    "    reader = csv.reader(open_file, delimiter = ';', lineterminator = '\\n')\n",
    "    for row in reader:\n",
    "        print(row)"
   ]
  },
  {
   "cell_type": "markdown",
   "metadata": {},
   "source": [
    "# CSV dialects\n",
    "Dialects are pre or user defined settings specifying details about possible CSV formats. You can see the current available dialets by calling the following method:"
   ]
  },
  {
   "cell_type": "code",
   "execution_count": 20,
   "metadata": {},
   "outputs": [
    {
     "data": {
      "text/plain": [
       "['excel', 'excel-tab', 'unix']"
      ]
     },
     "execution_count": 20,
     "metadata": {},
     "output_type": "execute_result"
    }
   ],
   "source": [
    "csv.list_dialects()"
   ]
  },
  {
   "cell_type": "markdown",
   "metadata": {},
   "source": [
    "Now let's create our own dialect."
   ]
  },
  {
   "cell_type": "code",
   "execution_count": 43,
   "metadata": {},
   "outputs": [
    {
     "data": {
      "text/plain": [
       "['excel', 'excel-tab', 'unix', 'circolino']"
      ]
     },
     "execution_count": 43,
     "metadata": {},
     "output_type": "execute_result"
    }
   ],
   "source": [
    "csv.register_dialect('circolino', delimiter = '|', quoting = 2, lineterminator = '\\n')\n",
    "csv.list_dialects()"
   ]
  },
  {
   "cell_type": "markdown",
   "metadata": {},
   "source": [
    "Apparently quoting can be:\n",
    "<br>0 - no quotes\n",
    "<br>1 - quotes around any type of field\n",
    "<br>2 - quotes around strings only\n",
    "\n",
    "Now let's use our new dialect!"
   ]
  },
  {
   "cell_type": "code",
   "execution_count": 45,
   "metadata": {},
   "outputs": [],
   "source": [
    "with open('writtenCSV3.csv', 'w') as opened_file:\n",
    "    writer = csv.writer(opened_file, dialect = 'circolino')\n",
    "    for _ in range(5):\n",
    "        writer.writerow(['abc', 'jup', 'circolino', 24])"
   ]
  },
  {
   "cell_type": "code",
   "execution_count": null,
   "metadata": {},
   "outputs": [],
   "source": []
  }
 ],
 "metadata": {
  "kernelspec": {
   "display_name": "Python 3",
   "language": "python",
   "name": "python3"
  },
  "language_info": {
   "codemirror_mode": {
    "name": "ipython",
    "version": 3
   },
   "file_extension": ".py",
   "mimetype": "text/x-python",
   "name": "python",
   "nbconvert_exporter": "python",
   "pygments_lexer": "ipython3",
   "version": "3.7.6"
  }
 },
 "nbformat": 4,
 "nbformat_minor": 4
}
