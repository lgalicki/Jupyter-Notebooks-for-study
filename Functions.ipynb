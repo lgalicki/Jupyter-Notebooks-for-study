{
 "cells": [
  {
   "cell_type": "markdown",
   "metadata": {},
   "source": [
    "As expected, functions inside variables are <b>NOT</b> global. Check it out!"
   ]
  },
  {
   "cell_type": "code",
   "execution_count": 8,
   "metadata": {},
   "outputs": [
    {
     "name": "stdout",
     "output_type": "stream",
     "text": [
      "Out of the function, before calling it: Out\n",
      "Inside the function: José\n",
      "Out of the function, after calling it: Out\n"
     ]
    }
   ],
   "source": [
    "name = 'Out'\n",
    "print(f'Out of the function, before calling it: {name}')\n",
    "test_func('José')\n",
    "\n",
    "def test_func(name):\n",
    "    print(f'Inside the function: {name}')\n",
    "      \n",
    "print(f'Out of the function, after calling it: {name}')"
   ]
  },
  {
   "cell_type": "markdown",
   "metadata": {},
   "source": [
    "# Returning value\n",
    "You just have to use the command <b>return</b>"
   ]
  },
  {
   "cell_type": "code",
   "execution_count": 10,
   "metadata": {},
   "outputs": [
    {
     "data": {
      "text/plain": [
       "20"
      ]
     },
     "execution_count": 10,
     "metadata": {},
     "output_type": "execute_result"
    }
   ],
   "source": [
    "def double(x):\n",
    "    return x*2\n",
    "\n",
    "double(10)"
   ]
  },
  {
   "cell_type": "markdown",
   "metadata": {},
   "source": [
    "# Creating help for your function\n",
    "This will be displayed when the <b>help()</b> command is called for your function"
   ]
  },
  {
   "cell_type": "code",
   "execution_count": 11,
   "metadata": {},
   "outputs": [
    {
     "name": "stdout",
     "output_type": "stream",
     "text": [
      "Help on function my_function in module __main__:\n",
      "\n",
      "my_function()\n",
      "    This is a useless function.\n",
      "    INPUT: none\n",
      "    OUTPUT: none\n",
      "\n"
     ]
    }
   ],
   "source": [
    "def my_function():\n",
    "    '''\n",
    "    This is a useless function.\n",
    "    INPUT: none\n",
    "    OUTPUT: none\n",
    "    '''\n",
    "    print('This is a useless function')\n",
    "    \n",
    "help(my_function)"
   ]
  },
  {
   "cell_type": "markdown",
   "metadata": {},
   "source": [
    "# Setting a default value for a parameter when it's not informed"
   ]
  },
  {
   "cell_type": "code",
   "execution_count": 12,
   "metadata": {},
   "outputs": [
    {
     "name": "stdout",
     "output_type": "stream",
     "text": [
      "Hello Gasparzinho!\n"
     ]
    }
   ],
   "source": [
    "def greeter(name='Gasparzinho'):\n",
    "    print(f'Hello {name}!')\n",
    "    \n",
    "greeter()"
   ]
  },
  {
   "cell_type": "code",
   "execution_count": 13,
   "metadata": {},
   "outputs": [],
   "source": [
    "#Pig Latin translator"
   ]
  },
  {
   "cell_type": "code",
   "execution_count": 35,
   "metadata": {},
   "outputs": [
    {
     "name": "stdin",
     "output_type": "stream",
     "text": [
      "Enter word you wish to convert to Pig Latin:  apple\n"
     ]
    },
    {
     "name": "stdout",
     "output_type": "stream",
     "text": [
      "apple in Pig Latin is appleay\n"
     ]
    }
   ],
   "source": [
    "def conv_piglatin(word):\n",
    "    '''\n",
    "    Receives a word and converts it to Pig Latin.\n",
    "    INPUT: (word to be converted)\n",
    "    OUTPUT: (converted word)\n",
    "    '''\n",
    "    \n",
    "    #if the first letter is a vowel\n",
    "    if word[0].lower() in 'aeiou':\n",
    "        return word+'ay'\n",
    "    #if the first letter is a consonant\n",
    "    else:\n",
    "        return word[1:]+word[0]+'ay'\n",
    "    \n",
    "inpt = input('Enter word you wish to convert to Pig Latin: ')\n",
    "conv = conv_piglatin(inpt)\n",
    "print(f'{inpt} in Pig Latin is {conv}')"
   ]
  },
  {
   "cell_type": "markdown",
   "metadata": {},
   "source": [
    "<br>Let's push the CPU a little bit?! Let's make it find big prime numbers!"
   ]
  },
  {
   "cell_type": "code",
   "execution_count": 5,
   "metadata": {},
   "outputs": [
    {
     "name": "stdin",
     "output_type": "stream",
     "text": [
      "Give me a number: 520\n"
     ]
    },
    {
     "name": "stdout",
     "output_type": "stream",
     "text": [
      "The biggest prime under 520 is 509\n"
     ]
    }
   ],
   "source": [
    "from math import sqrt\n",
    "\n",
    "def biggest_prime(num):\n",
    "    '''\n",
    "    Returns the biggest prime bellow or equal to the number informed\n",
    "    '''\n",
    "    for x in range(num,0,-1):\n",
    "        if prime(x) == True:\n",
    "            return x\n",
    "\n",
    "def prime(num):\n",
    "    '''\n",
    "    Returns if a number is prime\n",
    "    '''\n",
    "    if num % 2 == 0 and num > 2: \n",
    "        return False\n",
    "    for i in range(3, int(sqrt(num)) + 1, 2):\n",
    "        if num % i == 0:\n",
    "            return False\n",
    "    return True\n",
    "\n",
    "input_num = input(f'Give me a number:')\n",
    "max_prime = biggest_prime(int(input_num))\n",
    "print(f'The biggest prime under {input_num} is {max_prime}')"
   ]
  },
  {
   "cell_type": "markdown",
   "metadata": {},
   "source": [
    "# <br> Functions with variable number of arguments"
   ]
  },
  {
   "cell_type": "code",
   "execution_count": 17,
   "metadata": {},
   "outputs": [
    {
     "data": {
      "text/plain": [
       "666"
      ]
     },
     "execution_count": 17,
     "metadata": {},
     "output_type": "execute_result"
    }
   ],
   "source": [
    "def sumall (*args):\n",
    "    return sum(args)\n",
    "\n",
    "sumall(10,20,1,2,3,4,5,6,7,8,600)"
   ]
  },
  {
   "cell_type": "code",
   "execution_count": 29,
   "metadata": {},
   "outputs": [
    {
     "name": "stdout",
     "output_type": "stream",
     "text": [
      "Nothing found in the menu. You will starve.\n"
     ]
    }
   ],
   "source": [
    "def food_choice (**kwargs):\n",
    "    if 'fruit' in kwargs:\n",
    "        print(f\"I found a fruit in the menu, and it is {kwargs['fruit']}\")\n",
    "    elif 'veggie' in kwargs:\n",
    "        print(f\"I found a vegetable in the menu, and it is {kwargs['veggie']}\")\n",
    "    else:\n",
    "        print('Nothing found in the menu. You will starve.')\n",
    "        \n",
    "food_choice(fruait='banana',veggoie='brocoli')"
   ]
  },
  {
   "cell_type": "code",
   "execution_count": 32,
   "metadata": {},
   "outputs": [
    {
     "name": "stdout",
     "output_type": "stream",
     "text": [
      "I'd like 20 bananas\n"
     ]
    }
   ],
   "source": [
    "def qt_food (*args,**kwargs):\n",
    "    print(f\"I'd like {args[1]} {kwargs['food']}\")\n",
    "    \n",
    "qt_food(10,20,30,animal='cat',fish='golden',food='bananas')"
   ]
  },
  {
   "cell_type": "code",
   "execution_count": 39,
   "metadata": {},
   "outputs": [
    {
     "data": {
      "text/plain": [
       "'a'"
      ]
     },
     "execution_count": 39,
     "metadata": {},
     "output_type": "execute_result"
    }
   ],
   "source": [
    "my_string = ''\n",
    "my_string = my_string + 'a'\n",
    "my_string"
   ]
  },
  {
   "cell_type": "code",
   "execution_count": null,
   "metadata": {},
   "outputs": [],
   "source": []
  }
 ],
 "metadata": {
  "kernelspec": {
   "display_name": "Python 3",
   "language": "python",
   "name": "python3"
  },
  "language_info": {
   "codemirror_mode": {
    "name": "ipython",
    "version": 3
   },
   "file_extension": ".py",
   "mimetype": "text/x-python",
   "name": "python",
   "nbconvert_exporter": "python",
   "pygments_lexer": "ipython3",
   "version": "3.7.4"
  }
 },
 "nbformat": 4,
 "nbformat_minor": 4
}
