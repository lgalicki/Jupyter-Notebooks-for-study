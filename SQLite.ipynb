{
 "cells": [
  {
   "cell_type": "markdown",
   "metadata": {},
   "source": [
    "SQLite rox your sox! Let's get down to business!"
   ]
  },
  {
   "cell_type": "markdown",
   "metadata": {},
   "source": [
    "# Connecting to a data base\n",
    "Let's connect to the SQLite database, which means, actually, specifying the name of the file in which the database is/will be stored."
   ]
  },
  {
   "cell_type": "code",
   "execution_count": 1,
   "metadata": {},
   "outputs": [],
   "source": [
    "import sqlite3\n",
    "connection = sqlite3.connect('my_database.db')"
   ]
  },
  {
   "cell_type": "markdown",
   "metadata": {},
   "source": [
    "Now let's create a cursor, which is the object we use to execute sql statements."
   ]
  },
  {
   "cell_type": "code",
   "execution_count": 2,
   "metadata": {},
   "outputs": [],
   "source": [
    "cursor = connection.cursor()"
   ]
  },
  {
   "cell_type": "markdown",
   "metadata": {},
   "source": [
    "And now it's pure SQL madness! Let's have some fun."
   ]
  },
  {
   "cell_type": "markdown",
   "metadata": {},
   "source": [
    "# Issuing SQL statements"
   ]
  },
  {
   "cell_type": "markdown",
   "metadata": {},
   "source": [
    "Let's create a table."
   ]
  },
  {
   "cell_type": "code",
   "execution_count": 7,
   "metadata": {},
   "outputs": [],
   "source": [
    "sql = \"\"\"\n",
    "    CREATE TABLE IF NOT EXISTS employees(\n",
    "        id INTEGER,\n",
    "        name VARCHAR(64),\n",
    "        department VARCHAR(32),\n",
    "        phone VARCHAR(16),\n",
    "        email VARCHAR(32)\n",
    "    );\n",
    "\"\"\"\n",
    "\n",
    "cursor.execute(sql)\n",
    "connection.commit()\n",
    "connection.close()"
   ]
  },
  {
   "cell_type": "markdown",
   "metadata": {},
   "source": [
    "Above we used the <code>execute()</code> method. It accepts only one SQL statement at a time. Bellow we'll use the <code>executescript()</code> method, that accepts various SQL statetments at once.\n",
    "\n",
    "Now let's insert some data into our new table!"
   ]
  },
  {
   "cell_type": "code",
   "execution_count": 18,
   "metadata": {},
   "outputs": [],
   "source": [
    "connection = sqlite3.connect('my_database.db')\n",
    "cursor = connection.cursor()\n",
    "\n",
    "sql = \"\"\"\n",
    "    INSERT INTO employees(id, name, department, phone, email) VALUES (1, \"John Smith\", \"IT\", \"+55(41)3266-8568\", \"spamail@gmail.com\");\n",
    "    INSERT INTO employees VALUES(2, \"Anne Barker\", \"Accounting\", \"+45(33)6548-8521\", \"anne@barker.com\");\n",
    "    INSERT INTO employees VALUES(3, \"Luiza Lípio\", \"Cleaning\", \"+69(24)2469-2424\", \"veio@mala.com\");\n",
    "\"\"\"\n",
    "\n",
    "cursor.executescript(sql)\n",
    "connection.commit()\n",
    "connection.close()"
   ]
  },
  {
   "cell_type": "markdown",
   "metadata": {},
   "source": [
    "Let's select data from our table!"
   ]
  },
  {
   "cell_type": "code",
   "execution_count": 26,
   "metadata": {},
   "outputs": [
    {
     "name": "stdout",
     "output_type": "stream",
     "text": [
      "(1, 'John Smith', 'IT', '+55(41)3266-8568', 'spamail@gmail.com')\n",
      "(2, 'Anne Barker', 'Accounting', '+45(33)6548-8521', 'anne@barker.com')\n",
      "(3, 'Luiza Lípio', 'Cleaning', '+69(24)2469-2424', 'veio@mala.com')\n"
     ]
    }
   ],
   "source": [
    "connection = sqlite3.connect('my_database.db')\n",
    "cursor = connection.cursor()\n",
    "\n",
    "sql = \"SELECT * FROM employees;\"\n",
    "\n",
    "cursor.execute(sql)\n",
    "\n",
    "#fetchall() is optional. It's possible to iterate directly over cursor too.\n",
    "for row in cursor.fetchall():\n",
    "    print(row)\n",
    "    \n",
    "connection.close()"
   ]
  },
  {
   "cell_type": "code",
   "execution_count": 31,
   "metadata": {},
   "outputs": [
    {
     "name": "stdout",
     "output_type": "stream",
     "text": [
      "('Anne Barker', '+45(33)6548-8521')\n"
     ]
    }
   ],
   "source": [
    "connection = sqlite3.connect('my_database.db')\n",
    "cursor = connection.cursor()\n",
    "\n",
    "sql = \"SELECT name, phone FROM employees WHERE name LIKE 'A%';\"\n",
    "\n",
    "cursor.execute(sql)\n",
    "\n",
    "for row in cursor:\n",
    "    print(row)\n",
    "    \n",
    "connection.close()"
   ]
  },
  {
   "cell_type": "code",
   "execution_count": 32,
   "metadata": {},
   "outputs": [
    {
     "name": "stdout",
     "output_type": "stream",
     "text": [
      "(3, 'Luiza Lípio', 'Cleaning', '+69(24)2469-2424', 'veio@mala.com')\n",
      "(2, 'Anne Barker', 'Accounting', '+45(33)6548-8521', 'anne@barker.com')\n",
      "(1, 'John Smith', 'IT', '+55(41)3266-8568', 'spamail@gmail.com')\n"
     ]
    }
   ],
   "source": [
    "connection = sqlite3.connect('my_database.db')\n",
    "cursor = connection.cursor()\n",
    "\n",
    "sql = \"SELECT * FROM employees ORDER BY id DESC;\"\n",
    "\n",
    "cursor.execute(sql)\n",
    "\n",
    "for row in cursor:\n",
    "    print(row)\n",
    "    \n",
    "connection.close()"
   ]
  },
  {
   "cell_type": "code",
   "execution_count": 33,
   "metadata": {},
   "outputs": [
    {
     "name": "stdout",
     "output_type": "stream",
     "text": [
      "(1, 'John Smith', 'IT', '+55(41)3266-8568', 'spamail@gmail.com')\n"
     ]
    }
   ],
   "source": [
    "connection = sqlite3.connect('my_database.db')\n",
    "cursor = connection.cursor()\n",
    "\n",
    "sql = \"SELECT * FROM employees WHERE id=1;\"\n",
    "\n",
    "cursor.execute(sql)\n",
    "\n",
    "for row in cursor:\n",
    "    print(row)\n",
    "    \n",
    "connection.close()"
   ]
  },
  {
   "cell_type": "markdown",
   "metadata": {},
   "source": [
    "If you know that only one record will be returned, it's possible to use the <code>fetchone()</code> method."
   ]
  },
  {
   "cell_type": "code",
   "execution_count": 34,
   "metadata": {},
   "outputs": [
    {
     "name": "stdout",
     "output_type": "stream",
     "text": [
      "(1, 'John Smith', 'IT', '+55(41)3266-8568', 'spamail@gmail.com')\n"
     ]
    }
   ],
   "source": [
    "connection = sqlite3.connect('my_database.db')\n",
    "cursor = connection.cursor()\n",
    "\n",
    "sql = \"SELECT * FROM employees WHERE id=1;\"\n",
    "\n",
    "cursor.execute(sql)\n",
    "row = cursor.fetchone()\n",
    "print(row)\n",
    "    \n",
    "connection.close()"
   ]
  },
  {
   "cell_type": "markdown",
   "metadata": {},
   "source": [
    "# Parameterized SQL statements\n",
    "Mark the parts in your SQL statements where parameters will be passed with <code>?</code> and then provide these parameters inside a tuple that will be passed as a second argument in <code>execute()</code> method or the cursor object.\n",
    "\n",
    "<B><U>SUPER IMPORTANT:</U> in order to avoid SQL injection, always sanitize inputs that will be inserted into an SQL statement. This means taking off any ?s out of them before using the input in the SQL commands!"
   ]
  },
  {
   "cell_type": "code",
   "execution_count": 35,
   "metadata": {},
   "outputs": [
    {
     "name": "stdin",
     "output_type": "stream",
     "text": [
      "Enter ID:  2\n"
     ]
    },
    {
     "name": "stdout",
     "output_type": "stream",
     "text": [
      "(2, 'Anne Barker', 'Accounting', '+45(33)6548-8521', 'anne@barker.com')\n",
      "(3, 'Luiza Lípio', 'Cleaning', '+69(24)2469-2424', 'veio@mala.com')\n"
     ]
    }
   ],
   "source": [
    "connection = sqlite3.connect('my_database.db')\n",
    "cursor = connection.cursor()\n",
    "\n",
    "min_id = input('Enter ID: ')\n",
    "\n",
    "sql = 'SELECT * FROM employees WHERE id >= ?;'\n",
    "cursor.execute(sql, (min_id,))\n",
    "for row in cursor:\n",
    "    print(row)\n",
    "    \n",
    "connection.close()"
   ]
  },
  {
   "cell_type": "code",
   "execution_count": 39,
   "metadata": {},
   "outputs": [
    {
     "name": "stdout",
     "output_type": "stream",
     "text": [
      "(1, 'John Smith', 'IT', '+55(41)3266-8568', 'spamail@gmail.com')\n",
      "(2, 'Anne Barker', 'Accounting', '+45(33)6548-8521', 'anne@barker.com')\n",
      "(3, 'Luiza Lípio', 'Cleaning', '+69(24)2469-2424', 'veio@mala.com')\n",
      "(4, 'Ale Sandra', 'Sales', '+55(41)3254-8752', 'aless@ndra.com')\n"
     ]
    }
   ],
   "source": [
    "connection = sqlite3.connect('my_database.db')\n",
    "cursor = connection.cursor()\n",
    "\n",
    "new_row = (4, 'Ale Sandra', 'Sales', '+55(41)3254-8752', 'aless@ndra.com')\n",
    "\n",
    "sql = 'INSERT INTO employees VALUES (?, ?, ?, ?, ?);'\n",
    "cursor.execute(sql, new_row)\n",
    "\n",
    "\n",
    "sql = 'SELECT * FROM employees;'\n",
    "cursor.execute(sql)\n",
    "for row in cursor:\n",
    "    print(row)\n",
    "\n",
    "connection.commit()\n",
    "connection.close()"
   ]
  },
  {
   "cell_type": "markdown",
   "metadata": {},
   "source": [
    "# Update and delete\n",
    "Just some more SQL fun."
   ]
  },
  {
   "cell_type": "code",
   "execution_count": 46,
   "metadata": {},
   "outputs": [
    {
     "name": "stdout",
     "output_type": "stream",
     "text": [
      "(1, 'John Smith', 'IT', '+55(41)3266-8568', 'spamail@gmail.com')\n",
      "(2, 'Anne Barker', 'Accounting', '+99(99)9999-9999', 'anne@barker.com')\n",
      "(3, 'Luiza Lípio', 'Cleaning', '+69(24)2469-2424', 'veio@mala.com')\n",
      "(4, 'Ale Sandra', 'Sales', '+55(41)3254-8752', 'aless@ndra.com')\n"
     ]
    }
   ],
   "source": [
    "connection = sqlite3.connect('my_database.db')\n",
    "cursor = connection.cursor()\n",
    "\n",
    "sql = \"UPDATE employees SET phone='+99(99)9999-9999' WHERE id=2;\"\n",
    "cursor.execute(sql)\n",
    "connection.commit()\n",
    "\n",
    "sql = \"SELECT * FROM employees;\"\n",
    "cursor.execute(sql)\n",
    "\n",
    "for row in cursor:\n",
    "    print(row)\n",
    "\n",
    "connection.close()"
   ]
  },
  {
   "cell_type": "markdown",
   "metadata": {},
   "source": [
    "Let's get rid of Mrs. Luiza, shall we!?"
   ]
  },
  {
   "cell_type": "code",
   "execution_count": 49,
   "metadata": {},
   "outputs": [
    {
     "name": "stdout",
     "output_type": "stream",
     "text": [
      "(1, 'John Smith', 'IT', '+55(41)3266-8568', 'spamail@gmail.com')\n",
      "(2, 'Anne Barker', 'Accounting', '+99(99)9999-9999', 'anne@barker.com')\n",
      "(4, 'Ale Sandra', 'Sales', '+55(41)3254-8752', 'aless@ndra.com')\n"
     ]
    }
   ],
   "source": [
    "connection = sqlite3.connect('my_database.db')\n",
    "cursor = connection.cursor()\n",
    "\n",
    "sql = \"DELETE FROM employees WHERE name LIKE 'Luiza%';\"\n",
    "cursor.execute(sql)\n",
    "connection.commit()\n",
    "\n",
    "sql = \"SELECT * FROM employees;\"\n",
    "cursor.execute(sql)\n",
    "for row in cursor:\n",
    "    print(row)\n",
    "    \n",
    "connection.close()"
   ]
  },
  {
   "cell_type": "code",
   "execution_count": null,
   "metadata": {},
   "outputs": [],
   "source": []
  }
 ],
 "metadata": {
  "kernelspec": {
   "display_name": "Python 3",
   "language": "python",
   "name": "python3"
  },
  "language_info": {
   "codemirror_mode": {
    "name": "ipython",
    "version": 3
   },
   "file_extension": ".py",
   "mimetype": "text/x-python",
   "name": "python",
   "nbconvert_exporter": "python",
   "pygments_lexer": "ipython3",
   "version": "3.7.6"
  }
 },
 "nbformat": 4,
 "nbformat_minor": 4
}
