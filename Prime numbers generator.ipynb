{
 "cells": [
  {
   "cell_type": "code",
   "execution_count": 107,
   "metadata": {},
   "outputs": [
    {
     "name": "stdin",
     "output_type": "stream",
     "text": [
      "How many prime numbers do you want? 10\n"
     ]
    },
    {
     "name": "stdout",
     "output_type": "stream",
     "text": [
      "[2, 3, 5, 7, 11, 13, 17, 19, 23, 29]\n"
     ]
    }
   ],
   "source": [
    "def prime_list(qt_asked):\n",
    "    '''\n",
    "    Returns a list of primes.\n",
    "    INPUT: quantity of primes to be returnes\n",
    "    OUTPUT: list with prime numbers\n",
    "    '''\n",
    "    plist = list() #list of prime numbers discovered\n",
    "    tested_number = 2 #number which will be tested to see if it's prime \n",
    "    \n",
    "    while len(plist) < int(qt_asked):\n",
    "        append = True\n",
    "        for pos,test_div in enumerate(plist):\n",
    "            if tested_number % plist[pos] == 0:\n",
    "                append = False\n",
    "\n",
    "        if append == True:\n",
    "            plist.append(tested_number)\n",
    "\n",
    "        if len(plist) == int(qt_asked):\n",
    "            return plist\n",
    "            \n",
    "        tested_number += 1\n",
    "        \n",
    "qtd = input('How many prime numbers do you want?')\n",
    "plist = prime_list(qtd)\n",
    "print(plist)"
   ]
  },
  {
   "cell_type": "code",
   "execution_count": null,
   "metadata": {},
   "outputs": [],
   "source": []
  }
 ],
 "metadata": {
  "kernelspec": {
   "display_name": "Python 3",
   "language": "python",
   "name": "python3"
  },
  "language_info": {
   "codemirror_mode": {
    "name": "ipython",
    "version": 3
   },
   "file_extension": ".py",
   "mimetype": "text/x-python",
   "name": "python",
   "nbconvert_exporter": "python",
   "pygments_lexer": "ipython3",
   "version": "3.7.4"
  }
 },
 "nbformat": 4,
 "nbformat_minor": 4
}
