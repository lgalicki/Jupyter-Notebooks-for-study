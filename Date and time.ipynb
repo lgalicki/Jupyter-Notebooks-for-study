{
 "cells": [
  {
   "cell_type": "markdown",
   "metadata": {},
   "source": [
    "# Date and time\n",
    "With this module we can get current date and time, format dates and times and make arithmetics with them. Super cool!\n",
    "\n",
    "First let's see how to get current info."
   ]
  },
  {
   "cell_type": "code",
   "execution_count": 78,
   "metadata": {},
   "outputs": [
    {
     "name": "stdout",
     "output_type": "stream",
     "text": [
      "2019-12-12\n",
      "2019-12-12 16:34:11.263082\n",
      "16:34:11\n"
     ]
    }
   ],
   "source": [
    "import datetime\n",
    "print(datetime.date.today())\n",
    "print(datetime.datetime.now())\n",
    "print(datetime.datetime.now().strftime(\"%H:%M:%S\"))"
   ]
  },
  {
   "cell_type": "markdown",
   "metadata": {},
   "source": [
    "Now let's format some other dates."
   ]
  },
  {
   "cell_type": "code",
   "execution_count": 83,
   "metadata": {},
   "outputs": [
    {
     "ename": "SyntaxError",
     "evalue": "can't assign to operator (<ipython-input-83-1bf349b3f2dd>, line 12)",
     "output_type": "error",
     "traceback": [
      "\u001b[0;36m  File \u001b[0;32m\"<ipython-input-83-1bf349b3f2dd>\"\u001b[0;36m, line \u001b[0;32m12\u001b[0m\n\u001b[0;31m    full-date = datetime.datetime(2014,10,11,10,10,10)\u001b[0m\n\u001b[0m                                                      ^\u001b[0m\n\u001b[0;31mSyntaxError\u001b[0m\u001b[0;31m:\u001b[0m can't assign to operator\n"
     ]
    }
   ],
   "source": [
    "time = datetime.time(4,24,3)\n",
    "date = datetime.date(2015,12,10)\n",
    "print(time)\n",
    "print(date)\n",
    "print(time.minute)\n",
    "print(time.hour)\n",
    "print(time.second)\n",
    "print(date.month)\n",
    "print(date.day)\n",
    "print(date.year)\n",
    "\n",
    "full-date = datetime.datetime(2014,10,11,10,10,10)"
   ]
  },
  {
   "cell_type": "markdown",
   "metadata": {},
   "source": [
    "Now let's make some arithmetics."
   ]
  },
  {
   "cell_type": "code",
   "execution_count": 81,
   "metadata": {},
   "outputs": [
    {
     "name": "stdout",
     "output_type": "stream",
     "text": [
      "I'm 14138 days old\n"
     ]
    }
   ],
   "source": [
    "current_date = datetime.date.today()\n",
    "my_birthday = datetime.date(1981,3,28)\n",
    "age = current_date - my_birthday\n",
    "print(f\"I'm {age.days} days old\")"
   ]
  },
  {
   "cell_type": "markdown",
   "metadata": {},
   "source": [
    "All this mess down there is because I need to work with absolutely compatible date and time formats."
   ]
  },
  {
   "cell_type": "code",
   "execution_count": 134,
   "metadata": {},
   "outputs": [
    {
     "data": {
      "text/plain": [
       "86382"
      ]
     },
     "execution_count": 134,
     "metadata": {},
     "output_type": "execute_result"
    }
   ],
   "source": [
    "current_time = datetime.datetime.now()\n",
    "\n",
    "time_i_farted = current_time.replace(hour=15)\n",
    "time_i_farted = current_time.replace(minute=22)\n",
    "time_i_farted = current_time.replace(second=34)\n",
    "\n",
    "fart_age = current_time - time_i_farted\n",
    "fart_age.seconds"
   ]
  },
  {
   "cell_type": "code",
   "execution_count": null,
   "metadata": {},
   "outputs": [],
   "source": []
  },
  {
   "cell_type": "code",
   "execution_count": null,
   "metadata": {},
   "outputs": [],
   "source": []
  },
  {
   "cell_type": "code",
   "execution_count": null,
   "metadata": {},
   "outputs": [],
   "source": []
  }
 ],
 "metadata": {
  "kernelspec": {
   "display_name": "Python 3",
   "language": "python",
   "name": "python3"
  },
  "language_info": {
   "codemirror_mode": {
    "name": "ipython",
    "version": 3
   },
   "file_extension": ".py",
   "mimetype": "text/x-python",
   "name": "python",
   "nbconvert_exporter": "python",
   "pygments_lexer": "ipython3",
   "version": "3.7.5"
  }
 },
 "nbformat": 4,
 "nbformat_minor": 4
}
