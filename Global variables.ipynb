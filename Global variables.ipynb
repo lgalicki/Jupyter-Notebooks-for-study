{
 "cells": [
  {
   "cell_type": "markdown",
   "metadata": {},
   "source": [
    "# Without global"
   ]
  },
  {
   "cell_type": "code",
   "execution_count": 5,
   "metadata": {},
   "outputs": [
    {
     "name": "stdout",
     "output_type": "stream",
     "text": [
      "Printing outside: Outside\n",
      "Printing inside: Inside\n",
      "Printing outside: Outside\n"
     ]
    }
   ],
   "source": [
    "var = 'Outside'\n",
    "print(f'Printing outside: {var}')\n",
    "def funct():\n",
    "    var = 'Inside'\n",
    "    print(f'Printing inside: {var}')\n",
    "        \n",
    "funct()\n",
    "print(f'Printing outside: {var}')"
   ]
  },
  {
   "cell_type": "markdown",
   "metadata": {},
   "source": [
    "#With global"
   ]
  },
  {
   "cell_type": "code",
   "execution_count": 6,
   "metadata": {},
   "outputs": [
    {
     "name": "stdout",
     "output_type": "stream",
     "text": [
      "Printing outside: Outside\n",
      "Printing inside: Inside\n",
      "Printing outside: Inside\n"
     ]
    }
   ],
   "source": [
    "var = 'Outside'\n",
    "print(f'Printing outside: {var}')\n",
    "def funct():\n",
    "    global var\n",
    "    var = 'Inside'\n",
    "    print(f'Printing inside: {var}')\n",
    "        \n",
    "funct()\n",
    "print(f'Printing outside: {var}')"
   ]
  }
 ],
 "metadata": {
  "kernelspec": {
   "display_name": "Python 3",
   "language": "python",
   "name": "python3"
  },
  "language_info": {
   "codemirror_mode": {
    "name": "ipython",
    "version": 3
   },
   "file_extension": ".py",
   "mimetype": "text/x-python",
   "name": "python",
   "nbconvert_exporter": "python",
   "pygments_lexer": "ipython3",
   "version": "3.7.4"
  }
 },
 "nbformat": 4,
 "nbformat_minor": 4
}
