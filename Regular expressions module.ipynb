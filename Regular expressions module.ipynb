{
 "cells": [
  {
   "cell_type": "markdown",
   "metadata": {},
   "source": [
    "There's already a module which might have a lot of the things you might want to do with text. Let's take a look at it and some of its most interesting commands."
   ]
  },
  {
   "cell_type": "code",
   "execution_count": 9,
   "metadata": {},
   "outputs": [],
   "source": [
    "import re"
   ]
  },
  {
   "cell_type": "markdown",
   "metadata": {},
   "source": [
    "# Search\n",
    "Wanna know if a string exists inside another one? Search no more, for you've found your Match! :)"
   ]
  },
  {
   "cell_type": "code",
   "execution_count": 13,
   "metadata": {},
   "outputs": [
    {
     "name": "stdout",
     "output_type": "stream",
     "text": [
      "pratos is in Três pratos de trigo para três tigres tristes\n",
      "pirulito is in NOT Três pratos de trigo para três tigres tristes\n"
     ]
    }
   ],
   "source": [
    "string1 = 'Três pratos de trigo para três tigres tristes'\n",
    "string2 = 'pratos'\n",
    "string3 = 'pirulito'\n",
    "\n",
    "if re.search(string2,string1):\n",
    "    print(f'{string2} is in {string1}')\n",
    "else:\n",
    "    print(f'{string2} is in NOT {string1}')\n",
    "    \n",
    "if re.search(string3,string1):\n",
    "    print(f'{string3} is in {string1}')\n",
    "else:\n",
    "    print(f'{string3} is in NOT {string1}')"
   ]
  },
  {
   "cell_type": "markdown",
   "metadata": {},
   "source": [
    "It's worth noting that re.search() actually returns an object or <code>None</code>."
   ]
  },
  {
   "cell_type": "code",
   "execution_count": 15,
   "metadata": {},
   "outputs": [
    {
     "name": "stdout",
     "output_type": "stream",
     "text": [
      "<class 're.Match'>\n",
      "<class 'NoneType'>\n"
     ]
    }
   ],
   "source": [
    "print(type(re.search(string2,string1)))\n",
    "print(type(re.search(string3,string1)))"
   ]
  },
  {
   "cell_type": "markdown",
   "metadata": {},
   "source": [
    "This object has some cool methods. Let's take a look at some. There are more than the ones shown bellow. These are just some quick examples."
   ]
  },
  {
   "cell_type": "code",
   "execution_count": 23,
   "metadata": {},
   "outputs": [
    {
     "name": "stdout",
     "output_type": "stream",
     "text": [
      "5\n",
      "11\n",
      "(5, 11)\n"
     ]
    }
   ],
   "source": [
    "search_res = re.search(string2,string1)\n",
    "print(search_res.start())\n",
    "print(search_res.end())\n",
    "print(search_res.span())"
   ]
  },
  {
   "cell_type": "markdown",
   "metadata": {},
   "source": [
    "# Findall()\n",
    "This will return every match of a given term in a string. It might look a bit dumb, but if you count the ammount of elements in the returned list you can find out how many times a certain term occurs inside a string.\n",
    "\n",
    "It can also become more interesting if we are in a situation where we're interested in something that would be dealt with using <b>repetition sintax</b> More about it bellow."
   ]
  },
  {
   "cell_type": "code",
   "execution_count": 24,
   "metadata": {},
   "outputs": [
    {
     "data": {
      "text/plain": [
       "['tr', 'tr', 'tr']"
      ]
     },
     "execution_count": 24,
     "metadata": {},
     "output_type": "execute_result"
    }
   ],
   "source": [
    "re.findall('tr','Três pratos de trigo para três tigres tristes')"
   ]
  },
  {
   "cell_type": "markdown",
   "metadata": {},
   "source": [
    "# Repetition sintax"
   ]
  },
  {
   "cell_type": "code",
   "execution_count": 46,
   "metadata": {},
   "outputs": [
    {
     "data": {
      "text/plain": [
       "['ann', 'a', 'a', 'a', 'an', 'an']"
      ]
     },
     "execution_count": 46,
     "metadata": {},
     "output_type": "execute_result"
    }
   ],
   "source": [
    "#Any pattern that has zero or more\n",
    "re.findall('an*',\"annie I'm gonna kick your ass as an ant\")"
   ]
  },
  {
   "cell_type": "code",
   "execution_count": 47,
   "metadata": {},
   "outputs": [
    {
     "data": {
      "text/plain": [
       "['ann', 'an', 'an']"
      ]
     },
     "execution_count": 47,
     "metadata": {},
     "output_type": "execute_result"
    }
   ],
   "source": [
    "#Any pattern that has one or more\n",
    "re.findall('an+',\"annie I'm gonna kick your ass as an ant\")"
   ]
  },
  {
   "cell_type": "code",
   "execution_count": 50,
   "metadata": {},
   "outputs": [
    {
     "data": {
      "text/plain": [
       "['an', 'a', 'a', 'a', 'an', 'an']"
      ]
     },
     "execution_count": 50,
     "metadata": {},
     "output_type": "execute_result"
    }
   ],
   "source": [
    "#Must happen zero or one time\n",
    "re.findall('an?',\"annie I'm gonna kick your ass as an ant\")"
   ]
  },
  {
   "cell_type": "code",
   "execution_count": 53,
   "metadata": {},
   "outputs": [
    {
     "data": {
      "text/plain": [
       "['ann']"
      ]
     },
     "execution_count": 53,
     "metadata": {},
     "output_type": "execute_result"
    }
   ],
   "source": [
    "#Must happen and specific number of times\n",
    "re.findall('an{2}',\"annie I'm gonna kick your ass as an ant\")"
   ]
  },
  {
   "cell_type": "code",
   "execution_count": 57,
   "metadata": {},
   "outputs": [
    {
     "data": {
      "text/plain": [
       "['ann', 'a', 'a', 'a', 'an', 'an']"
      ]
     },
     "execution_count": 57,
     "metadata": {},
     "output_type": "execute_result"
    }
   ],
   "source": [
    "#Must happen in a specific range of times\n",
    "re.findall('an{0,3}',\"annie I'm gonna kick your ass as an ant\")"
   ]
  },
  {
   "cell_type": "markdown",
   "metadata": {},
   "source": [
    "# Character sets\n",
    "What if you want to check if one or another character exists"
   ]
  },
  {
   "cell_type": "code",
   "execution_count": 59,
   "metadata": {},
   "outputs": [
    {
     "data": {
      "text/plain": [
       "['a', 'n', 't', 'a', 'n', 'a', 'a']"
      ]
     },
     "execution_count": 59,
     "metadata": {},
     "output_type": "execute_result"
    }
   ],
   "source": [
    "#Let's look for 'a's and 'n's\n",
    "re.findall('[an]','another day in paradise')"
   ]
  },
  {
   "cell_type": "code",
   "execution_count": 61,
   "metadata": {},
   "outputs": [
    {
     "data": {
      "text/plain": [
       "['an', 'an']"
      ]
     },
     "execution_count": 61,
     "metadata": {},
     "output_type": "execute_result"
    }
   ],
   "source": [
    "#We can combine this with repetition sintax. 'a's followed by one or more 'n's.\n",
    "re.findall('a[an+]','another day in paradise, annie')"
   ]
  },
  {
   "cell_type": "markdown",
   "metadata": {},
   "source": [
    "# Exclusion\n",
    "Wanna remove certain characters!? Use <code>[^...]</code> Let's remove spaces and 'a's. This could be usefull to remove punctuation."
   ]
  },
  {
   "cell_type": "code",
   "execution_count": 69,
   "metadata": {},
   "outputs": [
    {
     "data": {
      "text/plain": [
       "['três', 'p', 't', 's', 'de', 'tigre', 'p', 'r', 'três', 'p', 'tos', 'tristes']"
      ]
     },
     "execution_count": 69,
     "metadata": {},
     "output_type": "execute_result"
    }
   ],
   "source": [
    "re.findall('[^a ]+','três patas de tigre para três patos tristes')"
   ]
  },
  {
   "cell_type": "markdown",
   "metadata": {},
   "source": [
    "# Character ranges\n",
    "What if you wanna test agains a lot of letters? Typing all of them would be kinda dumb. Use character ranges!"
   ]
  },
  {
   "cell_type": "code",
   "execution_count": 80,
   "metadata": {},
   "outputs": [
    {
     "data": {
      "text/plain": [
       "['i',\n",
       " 'nnie',\n",
       " 't',\n",
       " 'looks',\n",
       " 'like',\n",
       " 'we',\n",
       " 'will',\n",
       " 'have',\n",
       " 'another',\n",
       " 'day',\n",
       " 'in',\n",
       " 'paradise']"
      ]
     },
     "execution_count": 80,
     "metadata": {},
     "output_type": "execute_result"
    }
   ],
   "source": [
    "# Here we wanna sequences of lower case letters\n",
    "re.findall('[a-z]+','Hi Annie! It looks like we will have another day in paradise! LOL!')"
   ]
  },
  {
   "cell_type": "code",
   "execution_count": 81,
   "metadata": {},
   "outputs": [
    {
     "data": {
      "text/plain": [
       "['H', 'A', 'I', 'LOL']"
      ]
     },
     "execution_count": 81,
     "metadata": {},
     "output_type": "execute_result"
    }
   ],
   "source": [
    "# Here we wanna sequences of upper case letters\n",
    "re.findall('[A-Z]+','Hi Annie! It looks like we will have another day in paradise! LOL!')"
   ]
  },
  {
   "cell_type": "code",
   "execution_count": 82,
   "metadata": {},
   "outputs": [
    {
     "data": {
      "text/plain": [
       "['Hi', 'Annie', 'It']"
      ]
     },
     "execution_count": 82,
     "metadata": {},
     "output_type": "execute_result"
    }
   ],
   "source": [
    "# Here we wanna sequences of upper case letter follow by lower case letters\n",
    "re.findall('[A-Z][a-z]+','Hi Annie! It looks like we will have another day in paradise! LOL!')"
   ]
  },
  {
   "cell_type": "code",
   "execution_count": 85,
   "metadata": {},
   "outputs": [
    {
     "data": {
      "text/plain": [
       "['Hi',\n",
       " 'Annie',\n",
       " 'It',\n",
       " 'looks',\n",
       " 'like',\n",
       " 'we',\n",
       " 'will',\n",
       " 'have',\n",
       " 'another',\n",
       " 'day',\n",
       " 'in',\n",
       " 'paradise',\n",
       " 'LOL']"
      ]
     },
     "execution_count": 85,
     "metadata": {},
     "output_type": "execute_result"
    }
   ],
   "source": [
    "# Here we wanna sequences of upper or lower case letters\n",
    "re.findall('[A-Za-z]+','Hi Annie! It looks like we will have another day in paradise! LOL!')"
   ]
  },
  {
   "cell_type": "markdown",
   "metadata": {},
   "source": [
    "# Escape codes\n",
    "<code>findall()</code> understands \"categories\" of characters."
   ]
  },
  {
   "cell_type": "code",
   "execution_count": 88,
   "metadata": {},
   "outputs": [
    {
     "data": {
      "text/plain": [
       "['4', '5', '6']"
      ]
     },
     "execution_count": 88,
     "metadata": {},
     "output_type": "execute_result"
    }
   ],
   "source": [
    "#This looks for digits\n",
    "re.findall('\\d','Annie posted #Annieday 456 times.')"
   ]
  },
  {
   "cell_type": "code",
   "execution_count": 89,
   "metadata": {},
   "outputs": [
    {
     "data": {
      "text/plain": [
       "['A',\n",
       " 'n',\n",
       " 'n',\n",
       " 'i',\n",
       " 'e',\n",
       " ' ',\n",
       " 'p',\n",
       " 'o',\n",
       " 's',\n",
       " 't',\n",
       " 'e',\n",
       " 'd',\n",
       " ' ',\n",
       " '#',\n",
       " 'A',\n",
       " 'n',\n",
       " 'n',\n",
       " 'i',\n",
       " 'e',\n",
       " 'd',\n",
       " 'a',\n",
       " 'y',\n",
       " ' ',\n",
       " ' ',\n",
       " 't',\n",
       " 'i',\n",
       " 'm',\n",
       " 'e',\n",
       " 's',\n",
       " '.']"
      ]
     },
     "execution_count": 89,
     "metadata": {},
     "output_type": "execute_result"
    }
   ],
   "source": [
    "#This looks for digits\n",
    "re.findall('\\D','Annie posted #Annieday 456 times.')"
   ]
  },
  {
   "cell_type": "code",
   "execution_count": 90,
   "metadata": {},
   "outputs": [
    {
     "data": {
      "text/plain": [
       "[' ', ' ', ' ', ' ']"
      ]
     },
     "execution_count": 90,
     "metadata": {},
     "output_type": "execute_result"
    }
   ],
   "source": [
    "#This looks for white spaces, tabs, line breaks...\n",
    "re.findall('\\s','Annie posted #Annieday 456 times.')"
   ]
  },
  {
   "cell_type": "code",
   "execution_count": 91,
   "metadata": {},
   "outputs": [
    {
     "data": {
      "text/plain": [
       "['A',\n",
       " 'n',\n",
       " 'n',\n",
       " 'i',\n",
       " 'e',\n",
       " 'p',\n",
       " 'o',\n",
       " 's',\n",
       " 't',\n",
       " 'e',\n",
       " 'd',\n",
       " '#',\n",
       " 'A',\n",
       " 'n',\n",
       " 'n',\n",
       " 'i',\n",
       " 'e',\n",
       " 'd',\n",
       " 'a',\n",
       " 'y',\n",
       " '4',\n",
       " '5',\n",
       " '6',\n",
       " 't',\n",
       " 'i',\n",
       " 'm',\n",
       " 'e',\n",
       " 's',\n",
       " '.']"
      ]
     },
     "execution_count": 91,
     "metadata": {},
     "output_type": "execute_result"
    }
   ],
   "source": [
    "#This looks for the opposite of above\n",
    "re.findall('\\S','Annie posted #Annieday 456 times.')"
   ]
  },
  {
   "cell_type": "code",
   "execution_count": 92,
   "metadata": {},
   "outputs": [
    {
     "data": {
      "text/plain": [
       "['A',\n",
       " 'n',\n",
       " 'n',\n",
       " 'i',\n",
       " 'e',\n",
       " 'p',\n",
       " 'o',\n",
       " 's',\n",
       " 't',\n",
       " 'e',\n",
       " 'd',\n",
       " 'A',\n",
       " 'n',\n",
       " 'n',\n",
       " 'i',\n",
       " 'e',\n",
       " 'd',\n",
       " 'a',\n",
       " 'y',\n",
       " '4',\n",
       " '5',\n",
       " '6',\n",
       " 't',\n",
       " 'i',\n",
       " 'm',\n",
       " 'e',\n",
       " 's']"
      ]
     },
     "execution_count": 92,
     "metadata": {},
     "output_type": "execute_result"
    }
   ],
   "source": [
    "#This looks for alphanumerics\n",
    "re.findall('\\w','Annie posted #Annieday 456 times.')"
   ]
  },
  {
   "cell_type": "code",
   "execution_count": 93,
   "metadata": {},
   "outputs": [
    {
     "data": {
      "text/plain": [
       "[' ', ' ', '#', ' ', ' ', '.']"
      ]
     },
     "execution_count": 93,
     "metadata": {},
     "output_type": "execute_result"
    }
   ],
   "source": [
    "#This looks for non alphanumerics\n",
    "re.findall('\\W','Annie posted #Annieday 456 times.')"
   ]
  },
  {
   "cell_type": "code",
   "execution_count": null,
   "metadata": {},
   "outputs": [],
   "source": []
  }
 ],
 "metadata": {
  "kernelspec": {
   "display_name": "Python 3",
   "language": "python",
   "name": "python3"
  },
  "language_info": {
   "codemirror_mode": {
    "name": "ipython",
    "version": 3
   },
   "file_extension": ".py",
   "mimetype": "text/x-python",
   "name": "python",
   "nbconvert_exporter": "python",
   "pygments_lexer": "ipython3",
   "version": "3.7.5"
  }
 },
 "nbformat": 4,
 "nbformat_minor": 4
}
