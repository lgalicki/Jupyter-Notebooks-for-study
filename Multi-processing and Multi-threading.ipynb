{
 "cells": [
  {
   "cell_type": "markdown",
   "metadata": {},
   "source": [
    "# Multi-processing\n",
    "Multi-processing will create processes that do not wait for anything to start and are truly executed in paralel by the CPU. Each process will have its own GIL and their own memory area. I can't imagine how painful it must be to make a process see stuff another process has processed.<br>\n",
    "You should opt for multi-processing when the problem at hand requires a lot of cpu.<br>\n",
    "In the example below we'll create ten processes that take 2 seconds to reach their end and launch them at the same time."
   ]
  },
  {
   "cell_type": "code",
   "execution_count": 8,
   "metadata": {},
   "outputs": [
    {
     "name": "stdout",
     "output_type": "stream",
     "text": [
      "Time is 1579822921.516473, Lulu. Gonna sleep now.\n",
      "Time is 1579822921.5184438, Lulu. Gonna sleep now.\n",
      "Time is 1579822921.5205343, Lulu. Gonna sleep now.\n",
      "Time is 1579822921.5228674, Lulu. Gonna sleep now.\n",
      "Time is 1579822921.5255604, Lulu. Gonna sleep now.\n",
      "Time is 1579822921.5317714, Lulu. Gonna sleep now.\n",
      "Time is 1579822921.534474, Lulu. Gonna sleep now.\n",
      "Time is 1579822921.5353034, Lulu. Gonna sleep now.\n",
      "I reached the end of the process\n",
      "Time is 1579822921.5387695, Lulu. Gonna sleep now.\n",
      "Time is 1579822921.5401866, Lulu. Gonna sleep now.\n",
      "I woke up. Bye!\n",
      "I woke up. Bye!\n",
      "I woke up. Bye!\n",
      "I woke up. Bye!\n",
      "I woke up. Bye!\n",
      "I woke up. Bye!\n",
      "I woke up. Bye!\n",
      "I woke up. Bye!\n",
      "I woke up. Bye!\n",
      "I woke up. Bye!\n"
     ]
    }
   ],
   "source": [
    "import multiprocessing as mp\n",
    "import time\n",
    "\n",
    "def f1(name):\n",
    "    print(f'Time is {time.time()}, {name}. Gonna sleep now.')\n",
    "    time.sleep(2)\n",
    "    print('I woke up. Bye!')\n",
    "    \n",
    "process_list = list()\n",
    "for x in range(10):\n",
    "    process = mp.Process(target=f1, args=('Lulu',)) # This MUST be a tuple. Notice the comma.\n",
    "    process_list.append(process)\n",
    "    \n",
    "for proc in process_list:\n",
    "    proc.start()\n",
    "    \n",
    "print('I reached the end of the process')"
   ]
  },
  {
   "cell_type": "markdown",
   "metadata": {},
   "source": [
    "You should notice two things in the example above. First, see how every process started at the same time. They didn't wait for previous processes to end. Second, notice how the main process also did not wait for the end of the ten processes to keep on going.<br>\n",
    "In the next example we call the same ten processes again, but without multi-processing so you can see how each process waits for the end of the previous one."
   ]
  },
  {
   "cell_type": "code",
   "execution_count": 9,
   "metadata": {},
   "outputs": [
    {
     "name": "stdout",
     "output_type": "stream",
     "text": [
      "Time is 1579822928.8005211, Lulu. Gonna sleep now.\n",
      "I woke up. Bye!\n",
      "Time is 1579822930.8027523, Lulu. Gonna sleep now.\n",
      "I woke up. Bye!\n",
      "Time is 1579822932.8050077, Lulu. Gonna sleep now.\n",
      "I woke up. Bye!\n",
      "Time is 1579822934.8074036, Lulu. Gonna sleep now.\n",
      "I woke up. Bye!\n",
      "Time is 1579822936.8098266, Lulu. Gonna sleep now.\n",
      "I woke up. Bye!\n",
      "Time is 1579822938.8122573, Lulu. Gonna sleep now.\n",
      "I woke up. Bye!\n",
      "Time is 1579822940.8147156, Lulu. Gonna sleep now.\n",
      "I woke up. Bye!\n",
      "Time is 1579822942.8170629, Lulu. Gonna sleep now.\n",
      "I woke up. Bye!\n",
      "Time is 1579822944.8194034, Lulu. Gonna sleep now.\n",
      "I woke up. Bye!\n",
      "Time is 1579822946.8214512, Lulu. Gonna sleep now.\n",
      "I woke up. Bye!\n",
      "I reached the end of the process\n"
     ]
    }
   ],
   "source": [
    "import multiprocessing as mp\n",
    "import time\n",
    "\n",
    "def f1(name):\n",
    "    print(f'Time is {time.time()}, {name}. Gonna sleep now.')\n",
    "    time.sleep(2)\n",
    "    print('I woke up. Bye!')\n",
    "    \n",
    "process_list = list()\n",
    "for x in range(10):\n",
    "    #process = mp.Process(target=f1, args=('Lulu',)) # This MUST be a tuple. Notice the comma.\n",
    "    #process_list.append(process)\n",
    "    f1('Lulu')\n",
    "    \n",
    "#for proc in process_list:\n",
    "    #proc.start()\n",
    "    \n",
    "print('I reached the end of the process')"
   ]
  },
  {
   "cell_type": "markdown",
   "metadata": {},
   "source": [
    "In the example below we'll show how to make the main process to wait for the end of the execution of all the then processes before proceeding."
   ]
  },
  {
   "cell_type": "code",
   "execution_count": 10,
   "metadata": {},
   "outputs": [
    {
     "name": "stdout",
     "output_type": "stream",
     "text": [
      "Time is 1579822948.8424625, Lulu. Gonna sleep now.\n",
      "Time is 1579822948.8444364, Lulu. Gonna sleep now.\n",
      "Time is 1579822948.8466408, Lulu. Gonna sleep now.\n",
      "Time is 1579822948.8490772, Lulu. Gonna sleep now.\n",
      "Time is 1579822948.851886, Lulu. Gonna sleep now.\n",
      "Time is 1579822948.8544688, Lulu. Gonna sleep now.\n",
      "Time is 1579822948.8576696, Lulu. Gonna sleep now.\n",
      "Time is 1579822948.8597322, Lulu. Gonna sleep now.\n",
      "Time is 1579822948.8619237, Lulu. Gonna sleep now.\n",
      "Time is 1579822948.8650112, Lulu. Gonna sleep now.\n",
      "I woke up. Bye!\n",
      "I woke up. Bye!\n",
      "I woke up. Bye!\n",
      "I woke up. Bye!\n",
      "I woke up. Bye!\n",
      "I woke up. Bye!\n",
      "I woke up. Bye!\n",
      "I woke up. Bye!\n",
      "I woke up. Bye!\n",
      "I woke up. Bye!\n",
      "I reached the end of the process\n"
     ]
    }
   ],
   "source": [
    "import multiprocessing as mp\n",
    "import time\n",
    "\n",
    "def f1(name):\n",
    "    print(f'Time is {time.time()}, {name}. Gonna sleep now.')\n",
    "    time.sleep(2)\n",
    "    print('I woke up. Bye!')\n",
    "    \n",
    "process_list = list()\n",
    "for x in range(10):\n",
    "    process = mp.Process(target=f1, args=('Lulu',)) # This MUST be a tuple. Notice the comma.\n",
    "    process_list.append(process)\n",
    "    \n",
    "for proc in process_list:\n",
    "    proc.start()\n",
    "    \n",
    "for proc in process_list:\n",
    "    proc.join()\n",
    "    \n",
    "print('I reached the end of the process')"
   ]
  },
  {
   "cell_type": "code",
   "execution_count": null,
   "metadata": {},
   "outputs": [],
   "source": []
  }
 ],
 "metadata": {
  "kernelspec": {
   "display_name": "Python 3",
   "language": "python",
   "name": "python3"
  },
  "language_info": {
   "codemirror_mode": {
    "name": "ipython",
    "version": 3
   },
   "file_extension": ".py",
   "mimetype": "text/x-python",
   "name": "python",
   "nbconvert_exporter": "python",
   "pygments_lexer": "ipython3",
   "version": "3.7.6"
  }
 },
 "nbformat": 4,
 "nbformat_minor": 4
}
