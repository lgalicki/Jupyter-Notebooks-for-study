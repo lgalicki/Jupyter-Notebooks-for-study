{
 "cells": [
  {
   "cell_type": "markdown",
   "metadata": {},
   "source": [
    "# Multi-processing\n",
    "Multi-processing will create processes that do not wait for anything to start and are truly executed in paralel by the CPU. Each process will have its own GIL and their own memory area. I can't imagine how painful it must be to make a process see stuff another process has processed.<br>\n",
    "You should opt for multi-processing when the problem at hand requires a lot of cpu.<br>\n",
    "In the example below we'll create ten processes that take 2 seconds to reach their end and launch them at the same time."
   ]
  },
  {
   "cell_type": "code",
   "execution_count": 3,
   "metadata": {},
   "outputs": [
    {
     "name": "stdout",
     "output_type": "stream",
     "text": [
      "Time is 1579899391.6100216, Lulu. Gonna sleep now.\n",
      "Time is 1579899391.6116552, Lulu. Gonna sleep now.\n",
      "Time is 1579899391.6135528, Lulu. Gonna sleep now.\n",
      "Time is 1579899391.6156921, Lulu. Gonna sleep now.\n",
      "Time is 1579899391.6181066, Lulu. Gonna sleep now.\n",
      "Time is 1579899391.621081, Lulu. Gonna sleep now.\n",
      "I reached the end of the process\n",
      "Time is 1579899391.622951, Lulu. Gonna sleep now.\n",
      "Time is 1579899391.6276665, Lulu. Gonna sleep now.\n",
      "Time is 1579899391.6251895, Lulu. Gonna sleep now.\n",
      "Time is 1579899391.630642, Lulu. Gonna sleep now.\n",
      "I woke up. Bye!\n",
      "I woke up. Bye!\n",
      "I woke up. Bye!\n",
      "I woke up. Bye!\n",
      "I woke up. Bye!\n",
      "I woke up. Bye!\n",
      "I woke up. Bye!\n",
      "I woke up. Bye!\n",
      "I woke up. Bye!\n",
      "I woke up. Bye!\n"
     ]
    }
   ],
   "source": [
    "import multiprocessing as mp\n",
    "import time\n",
    "\n",
    "def f1(name):\n",
    "    print(f'Time is {time.time()}, {name}. Gonna sleep now.')\n",
    "    time.sleep(2)\n",
    "    print('I woke up. Bye!')\n",
    "    \n",
    "process_list = list()\n",
    "for x in range(10):\n",
    "    process = mp.Process(target=f1, args=('Lulu',)) # This MUST be a tuple. Notice the comma.\n",
    "    process_list.append(process)\n",
    "    \n",
    "for proc in process_list:\n",
    "    proc.start()\n",
    "    \n",
    "print('I reached the end of the process')"
   ]
  },
  {
   "cell_type": "markdown",
   "metadata": {},
   "source": [
    "You should notice two things in the example above. First, see how every process started at the same time. They didn't wait for previous processes to end. Second, notice how the main process also did not wait for the end of the ten processes to keep on going.<br>\n",
    "In the next example we call the same ten processes again, but without multi-processing so you can see how each process waits for the end of the previous one."
   ]
  },
  {
   "cell_type": "code",
   "execution_count": 9,
   "metadata": {},
   "outputs": [
    {
     "name": "stdout",
     "output_type": "stream",
     "text": [
      "Time is 1579822928.8005211, Lulu. Gonna sleep now.\n",
      "I woke up. Bye!\n",
      "Time is 1579822930.8027523, Lulu. Gonna sleep now.\n",
      "I woke up. Bye!\n",
      "Time is 1579822932.8050077, Lulu. Gonna sleep now.\n",
      "I woke up. Bye!\n",
      "Time is 1579822934.8074036, Lulu. Gonna sleep now.\n",
      "I woke up. Bye!\n",
      "Time is 1579822936.8098266, Lulu. Gonna sleep now.\n",
      "I woke up. Bye!\n",
      "Time is 1579822938.8122573, Lulu. Gonna sleep now.\n",
      "I woke up. Bye!\n",
      "Time is 1579822940.8147156, Lulu. Gonna sleep now.\n",
      "I woke up. Bye!\n",
      "Time is 1579822942.8170629, Lulu. Gonna sleep now.\n",
      "I woke up. Bye!\n",
      "Time is 1579822944.8194034, Lulu. Gonna sleep now.\n",
      "I woke up. Bye!\n",
      "Time is 1579822946.8214512, Lulu. Gonna sleep now.\n",
      "I woke up. Bye!\n",
      "I reached the end of the process\n"
     ]
    }
   ],
   "source": [
    "import multiprocessing as mp\n",
    "import time\n",
    "\n",
    "def f1(name):\n",
    "    print(f'Time is {time.time()}, {name}. Gonna sleep now.')\n",
    "    time.sleep(2)\n",
    "    print('I woke up. Bye!')\n",
    "    \n",
    "process_list = list()\n",
    "for x in range(10):\n",
    "    #process = mp.Process(target=f1, args=('Lulu',)) # This MUST be a tuple. Notice the comma.\n",
    "    #process_list.append(process)\n",
    "    f1('Lulu')\n",
    "    \n",
    "#for proc in process_list:\n",
    "    #proc.start()\n",
    "    \n",
    "print('I reached the end of the process')"
   ]
  },
  {
   "cell_type": "markdown",
   "metadata": {},
   "source": [
    "In the example below we'll show how to make the main process wait for the end of the execution of all the then processes before proceeding."
   ]
  },
  {
   "cell_type": "code",
   "execution_count": 10,
   "metadata": {},
   "outputs": [
    {
     "name": "stdout",
     "output_type": "stream",
     "text": [
      "Time is 1579822948.8424625, Lulu. Gonna sleep now.\n",
      "Time is 1579822948.8444364, Lulu. Gonna sleep now.\n",
      "Time is 1579822948.8466408, Lulu. Gonna sleep now.\n",
      "Time is 1579822948.8490772, Lulu. Gonna sleep now.\n",
      "Time is 1579822948.851886, Lulu. Gonna sleep now.\n",
      "Time is 1579822948.8544688, Lulu. Gonna sleep now.\n",
      "Time is 1579822948.8576696, Lulu. Gonna sleep now.\n",
      "Time is 1579822948.8597322, Lulu. Gonna sleep now.\n",
      "Time is 1579822948.8619237, Lulu. Gonna sleep now.\n",
      "Time is 1579822948.8650112, Lulu. Gonna sleep now.\n",
      "I woke up. Bye!\n",
      "I woke up. Bye!\n",
      "I woke up. Bye!\n",
      "I woke up. Bye!\n",
      "I woke up. Bye!\n",
      "I woke up. Bye!\n",
      "I woke up. Bye!\n",
      "I woke up. Bye!\n",
      "I woke up. Bye!\n",
      "I woke up. Bye!\n",
      "I reached the end of the process\n"
     ]
    }
   ],
   "source": [
    "import multiprocessing as mp\n",
    "import time\n",
    "\n",
    "def f1(name):\n",
    "    print(f'Time is {time.time()}, {name}. Gonna sleep now.')\n",
    "    time.sleep(2)\n",
    "    print('I woke up. Bye!')\n",
    "    \n",
    "process_list = list()\n",
    "for x in range(10):\n",
    "    process = mp.Process(target=f1, args=('Lulu',)) # This MUST be a tuple. Notice the comma.\n",
    "    process_list.append(process)\n",
    "    \n",
    "for proc in process_list:\n",
    "    proc.start()\n",
    "    \n",
    "for proc in process_list:\n",
    "    proc.join()\n",
    "    \n",
    "print('I reached the end of the process')"
   ]
  },
  {
   "cell_type": "markdown",
   "metadata": {},
   "source": [
    "Let's finally show that each process has its own memory space. Notice how when we change the value of the variable this change persists only within each process. If the processes shared the same variable the results would add up, and they don't."
   ]
  },
  {
   "cell_type": "code",
   "execution_count": 8,
   "metadata": {},
   "outputs": [
    {
     "name": "stdout",
     "output_type": "stream",
     "text": [
      "I received 1\n",
      "I received 1\n",
      "I received 1\n",
      "I received 1\n",
      "I received 1\n",
      "I received 1\n",
      "I received 1\n",
      "I received 1\n",
      "I received 1\n",
      "I received 1\n",
      "I changed it to 2\n",
      "I changed it to 2\n",
      "I changed it to 2\n",
      "I changed it to 2\n",
      "I changed it to 2\n",
      "I changed it to 2\n",
      "I changed it to 2\n",
      "I changed it to 2\n",
      "I changed it to 2\n",
      "I changed it to 2\n",
      "I reached the end of the process and I have 1\n"
     ]
    }
   ],
   "source": [
    "import multiprocessing as mp\n",
    "import time\n",
    "\n",
    "a = 1\n",
    "\n",
    "def f1(name):\n",
    "    global a\n",
    "    print(f'I received {a}')\n",
    "    a += a\n",
    "    time.sleep(2)\n",
    "    print(f'I changed it to {a}')\n",
    "    \n",
    "process_list = list()\n",
    "for x in range(10):\n",
    "    process = mp.Process(target=f1, args=('Lulu',)) # This MUST be a tuple. Notice the comma.\n",
    "    process_list.append(process)\n",
    "    \n",
    "for proc in process_list:\n",
    "    proc.start()\n",
    "    \n",
    "for proc in process_list:\n",
    "    proc.join()\n",
    "    \n",
    "print(f'I reached the end of the process and I have {a}')"
   ]
  },
  {
   "cell_type": "markdown",
   "metadata": {},
   "source": [
    "# Multi-threading\n",
    "Its implementations is very, very similar to multi-processing.<br>\n",
    "Threads will run inside a single process and never at the same time. A thread assumes the CPU when anther thread is waiting for reponse from something else: a web server, an I/O response, a user input... You should opt for multi-threading when the problem at hand takes most of it time waiting for the response of something while not using a lot of CPU.<br>\n",
    "At our first example we'll run ten threads and we won't make the main script wait for their execution."
   ]
  },
  {
   "cell_type": "code",
   "execution_count": 4,
   "metadata": {},
   "outputs": [
    {
     "name": "stdout",
     "output_type": "stream",
     "text": [
      "Time is 1579899399.6402302, Lulu. Gonna sleep now.\n",
      "Time is 1579899399.640488, Lulu. Gonna sleep now.\n",
      "Time is 1579899399.6406019, Lulu. Gonna sleep now.\n",
      "Time is 1579899399.6409137, Lulu. Gonna sleep now.\n",
      "Time is 1579899399.6415582, Lulu. Gonna sleep now.Time is 1579899399.6653829, Lulu. Gonna sleep now.\n",
      "Time is 1579899399.6658812, Lulu. Gonna sleep now.\n",
      "\n",
      "Time is 1579899399.6664176, Lulu. Gonna sleep now.\n",
      "Time is 1579899399.6666956, Lulu. Gonna sleep now.\n",
      "Time is 1579899399.6669135, Lulu. Gonna sleep now.\n",
      "I reached the end of the process\n",
      "I woke up. Bye!I woke up. Bye!\n",
      "\n",
      "I woke up. Bye!\n",
      "I woke up. Bye!I woke up. Bye!\n",
      "I woke up. Bye!\n",
      "I woke up. Bye!\n",
      "I woke up. Bye!\n",
      "I woke up. Bye!I woke up. Bye!\n",
      "\n",
      "\n"
     ]
    }
   ],
   "source": [
    "import threading as th\n",
    "import time\n",
    "\n",
    "def f1(name):\n",
    "    print(f'Time is {time.time()}, {name}. Gonna sleep now.')\n",
    "    time.sleep(2)\n",
    "    print('I woke up. Bye!')\n",
    "    \n",
    "thread_list = list()\n",
    "for x in range(10):\n",
    "    thread = th.Thread(target=f1, args=('Lulu',)) # This MUST be a tuple. Notice the comma.\n",
    "    thread_list.append(thread)\n",
    "    \n",
    "for thread in thread_list:\n",
    "    thread.start()\n",
    "    \n",
    "print('I reached the end of the process')"
   ]
  },
  {
   "cell_type": "markdown",
   "metadata": {},
   "source": [
    "And here we have similar logic, but we'll make the main process wait for the end of the threads before it continues."
   ]
  },
  {
   "cell_type": "code",
   "execution_count": 5,
   "metadata": {},
   "outputs": [
    {
     "name": "stdout",
     "output_type": "stream",
     "text": [
      "Time is 1579899511.9171762, Lulu. Gonna sleep now.\n",
      "Time is 1579899511.9176314, Lulu. Gonna sleep now.Time is 1579899511.9178102, Lulu. Gonna sleep now.\n",
      "\n",
      "Time is 1579899511.9179606, Lulu. Gonna sleep now.\n",
      "Time is 1579899511.9186182, Lulu. Gonna sleep now.\n",
      "Time is 1579899511.918936, Lulu. Gonna sleep now.\n",
      "Time is 1579899511.9191432, Lulu. Gonna sleep now.\n",
      "Time is 1579899511.919531, Lulu. Gonna sleep now.\n",
      "Time is 1579899511.9198356, Lulu. Gonna sleep now.\n",
      "Time is 1579899511.9200816, Lulu. Gonna sleep now.\n",
      "I woke up. Bye!\n",
      "I woke up. Bye!\n",
      "I woke up. Bye!\n",
      "I woke up. Bye!\n",
      "I woke up. Bye!\n",
      "I woke up. Bye!I woke up. Bye!I woke up. Bye!I woke up. Bye!\n",
      "I woke up. Bye!\n",
      "\n",
      "\n",
      "\n",
      "I reached the end of the process\n"
     ]
    }
   ],
   "source": [
    "import threading as th\n",
    "import time\n",
    "\n",
    "def f1(name):\n",
    "    print(f'Time is {time.time()}, {name}. Gonna sleep now.')\n",
    "    time.sleep(2)\n",
    "    print('I woke up. Bye!')\n",
    "    \n",
    "thread_list = list()\n",
    "for x in range(10):\n",
    "    thread = th.Thread(target=f1, args=('Lulu',)) # This MUST be a tuple. Notice the comma.\n",
    "    thread_list.append(thread)\n",
    "    \n",
    "for thread in thread_list:\n",
    "    thread.start()\n",
    "    \n",
    "for thread in thread_list:\n",
    "    thread.join()\n",
    "    \n",
    "print('I reached the end of the process')"
   ]
  },
  {
   "cell_type": "markdown",
   "metadata": {},
   "source": [
    "And now let's see how multi-threading deals with memory. Haha! All processes believe they changed the value of a to 1024, but only the last one did it!"
   ]
  },
  {
   "cell_type": "code",
   "execution_count": 10,
   "metadata": {},
   "outputs": [
    {
     "name": "stdout",
     "output_type": "stream",
     "text": [
      "I received 1\n",
      "I received 2\n",
      "I received 4\n",
      "I received 8\n",
      "I received 16\n",
      "I received 32\n",
      "I received 64I received 64\n",
      "\n",
      "I received 256\n",
      "I received 512\n",
      "I changed it to 1024\n",
      "I changed it to 1024\n",
      "I changed it to 1024\n",
      "I changed it to 1024\n",
      "I changed it to 1024I changed it to 1024\n",
      "\n",
      "I changed it to 1024\n",
      "I changed it to 1024I changed it to 1024\n",
      "I changed it to 1024\n",
      "\n",
      "I reached the end of the process and I have 1024\n"
     ]
    }
   ],
   "source": [
    "import threading as th\n",
    "import time\n",
    "\n",
    "a = 1\n",
    "\n",
    "def f1(name):\n",
    "    global a\n",
    "    print(f'I received {a}')\n",
    "    a += a\n",
    "    time.sleep(2)\n",
    "    print(f'I changed it to {a}')\n",
    "    \n",
    "thread_list = list()\n",
    "for x in range(10):\n",
    "    thread = th.Thread(target=f1, args=('Lulu',)) # This MUST be a tuple. Notice the comma.\n",
    "    thread_list.append(thread)\n",
    "    \n",
    "for thread in thread_list:\n",
    "    thread.start()\n",
    "    \n",
    "for thread in thread_list:\n",
    "    thread.join()\n",
    "    \n",
    "print(f'I reached the end of the process and I have {a}')"
   ]
  },
  {
   "cell_type": "markdown",
   "metadata": {},
   "source": [
    "# Sharing value among multiple processes\n",
    "Remember how variables behaved with multi-processing? Each process will have it's own memory with their own copies of the variables. But what if we need the processes to share a variable? Well... Then we gotta create an object that has such possibility. There are three classes in the multiprocessing module that handle this: <code>Value</code>, `Array` and `Queue`. The first is for single variables, whilst the last two are for iterables and collections.<br>\n",
    "Let's apply this to our good old example. Notice how it will behave as if we were using multi-threading."
   ]
  },
  {
   "cell_type": "code",
   "execution_count": 17,
   "metadata": {},
   "outputs": [
    {
     "name": "stdout",
     "output_type": "stream",
     "text": [
      "I received 1\n",
      "I received 2\n",
      "I received 4\n",
      "I received 8\n",
      "I received 16\n",
      "I received 32\n",
      "I received 16\n",
      "I received 16\n",
      "I received 16\n",
      "I received 16\n",
      "I changed it to 1024\n",
      "I changed it to 1024\n",
      "I changed it to 1024\n",
      "I changed it to 1024\n",
      "I changed it to 1024\n",
      "I changed it to 1024\n",
      "I changed it to 1024\n",
      "I changed it to 1024\n",
      "I changed it to 1024\n",
      "I changed it to 1024\n",
      "I reached the end of the process and I have 1024\n"
     ]
    }
   ],
   "source": [
    "import multiprocessing as mp\n",
    "import time\n",
    "\n",
    "a = mp.Value('i', 1) # 'i' stands for int()\n",
    "\n",
    "def f1(name, a):\n",
    "    print(f'I received {a.value}')\n",
    "    a.value += a.value\n",
    "    time.sleep(2)\n",
    "    print(f'I changed it to {a.value}')\n",
    "    \n",
    "process_list = list()\n",
    "for x in range(10):\n",
    "    process = mp.Process(target=f1, args=('Lulu', a)) # This MUST be a tuple.\n",
    "    process_list.append(process)\n",
    "    \n",
    "for proc in process_list:\n",
    "    proc.start()\n",
    "    \n",
    "for proc in process_list:\n",
    "    proc.join()\n",
    "    \n",
    "print(f'I reached the end of the process and I have {a.value}')"
   ]
  },
  {
   "cell_type": "markdown",
   "metadata": {},
   "source": [
    "Now let's see an example with a list."
   ]
  },
  {
   "cell_type": "code",
   "execution_count": 24,
   "metadata": {},
   "outputs": [
    {
     "name": "stdout",
     "output_type": "stream",
     "text": [
      "Appended 0 to the list\n",
      "Appended 1 to the list\n",
      "Appended 2 to the list\n",
      "At the end my list is [0, 1, 2]\n"
     ]
    }
   ],
   "source": [
    "import multiprocessing as mp\n",
    "\n",
    "my_list = mp.Array('i', 3) #'i' stands for int(), and 3 specifies the length of the array\n",
    "\n",
    "def f1(val):\n",
    "    global my_list\n",
    "    my_list[val] = val\n",
    "    print(f'Appended {val} to the list')\n",
    "    \n",
    "for i in range(3):\n",
    "    process = mp.Process(target=f1, args=(i,))\n",
    "    process.start()\n",
    "    process.join()\n",
    "    \n",
    "print(f'At the end my list is {my_list[::]}') # Yeah... We gotta access this shared Array in this bizarre way"
   ]
  },
  {
   "cell_type": "markdown",
   "metadata": {},
   "source": [
    "# Locking a shared variable in multi-processing\n",
    "Consider the following code. Here we won't use a lock. Run it as many times as you wish and notice how computing ain't as precise as you use to believe. LoL! I had to run the script several times in order to get this inconsistent value. Even though it didn't happen all the time this is INCONCEIVABLE!"
   ]
  },
  {
   "cell_type": "code",
   "execution_count": 41,
   "metadata": {},
   "outputs": [
    {
     "name": "stdout",
     "output_type": "stream",
     "text": [
      "Before running the processes: 500\n",
      "After processing: 449\n"
     ]
    }
   ],
   "source": [
    "import multiprocessing as mp\n",
    "import time\n",
    "\n",
    "def deposit(balance):\n",
    "    for i in range(50):\n",
    "        time.sleep(0.02)\n",
    "        balance.value += 1\n",
    "        \n",
    "def withdraw(balance):\n",
    "    for i in range(100):\n",
    "        time.sleep(0.01)\n",
    "        balance.value -= 1\n",
    "        \n",
    "balance = mp.Value('i', 500)\n",
    "print(f'Before running the processes: {balance.value}')\n",
    "\n",
    "p1 = mp.Process(target=deposit, args=(balance,))\n",
    "p2 = mp.Process(target=withdraw, args=(balance,))\n",
    "\n",
    "p1.start()\n",
    "p2.start()\n",
    "\n",
    "p1.join()\n",
    "p2.join()\n",
    "\n",
    "print(f'After processing: {balance.value}')"
   ]
  },
  {
   "cell_type": "markdown",
   "metadata": {},
   "source": [
    "So, how do we avoid it? Using a lock! Let's apply it to our previous example."
   ]
  },
  {
   "cell_type": "code",
   "execution_count": 53,
   "metadata": {},
   "outputs": [
    {
     "name": "stdout",
     "output_type": "stream",
     "text": [
      "Before running the processes: 500\n",
      "After processing: 450\n"
     ]
    }
   ],
   "source": [
    "import multiprocessing as mp\n",
    "import time\n",
    "\n",
    "def deposit(balance, lock):\n",
    "    for i in range(50):\n",
    "        time.sleep(0.02)\n",
    "        lock.acquire()\n",
    "        balance.value += 1\n",
    "        lock.release()\n",
    "        \n",
    "def withdraw(balance, lock):\n",
    "    for i in range(100):\n",
    "        time.sleep(0.01)\n",
    "        lock.acquire()\n",
    "        balance.value -= 1\n",
    "        lock.release()\n",
    "        \n",
    "balance = mp.Value('i', 500)\n",
    "lock = mp.Lock()\n",
    "print(f'Before running the processes: {balance.value}')\n",
    "\n",
    "p1 = mp.Process(target=deposit, args=(balance, lock))\n",
    "p2 = mp.Process(target=withdraw, args=(balance, lock))\n",
    "\n",
    "p1.start()\n",
    "p2.start()\n",
    "\n",
    "p1.join()\n",
    "p2.join()\n",
    "\n",
    "print(f'After processing: {balance.value}')"
   ]
  },
  {
   "cell_type": "code",
   "execution_count": null,
   "metadata": {},
   "outputs": [],
   "source": []
  }
 ],
 "metadata": {
  "kernelspec": {
   "display_name": "Python 3",
   "language": "python",
   "name": "python3"
  },
  "language_info": {
   "codemirror_mode": {
    "name": "ipython",
    "version": 3
   },
   "file_extension": ".py",
   "mimetype": "text/x-python",
   "name": "python",
   "nbconvert_exporter": "python",
   "pygments_lexer": "ipython3",
   "version": "3.7.6"
  }
 },
 "nbformat": 4,
 "nbformat_minor": 4
}
