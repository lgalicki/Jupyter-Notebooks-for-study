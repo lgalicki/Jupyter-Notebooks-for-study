{
 "cells": [
  {
   "cell_type": "markdown",
   "metadata": {},
   "source": [
    "# StringIO\n",
    "\n",
    "This allows you to create a \"virtual file\" in memmory, and access it as if it was a regular file."
   ]
  },
  {
   "cell_type": "code",
   "execution_count": 6,
   "metadata": {},
   "outputs": [
    {
     "name": "stdin",
     "output_type": "stream",
     "text": [
      "Enter your message:  O Circó é fofinho\n",
      "Wanna add one more line (y/n)?  y\n",
      "Enter your message:  O Júpiter é fofão\n",
      "Wanna add one more line (y/n)?  \n",
      "Wanna add one more line (y/n)?  y\n",
      "Enter your message:  A Alessandra é fofucha\n",
      "Wanna add one more line (y/n)?  y\n",
      "Enter your message:  O Luciano é magrelão\n",
      "Wanna add one more line (y/n)?  n\n"
     ]
    },
    {
     "name": "stdout",
     "output_type": "stream",
     "text": [
      "O Circó é fofinhoO Júpiter é fofãoA Alessandra é fofuchaO Luciano é magrelão\n"
     ]
    }
   ],
   "source": [
    "from io import StringIO\n",
    "\n",
    "add_more = 'y'\n",
    "message = str()\n",
    "while add_more == 'y':\n",
    "    new_line = input('Enter your message: ')\n",
    "    message += new_line\n",
    "    \n",
    "    add_more = str()\n",
    "    while add_more.lower() not in ['y','n']:\n",
    "        add_more = input('Wanna add one more line (y/n)? ')\n",
    "\n",
    "v_file = StringIO(message)\n",
    "\n",
    "contents = v_file.read()\n",
    "    \n",
    "print(contents)"
   ]
  },
  {
   "cell_type": "code",
   "execution_count": null,
   "metadata": {},
   "outputs": [],
   "source": []
  }
 ],
 "metadata": {
  "kernelspec": {
   "display_name": "Python 3",
   "language": "python",
   "name": "python3"
  },
  "language_info": {
   "codemirror_mode": {
    "name": "ipython",
    "version": 3
   },
   "file_extension": ".py",
   "mimetype": "text/x-python",
   "name": "python",
   "nbconvert_exporter": "python",
   "pygments_lexer": "ipython3",
   "version": "3.7.6"
  }
 },
 "nbformat": 4,
 "nbformat_minor": 4
}
