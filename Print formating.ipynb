{
 "cells": [
  {
   "cell_type": "code",
   "execution_count": 1,
   "metadata": {},
   "outputs": [
    {
     "name": "stdout",
     "output_type": "stream",
     "text": [
      "The big dog is calledJúpiter\n"
     ]
    }
   ],
   "source": [
    "name = 'Júpiter'\n",
    "print('The big dog is called{} '.format(name))"
   ]
  },
  {
   "cell_type": "code",
   "execution_count": 9,
   "metadata": {},
   "outputs": [
    {
     "name": "stdout",
     "output_type": "stream",
     "text": [
      "The big dog is called Júpiter. Yeah! His name is Júpiter!\n"
     ]
    }
   ],
   "source": [
    "animal = 'dog'\n",
    "size = 'big'\n",
    "print('The {2} {1} is called {0}. Yeah! His name is {0}!'.format(name,animal,size))"
   ]
  },
  {
   "cell_type": "code",
   "execution_count": 21,
   "metadata": {},
   "outputs": [
    {
     "name": "stdout",
     "output_type": "stream",
     "text": [
      "The big dog is called Júpiter. Yeah! His name is Júpiter\n"
     ]
    }
   ],
   "source": [
    "print('The {s} {a} is called {n}. Yeah! His name is {n}'.format(n=name,s=size,a=animal))"
   ]
  },
  {
   "cell_type": "code",
   "execution_count": 29,
   "metadata": {},
   "outputs": [
    {
     "name": "stdout",
     "output_type": "stream",
     "text": [
      "<class 'int'>\n",
      "<class 'str'>\n",
      "Júpiter weights 20 kg. He's big!\n"
     ]
    }
   ],
   "source": [
    "#And  now I can concatenate variables with different formats!\n",
    "weight = 20\n",
    "print(type(weight))\n",
    "print(type(name))\n",
    "print(\"{n} weights {w} kg. He's {s}!\".format(n=name,w=weight,s=size))\n",
    "#print('Test' + weight) <- This DOESN'T work!"
   ]
  },
  {
   "cell_type": "code",
   "execution_count": 69,
   "metadata": {},
   "outputs": [
    {
     "name": "stdout",
     "output_type": "stream",
     "text": [
      "The result is 3333.33333\n",
      "The result is 3333.3\n",
      "The result is 3.33e+03\n"
     ]
    }
   ],
   "source": [
    "result = 10000/3\n",
    "print('The result is {r:6.5f}'.format(r=result))\n",
    "print('The result is {r:6.5}'.format(r=result))\n",
    "print('The result is {r:6.3}'.format(r=result))"
   ]
  },
  {
   "cell_type": "code",
   "execution_count": 84,
   "metadata": {},
   "outputs": [
    {
     "name": "stdout",
     "output_type": "stream",
     "text": [
      "The big dog is called Júpiter! He weights 20.1 kg.\n"
     ]
    }
   ],
   "source": [
    "#What about f strings!?\n",
    "weight = 20.1\n",
    "print(f'The {size} {animal} is called {name}! He weights {weight:0.1f} kg.')"
   ]
  },
  {
   "cell_type": "code",
   "execution_count": 85,
   "metadata": {},
   "outputs": [
    {
     "name": "stdout",
     "output_type": "stream",
     "text": [
      "'Python rules!'\n"
     ]
    }
   ],
   "source": [
    "print(\"'Python {}\".format(\"rules!'\"))"
   ]
  },
  {
   "cell_type": "code",
   "execution_count": null,
   "metadata": {},
   "outputs": [],
   "source": []
  }
 ],
 "metadata": {
  "kernelspec": {
   "display_name": "Python 3",
   "language": "python",
   "name": "python3"
  },
  "language_info": {
   "codemirror_mode": {
    "name": "ipython",
    "version": 3
   },
   "file_extension": ".py",
   "mimetype": "text/x-python",
   "name": "python",
   "nbconvert_exporter": "python",
   "pygments_lexer": "ipython3",
   "version": "3.7.4"
  }
 },
 "nbformat": 4,
 "nbformat_minor": 4
}
