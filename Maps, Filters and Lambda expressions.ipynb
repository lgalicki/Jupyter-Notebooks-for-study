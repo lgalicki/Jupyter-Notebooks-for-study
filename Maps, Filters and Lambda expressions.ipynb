{
 "cells": [
  {
   "cell_type": "markdown",
   "metadata": {},
   "source": [
    "# Maps\n",
    "\n",
    "They're used to simplify multiple calls to a function that would be done inside a loop.<br>\n",
    "<b>WARNING:</b> Notice that the first parameter in the map command is the name of the function, and not a call to it, since it does not have parenthesis."
   ]
  },
  {
   "cell_type": "code",
   "execution_count": 1,
   "metadata": {},
   "outputs": [
    {
     "name": "stdout",
     "output_type": "stream",
     "text": [
      "2\n",
      "4\n",
      "6\n",
      "8\n",
      "10\n",
      "12\n",
      "14\n",
      "-------------\n",
      "2\n",
      "4\n",
      "6\n",
      "8\n",
      "10\n",
      "12\n",
      "14\n"
     ]
    }
   ],
   "source": [
    "my_list = [1,2,3,4,5,6,7]\n",
    "def double(num):\n",
    "    return num*2\n",
    "\n",
    "#The traditional way of doing\n",
    "for i in my_list:\n",
    "    print(double(i))\n",
    "\n",
    "print('-------------')\n",
    "    \n",
    "#Using maps\n",
    "for i in map(double,my_list):\n",
    "    print(i)"
   ]
  },
  {
   "cell_type": "markdown",
   "metadata": {},
   "source": [
    "In this next example we can see how maps can be usefull"
   ]
  },
  {
   "cell_type": "code",
   "execution_count": 2,
   "metadata": {},
   "outputs": [
    {
     "name": "stdout",
     "output_type": "stream",
     "text": [
      "[2, 4, 6, 8, 10, 12, 14, 16, 18]\n",
      "---------\n",
      "[2, 4, 6, 8, 10, 12, 14, 16, 18]\n"
     ]
    }
   ],
   "source": [
    "my_list = [1,2,3,4,5,6,7,8,9]\n",
    "\n",
    "#The traditional way of doing things\n",
    "doubles_list = list()\n",
    "\n",
    "for i in my_list:\n",
    "    doubles_list.append(double(i))\n",
    "print (doubles_list)\n",
    "\n",
    "print ('---------')\n",
    "\n",
    "#Now using maps\n",
    "print(list(map(double,my_list)))"
   ]
  },
  {
   "cell_type": "markdown",
   "metadata": {},
   "source": [
    "# Filters\n",
    "\n",
    "They're similar to maps, but they are used to execute calls to functions that return boolean values. They output only the values which returned true, and this can be stored in a list or used to feed a loop which will iterate only through the values which returned true.<br>\n",
    "<b>WARNING:</b> Notice that the first parameter in the filter command is the name of the function, and not a call to it, since it does not have parenthesis."
   ]
  },
  {
   "cell_type": "code",
   "execution_count": 3,
   "metadata": {},
   "outputs": [
    {
     "name": "stdout",
     "output_type": "stream",
     "text": [
      "[0, 3, 6, 9]\n",
      "-------\n",
      "0\n",
      "3\n",
      "6\n",
      "9\n"
     ]
    }
   ],
   "source": [
    "my_list = list(range(0,10))\n",
    "def div_3(x):\n",
    "    return x%3 == 0\n",
    "\n",
    "#Storing in a list\n",
    "res = list(filter(div_3,my_list))\n",
    "print(res)\n",
    "\n",
    "print('-------')\n",
    "\n",
    "#Feeding a loop\n",
    "for i in filter(div_3,my_list):\n",
    "    print(i)"
   ]
  },
  {
   "cell_type": "markdown",
   "metadata": {},
   "source": [
    "# Lambda expressions\n",
    "These are \"temporary anonymous functions\", which would be used only one time. If we have a simple function which will be called only once in a loop, they can be used to simplify code.<br>\n",
    "\n",
    "In the above examples we've defined the functions <i>double</i> and <i>div_3</i>. Below we can see how we could have used lambda expressions to avoid defining them."
   ]
  },
  {
   "cell_type": "code",
   "execution_count": 5,
   "metadata": {},
   "outputs": [
    {
     "name": "stdout",
     "output_type": "stream",
     "text": [
      "0\n",
      "2\n",
      "4\n",
      "6\n",
      "8\n",
      "10\n",
      "12\n",
      "14\n",
      "16\n",
      "18\n",
      "------\n",
      "[0, 2, 4, 6, 8, 10, 12, 14, 16, 18]\n",
      "==========\n",
      "[0, 3, 6, 9]\n",
      "------\n",
      "0\n",
      "3\n",
      "6\n",
      "9\n"
     ]
    }
   ],
   "source": [
    "#Getting rid of double\n",
    "\n",
    "for i in map(lambda x:x*2,my_list):\n",
    "    print(i)\n",
    "\n",
    "print('------')\n",
    "\n",
    "print(list(map(lambda x:x*2,my_list)))\n",
    "    \n",
    "print('==========')\n",
    "\n",
    "#Getting rid of div_3\n",
    "res = list(filter(lambda x:x%3 == 0,my_list))\n",
    "print (res)\n",
    "\n",
    "print('------')\n",
    "\n",
    "for i in filter(lambda x:x%3 == 0,my_list):\n",
    "    print(i)"
   ]
  },
  {
   "cell_type": "code",
   "execution_count": null,
   "metadata": {},
   "outputs": [],
   "source": []
  }
 ],
 "metadata": {
  "kernelspec": {
   "display_name": "Python 3",
   "language": "python",
   "name": "python3"
  },
  "language_info": {
   "codemirror_mode": {
    "name": "ipython",
    "version": 3
   },
   "file_extension": ".py",
   "mimetype": "text/x-python",
   "name": "python",
   "nbconvert_exporter": "python",
   "pygments_lexer": "ipython3",
   "version": "3.7.5"
  }
 },
 "nbformat": 4,
 "nbformat_minor": 4
}
