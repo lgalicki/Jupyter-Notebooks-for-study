{
 "cells": [
  {
   "cell_type": "markdown",
   "metadata": {},
   "source": [
    "# Inheritance and Polymorphism\n",
    "<br>\n",
    "Check how in the example bellow the objects of the derived classes \"Man\" and \"Woman\" will execute their own methods, even thought the superclass \"Human\" also has the same methods (polymorphism).<p>\n",
    "Notice also that the objects of the derived classes will execute methods that are defined in the super class when a method which is defined only in the super class, and not in the derived classes, is invoked (inheritance).<p>\n",
    "Another interesting thing is the class <b>object attribute</b> in the \"Human\" class."
   ]
  },
  {
   "cell_type": "code",
   "execution_count": null,
   "metadata": {},
   "outputs": [],
   "source": [
    "class Human():\n",
    "    species = 'Homo sapiens'\n",
    "    \n",
    "    def __init__(self,name,sex):\n",
    "        self.name = name\n",
    "        self.sex = sex\n",
    "        \n",
    "    def speak(self):\n",
    "        return(\"I'm a human\")\n",
    "    \n",
    "    def fart(self):\n",
    "        return(\"<Fart>\")\n",
    "\n",
    "        \n",
    "        \n",
    "class Woman(Human):\n",
    "    def __init__(self,name,sex,breast_size):\n",
    "        Human.__init__(self,name,sex)\n",
    "        self.breast_size = breast_size\n",
    "        \n",
    "    def speak(self):\n",
    "        return(\"I'm a woman\")\n",
    "    \n",
    "        \n",
    "        \n",
    "class Man(Human):\n",
    "    def __init__(self,name,sex,penis_size):\n",
    "        Human.__init__(self,name,sex)\n",
    "        self.penis_size = penis_size\n",
    "\n",
    "    def speak(self):\n",
    "        return(\"I'm a man\")\n",
    "        "
   ]
  },
  {
   "cell_type": "code",
   "execution_count": 40,
   "metadata": {},
   "outputs": [],
   "source": [
    "lu = Man('Luciano','male','long')"
   ]
  },
  {
   "cell_type": "code",
   "execution_count": 41,
   "metadata": {},
   "outputs": [
    {
     "data": {
      "text/plain": [
       "'Luciano'"
      ]
     },
     "execution_count": 41,
     "metadata": {},
     "output_type": "execute_result"
    }
   ],
   "source": [
    "lu.name"
   ]
  },
  {
   "cell_type": "code",
   "execution_count": 42,
   "metadata": {},
   "outputs": [
    {
     "data": {
      "text/plain": [
       "'long'"
      ]
     },
     "execution_count": 42,
     "metadata": {},
     "output_type": "execute_result"
    }
   ],
   "source": [
    "lu.penis_size"
   ]
  },
  {
   "cell_type": "code",
   "execution_count": 43,
   "metadata": {},
   "outputs": [
    {
     "data": {
      "text/plain": [
       "'male'"
      ]
     },
     "execution_count": 43,
     "metadata": {},
     "output_type": "execute_result"
    }
   ],
   "source": [
    "lu.sex"
   ]
  },
  {
   "cell_type": "code",
   "execution_count": 44,
   "metadata": {},
   "outputs": [
    {
     "data": {
      "text/plain": [
       "'Homo sapiens'"
      ]
     },
     "execution_count": 44,
     "metadata": {},
     "output_type": "execute_result"
    }
   ],
   "source": [
    "lu.species"
   ]
  },
  {
   "cell_type": "code",
   "execution_count": 45,
   "metadata": {},
   "outputs": [
    {
     "data": {
      "text/plain": [
       "__main__.Man"
      ]
     },
     "execution_count": 45,
     "metadata": {},
     "output_type": "execute_result"
    }
   ],
   "source": [
    "type(lu)"
   ]
  },
  {
   "cell_type": "code",
   "execution_count": 46,
   "metadata": {},
   "outputs": [],
   "source": [
    "le = Woman('Alessandra','female','huge')"
   ]
  },
  {
   "cell_type": "code",
   "execution_count": 47,
   "metadata": {},
   "outputs": [
    {
     "data": {
      "text/plain": [
       "'huge'"
      ]
     },
     "execution_count": 47,
     "metadata": {},
     "output_type": "execute_result"
    }
   ],
   "source": [
    "le.breast_size"
   ]
  },
  {
   "cell_type": "code",
   "execution_count": 48,
   "metadata": {},
   "outputs": [
    {
     "data": {
      "text/plain": [
       "'Alessandra'"
      ]
     },
     "execution_count": 48,
     "metadata": {},
     "output_type": "execute_result"
    }
   ],
   "source": [
    "le.name"
   ]
  },
  {
   "cell_type": "code",
   "execution_count": 49,
   "metadata": {},
   "outputs": [
    {
     "data": {
      "text/plain": [
       "'female'"
      ]
     },
     "execution_count": 49,
     "metadata": {},
     "output_type": "execute_result"
    }
   ],
   "source": [
    "le.sex"
   ]
  },
  {
   "cell_type": "code",
   "execution_count": 50,
   "metadata": {},
   "outputs": [
    {
     "data": {
      "text/plain": [
       "'Homo sapiens'"
      ]
     },
     "execution_count": 50,
     "metadata": {},
     "output_type": "execute_result"
    }
   ],
   "source": [
    "le.species"
   ]
  },
  {
   "cell_type": "code",
   "execution_count": 51,
   "metadata": {},
   "outputs": [
    {
     "data": {
      "text/plain": [
       "\"I'm a woman\""
      ]
     },
     "execution_count": 51,
     "metadata": {},
     "output_type": "execute_result"
    }
   ],
   "source": [
    "le.speak()"
   ]
  },
  {
   "cell_type": "code",
   "execution_count": 52,
   "metadata": {},
   "outputs": [
    {
     "data": {
      "text/plain": [
       "\"I'm a man\""
      ]
     },
     "execution_count": 52,
     "metadata": {},
     "output_type": "execute_result"
    }
   ],
   "source": [
    "lu.speak()"
   ]
  },
  {
   "cell_type": "code",
   "execution_count": 53,
   "metadata": {},
   "outputs": [
    {
     "data": {
      "text/plain": [
       "'<Fart>'"
      ]
     },
     "execution_count": 53,
     "metadata": {},
     "output_type": "execute_result"
    }
   ],
   "source": [
    "le.fart()"
   ]
  },
  {
   "cell_type": "code",
   "execution_count": 54,
   "metadata": {},
   "outputs": [
    {
     "data": {
      "text/plain": [
       "'<Fart>'"
      ]
     },
     "execution_count": 54,
     "metadata": {},
     "output_type": "execute_result"
    }
   ],
   "source": [
    "lu.fart()"
   ]
  },
  {
   "cell_type": "markdown",
   "metadata": {},
   "source": [
    "# Family tree example\n",
    "<br>\n",
    "Check how classes can have attributes which are instances of themselves, and and object of such class can have even itself as it's own attribute."
   ]
  },
  {
   "cell_type": "code",
   "execution_count": 22,
   "metadata": {},
   "outputs": [
    {
     "name": "stdout",
     "output_type": "stream",
     "text": [
      "Júpiter\n",
      "Fofo\n",
      "Júpiter é eterno e não tem parent nem criador.\n",
      "Circó\n",
      "Fofo\n",
      "O parent de Circó é Júpiter.\n"
     ]
    }
   ],
   "source": [
    "class Cachorro:\n",
    "    def __init__(self,nome,raca):\n",
    "        self.nome = nome\n",
    "        self.raca = raca\n",
    "        \n",
    "    def set_nome(self,nome):\n",
    "        self.nome = nome\n",
    "        \n",
    "    def set_raca(self,raca):\n",
    "        self.raca = raca\n",
    "        \n",
    "    def set_parent(self,parent):\n",
    "        self.parent = parent\n",
    "        \n",
    "    def procriar(self,nome_filho):\n",
    "        filho = Cachorro(nome_filho,self.raca)\n",
    "        filho.set_parent(self)\n",
    "        return filho\n",
    "\n",
    "def teste_de_dna(testado):\n",
    "    if testado.parent == testado:\n",
    "        print(f'{testado.nome} é eterno e não tem parent nem criador.')\n",
    "    else:\n",
    "        print(f'O parent de {testado.nome} é {testado.parent.nome}.')\n",
    "\n",
    "        \n",
    "jup = Cachorro('Júpiter','Fofo')\n",
    "print(jup.nome)\n",
    "print(jup.raca)\n",
    "\n",
    "jup.set_parent(jup)\n",
    "teste_de_dna(jup)\n",
    "\n",
    "circo = jup.procriar(\"Circó\")\n",
    "print(circo.nome)\n",
    "print(circo.raca)\n",
    "teste_de_dna(circo)"
   ]
  },
  {
   "cell_type": "markdown",
   "metadata": {},
   "source": [
    "# Special methods<br>\n",
    "This are executed automatically by Python when we perform some in built functions. We never call them directly. They are:"
   ]
  },
  {
   "cell_type": "raw",
   "metadata": {},
   "source": [
    "__init__ : this is executed whenever an object of the class in instanced\n",
    "__str__: this will be executed when you print or checks the str() version of an object of the class\n",
    "__len__: this will be executed when the length of an object of the class is inquired wih the len() function\n",
    "__del__: this is executed when an object of the class is destroyed with del"
   ]
  },
  {
   "cell_type": "code",
   "execution_count": 1,
   "metadata": {},
   "outputs": [
    {
     "name": "stdout",
     "output_type": "stream",
     "text": [
      "The return of those who did no go is 126 minutes long\n",
      "Printing The return of those who did no go in comics for those who do not have a tv set.\n",
      "The return of those who did no go is no more.\n"
     ]
    }
   ],
   "source": [
    "class Movie:\n",
    "    def __init__(self,title,length):\n",
    "        self.title = title\n",
    "        self.length = length\n",
    "        \n",
    "    def __str__(self):\n",
    "        return 'Printing ' + self.title + ' in comics for those who do not have a tv set.'\n",
    "        \n",
    "    def __len__(self):\n",
    "        return self.length\n",
    "    \n",
    "    def __del__(self):\n",
    "        print(f'{self.title} is no more.')\n",
    "        \n",
    "block_buster = Movie('The return of those who did no go',126)\n",
    "print(f'{block_buster.title} is {len(block_buster)} minutes long')\n",
    "print(block_buster)\n",
    "del block_buster"
   ]
  },
  {
   "cell_type": "code",
   "execution_count": null,
   "metadata": {},
   "outputs": [],
   "source": []
  }
 ],
 "metadata": {
  "kernelspec": {
   "display_name": "Python 3",
   "language": "python",
   "name": "python3"
  },
  "language_info": {
   "codemirror_mode": {
    "name": "ipython",
    "version": 3
   },
   "file_extension": ".py",
   "mimetype": "text/x-python",
   "name": "python",
   "nbconvert_exporter": "python",
   "pygments_lexer": "ipython3",
   "version": "3.7.4"
  }
 },
 "nbformat": 4,
 "nbformat_minor": 4
}
