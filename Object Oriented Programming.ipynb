{
 "cells": [
  {
   "cell_type": "markdown",
   "metadata": {},
   "source": [
    "# Inheritance and Polymorphism\n",
    "<br>\n",
    "Check how in the example bellow the objects of the derived classes \"Man\" and \"Woman\" will execute their own methods, even thought the superclass \"Human\" also has the same methods (polymorphism).<p>\n",
    "Notice also that the objects of the derived classes will execute methods that are defined in the super class when a method which is defined only in the super class, and not in the derived classes, is invoked (inheritance).<p>\n",
    "Another interesting thing is the class <b>object attribute</b> in the \"Human\" class."
   ]
  },
  {
   "cell_type": "code",
   "execution_count": null,
   "metadata": {},
   "outputs": [],
   "source": [
    "class Human():\n",
    "    species = 'Homo sapiens'\n",
    "    \n",
    "    def __init__(self,name,sex):\n",
    "        self.name = name\n",
    "        self.sex = sex\n",
    "        \n",
    "    def speak(self):\n",
    "        return(\"I'm a human\")\n",
    "    \n",
    "    def fart(self):\n",
    "        return(\"<Fart>\")\n",
    "\n",
    "        \n",
    "        \n",
    "class Woman(Human):\n",
    "    def __init__(self,name,sex,breast_size):\n",
    "        Human.__init__(self,name,sex)\n",
    "        self.breast_size = breast_size\n",
    "        \n",
    "    def speak(self):\n",
    "        return(\"I'm a woman\")\n",
    "    \n",
    "        \n",
    "        \n",
    "class Man(Human):\n",
    "    def __init__(self,name,sex,penis_size):\n",
    "        Human.__init__(self,name,sex)\n",
    "        self.penis_size = penis_size\n",
    "\n",
    "    def speak(self):\n",
    "        return(\"I'm a man\")\n",
    "        "
   ]
  },
  {
   "cell_type": "code",
   "execution_count": 40,
   "metadata": {},
   "outputs": [],
   "source": [
    "lu = Man('Luciano','male','long')"
   ]
  },
  {
   "cell_type": "code",
   "execution_count": 41,
   "metadata": {},
   "outputs": [
    {
     "data": {
      "text/plain": [
       "'Luciano'"
      ]
     },
     "execution_count": 41,
     "metadata": {},
     "output_type": "execute_result"
    }
   ],
   "source": [
    "lu.name"
   ]
  },
  {
   "cell_type": "code",
   "execution_count": 42,
   "metadata": {},
   "outputs": [
    {
     "data": {
      "text/plain": [
       "'long'"
      ]
     },
     "execution_count": 42,
     "metadata": {},
     "output_type": "execute_result"
    }
   ],
   "source": [
    "lu.penis_size"
   ]
  },
  {
   "cell_type": "code",
   "execution_count": 43,
   "metadata": {},
   "outputs": [
    {
     "data": {
      "text/plain": [
       "'male'"
      ]
     },
     "execution_count": 43,
     "metadata": {},
     "output_type": "execute_result"
    }
   ],
   "source": [
    "lu.sex"
   ]
  },
  {
   "cell_type": "code",
   "execution_count": 44,
   "metadata": {},
   "outputs": [
    {
     "data": {
      "text/plain": [
       "'Homo sapiens'"
      ]
     },
     "execution_count": 44,
     "metadata": {},
     "output_type": "execute_result"
    }
   ],
   "source": [
    "lu.species"
   ]
  },
  {
   "cell_type": "code",
   "execution_count": 45,
   "metadata": {},
   "outputs": [
    {
     "data": {
      "text/plain": [
       "__main__.Man"
      ]
     },
     "execution_count": 45,
     "metadata": {},
     "output_type": "execute_result"
    }
   ],
   "source": [
    "type(lu)"
   ]
  },
  {
   "cell_type": "code",
   "execution_count": 46,
   "metadata": {},
   "outputs": [],
   "source": [
    "le = Woman('Alessandra','female','huge')"
   ]
  },
  {
   "cell_type": "code",
   "execution_count": 47,
   "metadata": {},
   "outputs": [
    {
     "data": {
      "text/plain": [
       "'huge'"
      ]
     },
     "execution_count": 47,
     "metadata": {},
     "output_type": "execute_result"
    }
   ],
   "source": [
    "le.breast_size"
   ]
  },
  {
   "cell_type": "code",
   "execution_count": 48,
   "metadata": {},
   "outputs": [
    {
     "data": {
      "text/plain": [
       "'Alessandra'"
      ]
     },
     "execution_count": 48,
     "metadata": {},
     "output_type": "execute_result"
    }
   ],
   "source": [
    "le.name"
   ]
  },
  {
   "cell_type": "code",
   "execution_count": 49,
   "metadata": {},
   "outputs": [
    {
     "data": {
      "text/plain": [
       "'female'"
      ]
     },
     "execution_count": 49,
     "metadata": {},
     "output_type": "execute_result"
    }
   ],
   "source": [
    "le.sex"
   ]
  },
  {
   "cell_type": "code",
   "execution_count": 50,
   "metadata": {},
   "outputs": [
    {
     "data": {
      "text/plain": [
       "'Homo sapiens'"
      ]
     },
     "execution_count": 50,
     "metadata": {},
     "output_type": "execute_result"
    }
   ],
   "source": [
    "le.species"
   ]
  },
  {
   "cell_type": "code",
   "execution_count": 51,
   "metadata": {},
   "outputs": [
    {
     "data": {
      "text/plain": [
       "\"I'm a woman\""
      ]
     },
     "execution_count": 51,
     "metadata": {},
     "output_type": "execute_result"
    }
   ],
   "source": [
    "le.speak()"
   ]
  },
  {
   "cell_type": "code",
   "execution_count": 52,
   "metadata": {},
   "outputs": [
    {
     "data": {
      "text/plain": [
       "\"I'm a man\""
      ]
     },
     "execution_count": 52,
     "metadata": {},
     "output_type": "execute_result"
    }
   ],
   "source": [
    "lu.speak()"
   ]
  },
  {
   "cell_type": "code",
   "execution_count": 53,
   "metadata": {},
   "outputs": [
    {
     "data": {
      "text/plain": [
       "'<Fart>'"
      ]
     },
     "execution_count": 53,
     "metadata": {},
     "output_type": "execute_result"
    }
   ],
   "source": [
    "le.fart()"
   ]
  },
  {
   "cell_type": "code",
   "execution_count": 54,
   "metadata": {},
   "outputs": [
    {
     "data": {
      "text/plain": [
       "'<Fart>'"
      ]
     },
     "execution_count": 54,
     "metadata": {},
     "output_type": "execute_result"
    }
   ],
   "source": [
    "lu.fart()"
   ]
  },
  {
   "cell_type": "markdown",
   "metadata": {},
   "source": [
    "# Family tree example\n",
    "<br>\n",
    "Check how classes can have attributes which are instances of themselves, and and object of such class can have even itself as it's own attribute."
   ]
  },
  {
   "cell_type": "code",
   "execution_count": 4,
   "metadata": {},
   "outputs": [
    {
     "name": "stdout",
     "output_type": "stream",
     "text": [
      "Júpiter\n",
      "Fofo\n",
      "Júpiter é eterno e não tem parent nem criador.\n",
      "Circó\n",
      "Fofo\n",
      "O parent de Circó é Júpiter.\n"
     ]
    }
   ],
   "source": [
    "class Cachorro:\n",
    "    def __init__(self,nome,raca):\n",
    "        self.nome = nome\n",
    "        self.raca = raca\n",
    "        \n",
    "    def set_nome(self,nome):\n",
    "        self.nome = nome\n",
    "        \n",
    "    def set_raca(self,raca):\n",
    "        self.raca = raca\n",
    "        \n",
    "    def set_parent(self,parent):\n",
    "        self.parent = parent\n",
    "        \n",
    "    def procriar(self,nome_filho):\n",
    "        filho = Cachorro(nome_filho,self.raca)\n",
    "        filho.set_parent(self)\n",
    "        return filho\n",
    "\n",
    "def teste_de_dna(testado):\n",
    "    if testado.parent == testado:\n",
    "        print(f'{testado.nome} é eterno e não tem parent nem criador.')\n",
    "    else:\n",
    "        print(f'O parent de {testado.nome} é {testado.parent.nome}.')\n",
    "\n",
    "        \n",
    "jup = Cachorro('Júpiter','Fofo')\n",
    "print(jup.nome)\n",
    "print(jup.raca)\n",
    "\n",
    "jup.set_parent(jup)\n",
    "teste_de_dna(jup)\n",
    "\n",
    "circo = jup.procriar(\"Circó\")\n",
    "print(circo.nome)\n",
    "print(circo.raca)\n",
    "teste_de_dna(circo)"
   ]
  },
  {
   "cell_type": "markdown",
   "metadata": {},
   "source": [
    "# Special methods\n",
    "This are executed automatically by Python when we perform some in built functions. We never call them directly. They are:"
   ]
  },
  {
   "cell_type": "raw",
   "metadata": {},
   "source": [
    "__init__ : this is executed whenever an object of the class in instanced\n",
    "__str__: this will be executed when you print or checks the str() version of an object of the class\n",
    "__len__: this will be executed when the length of an object of the class is inquired wih the len() function\n",
    "__del__: this is executed when an object of the class is destroyed with del\n",
    "__dict__: you can call this one to see the attributes and the values of an object in a dictionary. This is not a method, though. It is an attribute."
   ]
  },
  {
   "cell_type": "code",
   "execution_count": 2,
   "metadata": {},
   "outputs": [
    {
     "name": "stdout",
     "output_type": "stream",
     "text": [
      "The return of those who did no go is no more.\n",
      "The return of those who did no go is 126 minutes long\n",
      "Printing The return of those who did no go in comics for those who do not have a tv set.\n",
      "{'title': 'The return of those who did no go', 'length': 126}\n",
      "The return of those who did no go is no more.\n"
     ]
    }
   ],
   "source": [
    "class Movie:\n",
    "    def __init__(self,title,length):\n",
    "        self.title = title\n",
    "        self.length = length\n",
    "        \n",
    "    def __str__(self):\n",
    "        return 'Printing ' + self.title + ' in comics for those who do not have a tv set.'\n",
    "        \n",
    "    def __len__(self):\n",
    "        return self.length\n",
    "    \n",
    "    def __del__(self):\n",
    "        print(f'{self.title} is no more.')\n",
    "        \n",
    "block_buster = Movie('The return of those who did no go',126)\n",
    "print(f'{block_buster.title} is {len(block_buster)} minutes long')\n",
    "print(block_buster)\n",
    "print(block_buster.__dict__)\n",
    "del block_buster¶"
   ]
  },
  {
   "cell_type": "markdown",
   "metadata": {},
   "source": [
    "# About existence of atributes\n",
    "An object atribute exists only when created by the execution of a method which makes it receive a value. In the example above, notice how the object doesn't have the atribute called <code>atr3</code>"
   ]
  },
  {
   "cell_type": "code",
   "execution_count": 19,
   "metadata": {},
   "outputs": [
    {
     "data": {
      "text/plain": [
       "{'atr1': 'a', 'atr2': 'b'}"
      ]
     },
     "execution_count": 19,
     "metadata": {},
     "output_type": "execute_result"
    }
   ],
   "source": [
    "class MyClass():\n",
    "    def __init__(self, atr1, atr2):\n",
    "        self.atr1 = atr1\n",
    "        self.atr2 = atr2\n",
    "    def set_atr3(self, atr3):\n",
    "        self.atr3 = atr3\n",
    "        \n",
    "my_obj = MyClass('a', 'b')\n",
    "my_obj.__dict__"
   ]
  },
  {
   "cell_type": "markdown",
   "metadata": {},
   "source": [
    "And now we make the object have <code>atr3</code>"
   ]
  },
  {
   "cell_type": "code",
   "execution_count": 20,
   "metadata": {},
   "outputs": [
    {
     "data": {
      "text/plain": [
       "{'atr1': 'a', 'atr2': 'b', 'atr3': 'banana'}"
      ]
     },
     "execution_count": 20,
     "metadata": {},
     "output_type": "execute_result"
    }
   ],
   "source": [
    "my_obj.set_atr3('banana')\n",
    "my_obj.__dict__"
   ]
  },
  {
   "cell_type": "markdown",
   "metadata": {},
   "source": [
    "Now check this trick. We all know that if we try to read a non existen object we get an exception, right!?"
   ]
  },
  {
   "cell_type": "code",
   "execution_count": 21,
   "metadata": {},
   "outputs": [
    {
     "ename": "AttributeError",
     "evalue": "'MyClass' object has no attribute 'atr4'",
     "output_type": "error",
     "traceback": [
      "\u001b[0;31m---------------------------------------------------------------------------\u001b[0m",
      "\u001b[0;31mAttributeError\u001b[0m                            Traceback (most recent call last)",
      "\u001b[0;32m<ipython-input-21-8af2bf35f36b>\u001b[0m in \u001b[0;36m<module>\u001b[0;34m\u001b[0m\n\u001b[0;32m----> 1\u001b[0;31m \u001b[0mmy_obj\u001b[0m\u001b[0;34m.\u001b[0m\u001b[0matr4\u001b[0m\u001b[0;34m\u001b[0m\u001b[0;34m\u001b[0m\u001b[0m\n\u001b[0m",
      "\u001b[0;31mAttributeError\u001b[0m: 'MyClass' object has no attribute 'atr4'"
     ]
    }
   ],
   "source": [
    "my_obj.atr4"
   ]
  },
  {
   "cell_type": "markdown",
   "metadata": {},
   "source": [
    "Well, but what if you didn't want an exception to occur? You can use the <code>getattr</code> command specifying a value to be returned when the atribute doesn't exist. Note that getattr can also be used without the \"default value\" attribute too."
   ]
  },
  {
   "cell_type": "code",
   "execution_count": 24,
   "metadata": {},
   "outputs": [
    {
     "name": "stdout",
     "output_type": "stream",
     "text": [
      "This attibute does not exist\n",
      "banana\n"
     ]
    }
   ],
   "source": [
    "print(getattr(my_obj, 'atr4', 'This attibute does not exist'))\n",
    "print(getattr(my_obj, 'atr3'))"
   ]
  },
  {
   "cell_type": "markdown",
   "metadata": {},
   "source": [
    "# Class attributes\n",
    "This is a variable defined inside a class but outside any method. This attribute will be shared among all objects of the class. Check it out."
   ]
  },
  {
   "cell_type": "code",
   "execution_count": 27,
   "metadata": {},
   "outputs": [
    {
     "name": "stdout",
     "output_type": "stream",
     "text": [
      "3\n",
      "3\n",
      "3\n",
      "3\n"
     ]
    }
   ],
   "source": [
    "class Thing():\n",
    "    qt_things = 0\n",
    "    \n",
    "    def __init__(self, name):\n",
    "        self.name = name\n",
    "        Thing.qt_things += 1\n",
    "\n",
    "thing1 = Thing('Fish')        \n",
    "thing2 = Thing('Ball')\n",
    "thing3 = Thing('Cat')\n",
    "\n",
    "print(Thing.qt_things)\n",
    "print(thing1.qt_things)\n",
    "print(thing2.qt_things)\n",
    "print(thing3.qt_things)"
   ]
  },
  {
   "cell_type": "markdown",
   "metadata": {},
   "source": [
    "If you mess with the value of this attribute via an object, though, then an instance of this attribute will be allocated specifically to that object. Check it out!"
   ]
  },
  {
   "cell_type": "code",
   "execution_count": 29,
   "metadata": {},
   "outputs": [
    {
     "name": "stdout",
     "output_type": "stream",
     "text": [
      "3\n",
      "3\n",
      "1000\n",
      "8\n"
     ]
    }
   ],
   "source": [
    "thing2.qt_things = 1000\n",
    "thing3.qt_things += 5\n",
    "\n",
    "print(Thing.qt_things)\n",
    "print(thing1.qt_things)\n",
    "print(thing2.qt_things)\n",
    "print(thing3.qt_things)"
   ]
  },
  {
   "cell_type": "markdown",
   "metadata": {},
   "source": [
    "And now, when you change the value of the \"global\" class attribute, only those objects that don't have their own instance of the attribute will still refer to the class attribute."
   ]
  },
  {
   "cell_type": "code",
   "execution_count": 30,
   "metadata": {},
   "outputs": [
    {
     "name": "stdout",
     "output_type": "stream",
     "text": [
      "4\n",
      "4\n",
      "1000\n",
      "8\n"
     ]
    }
   ],
   "source": [
    "Thing.qt_things += 1\n",
    "\n",
    "print(Thing.qt_things)\n",
    "print(thing1.qt_things)\n",
    "print(thing2.qt_things)\n",
    "print(thing3.qt_things)"
   ]
  },
  {
   "cell_type": "code",
   "execution_count": null,
   "metadata": {},
   "outputs": [],
   "source": []
  }
 ],
 "metadata": {
  "kernelspec": {
   "display_name": "Python 3",
   "language": "python",
   "name": "python3"
  },
  "language_info": {
   "codemirror_mode": {
    "name": "ipython",
    "version": 3
   },
   "file_extension": ".py",
   "mimetype": "text/x-python",
   "name": "python",
   "nbconvert_exporter": "python",
   "pygments_lexer": "ipython3",
   "version": "3.7.5"
  }
 },
 "nbformat": 4,
 "nbformat_minor": 4
}
