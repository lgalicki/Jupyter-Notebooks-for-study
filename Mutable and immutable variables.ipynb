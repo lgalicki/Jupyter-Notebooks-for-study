{
 "cells": [
  {
   "cell_type": "markdown",
   "metadata": {},
   "source": [
    "# Immutable\n",
    "The contents of these variables can't be \"internally\" changed, therefore, when we try to change their value, Python will actually allocate new variables. The immutable types of variables are: int, float, str, tuple and frozenset."
   ]
  },
  {
   "cell_type": "code",
   "execution_count": 3,
   "metadata": {},
   "outputs": [
    {
     "name": "stdout",
     "output_type": "stream",
     "text": [
      "10\n",
      "0x55867b79d420\n",
      "13\n",
      "0x55867b79d480\n"
     ]
    }
   ],
   "source": [
    "a = 10\n",
    "print(a)\n",
    "print(hex(id(a)))\n",
    "a += 3\n",
    "print(a)\n",
    "print(hex(id(a)))"
   ]
  },
  {
   "cell_type": "code",
   "execution_count": 4,
   "metadata": {},
   "outputs": [
    {
     "name": "stdout",
     "output_type": "stream",
     "text": [
      "13.2\n",
      "0x7f9d3c30fdb0\n",
      "26.4\n",
      "0x7f9d3c30fd70\n"
     ]
    }
   ],
   "source": [
    "b = 13.2\n",
    "print(b)\n",
    "print(hex(id(b)))\n",
    "b *= 2\n",
    "print(b)\n",
    "print(hex(id(b)))"
   ]
  },
  {
   "cell_type": "code",
   "execution_count": 5,
   "metadata": {},
   "outputs": [
    {
     "name": "stdout",
     "output_type": "stream",
     "text": [
      "xoxo\n",
      "0x7f9d3c2ad5f0\n",
      "xoxoxoxo\n",
      "0x7f9d3c2b2330\n"
     ]
    }
   ],
   "source": [
    "c = 'xoxo'\n",
    "print(c)\n",
    "print(hex(id(c)))\n",
    "c *= 2\n",
    "print(c)\n",
    "print(hex(id(c)))"
   ]
  },
  {
   "cell_type": "markdown",
   "metadata": {},
   "source": [
    "# Mutable\n",
    "Mutable variables can have their value \"internally\" changed, therefore Python doesn't allocate a new variable when we change a mutable one. Mutable variable types are lists, sets and dictionaries."
   ]
  },
  {
   "cell_type": "code",
   "execution_count": 17,
   "metadata": {},
   "outputs": [
    {
     "name": "stdout",
     "output_type": "stream",
     "text": [
      "[1, 2, 3]\n",
      "0x7f9d26a8d0f0\n",
      "[1, 2]\n",
      "0x7f9d26a8d0f0\n"
     ]
    }
   ],
   "source": [
    "d = [1,2,3]\n",
    "print(d)\n",
    "print(hex(id(d)))\n",
    "d.pop()\n",
    "print(d)\n",
    "print(hex(id(d)))"
   ]
  },
  {
   "cell_type": "code",
   "execution_count": 19,
   "metadata": {},
   "outputs": [
    {
     "name": "stdout",
     "output_type": "stream",
     "text": [
      "{1, 2, 3}\n",
      "0x7f9d26b67140\n",
      "{1, 2, 3, 7}\n",
      "0x7f9d26b67140\n"
     ]
    }
   ],
   "source": [
    "e = {1,2,2,3}\n",
    "print(e)\n",
    "print(hex(id(e)))\n",
    "e.add(7)\n",
    "print(e)\n",
    "print(hex(id(e)))"
   ]
  },
  {
   "cell_type": "code",
   "execution_count": 21,
   "metadata": {},
   "outputs": [
    {
     "name": "stdout",
     "output_type": "stream",
     "text": [
      "{'k1': 10, 'k2': 35}\n",
      "0x7f9d26997690\n",
      "{'k2': 35}\n",
      "0x7f9d26997690\n"
     ]
    }
   ],
   "source": [
    "f = {'k1': 10, 'k2': 35}\n",
    "print(f)\n",
    "print(hex(id(f)))\n",
    "f.pop('k1')\n",
    "print(f)\n",
    "print(hex(id(f)))"
   ]
  },
  {
   "cell_type": "markdown",
   "metadata": {},
   "source": [
    "# Identity operators\n",
    "<code>is</code> and <code>is not</code>.\n",
    "They check if two variables point to a same point in memory. This migh look strange, but take a look at the example with lists."
   ]
  },
  {
   "cell_type": "code",
   "execution_count": 23,
   "metadata": {},
   "outputs": [
    {
     "name": "stdout",
     "output_type": "stream",
     "text": [
      "0x7f9d3c30fd70\n",
      "0x7f9d3c30fd70\n",
      "True\n"
     ]
    }
   ],
   "source": [
    "a = 10\n",
    "a = b\n",
    "print(hex(id(a)))\n",
    "print(hex(id(b)))\n",
    "print(a is b)"
   ]
  },
  {
   "cell_type": "markdown",
   "metadata": {},
   "source": [
    "What if I change the value of b? Will it change a to, since both are poiting at the same memory address?"
   ]
  },
  {
   "cell_type": "code",
   "execution_count": 24,
   "metadata": {},
   "outputs": [
    {
     "name": "stdout",
     "output_type": "stream",
     "text": [
      "0x7f9d3c30fd70\n",
      "0x7f9d40b60fb0\n",
      "False\n"
     ]
    }
   ],
   "source": [
    "b += 15\n",
    "print(hex(id(a)))\n",
    "print(hex(id(b)))\n",
    "print(a is b)"
   ]
  },
  {
   "cell_type": "markdown",
   "metadata": {},
   "source": [
    "It won't because Python allocates a new memmory position only to b, keeping a intact. What about strings?"
   ]
  },
  {
   "cell_type": "code",
   "execution_count": 25,
   "metadata": {},
   "outputs": [
    {
     "name": "stdout",
     "output_type": "stream",
     "text": [
      "0x7f9d262420b0\n",
      "0x7f9d262420b0\n",
      "True\n"
     ]
    }
   ],
   "source": [
    "c = 'xoxo'\n",
    "d = c\n",
    "print(hex(id(c)))\n",
    "print(hex(id(d)))\n",
    "print(c is d)"
   ]
  },
  {
   "cell_type": "code",
   "execution_count": 26,
   "metadata": {},
   "outputs": [
    {
     "name": "stdout",
     "output_type": "stream",
     "text": [
      "0x7f9d262420b0\n",
      "0x7f9d26a79bb0\n",
      "False\n"
     ]
    }
   ],
   "source": [
    "d *= 2\n",
    "print(hex(id(c)))\n",
    "print(hex(id(d)))\n",
    "print(c is d)"
   ]
  },
  {
   "cell_type": "markdown",
   "metadata": {},
   "source": [
    "Same as numbers. Floats?"
   ]
  },
  {
   "cell_type": "code",
   "execution_count": 27,
   "metadata": {},
   "outputs": [
    {
     "name": "stdout",
     "output_type": "stream",
     "text": [
      "0x7f9d25e1ca50\n",
      "0x7f9d25e1ca50\n",
      "True\n"
     ]
    }
   ],
   "source": [
    "e = 3.14\n",
    "f = e\n",
    "print(hex(id(e)))\n",
    "print(hex(id(f)))\n",
    "print(e is f)"
   ]
  },
  {
   "cell_type": "code",
   "execution_count": 28,
   "metadata": {},
   "outputs": [
    {
     "name": "stdout",
     "output_type": "stream",
     "text": [
      "0x7f9d25e1ca50\n",
      "0x7f9d2668fcd0\n",
      "False\n"
     ]
    }
   ],
   "source": [
    "f -= 1\n",
    "print(hex(id(e)))\n",
    "print(hex(id(f)))\n",
    "print(e is f)"
   ]
  },
  {
   "cell_type": "markdown",
   "metadata": {},
   "source": [
    "Floats also behave the same. But now let's see how mutable variables behave in similar situations."
   ]
  },
  {
   "cell_type": "code",
   "execution_count": 31,
   "metadata": {},
   "outputs": [
    {
     "name": "stdout",
     "output_type": "stream",
     "text": [
      "0x7f9d26aaaaa0\n",
      "0x7f9d26aaaaa0\n",
      "True\n"
     ]
    }
   ],
   "source": [
    "g = [1,2,3]\n",
    "h = g\n",
    "print(hex(id(g)))\n",
    "print(hex(id(h)))\n",
    "print(g is h)"
   ]
  },
  {
   "cell_type": "code",
   "execution_count": 32,
   "metadata": {},
   "outputs": [
    {
     "name": "stdout",
     "output_type": "stream",
     "text": [
      "0x7f9d26aaaaa0\n",
      "0x7f9d26aaaaa0\n",
      "[1, 2, 3, 24]\n",
      "[1, 2, 3, 24]\n",
      "True\n"
     ]
    }
   ],
   "source": [
    "h.append(24)\n",
    "print(hex(id(g)))\n",
    "print(hex(id(h)))\n",
    "print(g)\n",
    "print(h)\n",
    "print(g is h)"
   ]
  },
  {
   "cell_type": "markdown",
   "metadata": {},
   "source": [
    "Holy crap! We change h and g is also change because h actually acts as a pointer! How could we create a second list from a first one and modify only the second while keeping the first intact? Check it out!"
   ]
  },
  {
   "cell_type": "code",
   "execution_count": 33,
   "metadata": {},
   "outputs": [
    {
     "name": "stdout",
     "output_type": "stream",
     "text": [
      "0x7f9d26a54230\n",
      "0x7f9d2696e410\n",
      "False\n"
     ]
    }
   ],
   "source": [
    "i = [1,2,3]\n",
    "j = i.copy()\n",
    "print(hex(id(i)))\n",
    "print(hex(id(j)))\n",
    "print(i is j)"
   ]
  },
  {
   "cell_type": "code",
   "execution_count": 34,
   "metadata": {},
   "outputs": [
    {
     "name": "stdout",
     "output_type": "stream",
     "text": [
      "0x7f9d26a54230\n",
      "0x7f9d2696e410\n",
      "[1, 2, 3]\n",
      "[1, 2, 3, 69]\n",
      "False\n"
     ]
    }
   ],
   "source": [
    "j.append(69)\n",
    "print(hex(id(i)))\n",
    "print(hex(id(j)))\n",
    "print(i)\n",
    "print(j)\n",
    "print(i is j)"
   ]
  },
  {
   "cell_type": "markdown",
   "metadata": {},
   "source": [
    "As you can see, j is created in a different memory address. What about sets?"
   ]
  },
  {
   "cell_type": "code",
   "execution_count": 37,
   "metadata": {},
   "outputs": [
    {
     "name": "stdout",
     "output_type": "stream",
     "text": [
      "0x7f9d261bbaa0\n",
      "0x7f9d261bbaa0\n",
      "True\n",
      "{1, 2, 3, 666}\n",
      "{1, 2, 3, 666}\n",
      "0x7f9d261bbaa0\n",
      "0x7f9d261bbaa0\n",
      "True\n"
     ]
    }
   ],
   "source": [
    "k = {1,2,2,3,1,2}\n",
    "l = k\n",
    "print(hex(id(k)))\n",
    "print(hex(id(l)))\n",
    "print(k is l)\n",
    "\n",
    "l.add(666)\n",
    "print(k)\n",
    "print(l)\n",
    "print(hex(id(k)))\n",
    "print(hex(id(l)))\n",
    "print(k is l)"
   ]
  },
  {
   "cell_type": "markdown",
   "metadata": {},
   "source": [
    "As you can see, sets behave exactly like lists, therefore we gotta deal with them in the same way."
   ]
  },
  {
   "cell_type": "code",
   "execution_count": 38,
   "metadata": {},
   "outputs": [
    {
     "name": "stdout",
     "output_type": "stream",
     "text": [
      "0x7f9d26a95500\n",
      "0x7f9d26a95c80\n",
      "False\n",
      "{1, 2, 3}\n",
      "{1, 2, 3, 666}\n",
      "0x7f9d26a95500\n",
      "0x7f9d26a95c80\n",
      "False\n"
     ]
    }
   ],
   "source": [
    "k = {1,2,2,3,1,2}\n",
    "l = k.copy()\n",
    "print(hex(id(k)))\n",
    "print(hex(id(l)))\n",
    "print(k is l)\n",
    "\n",
    "l.add(666)\n",
    "print(k)\n",
    "print(l)\n",
    "print(hex(id(k)))\n",
    "print(hex(id(l)))\n",
    "print(k is l)"
   ]
  },
  {
   "cell_type": "markdown",
   "metadata": {},
   "source": [
    "Finally, dictionaries."
   ]
  },
  {
   "cell_type": "code",
   "execution_count": 41,
   "metadata": {},
   "outputs": [
    {
     "name": "stdout",
     "output_type": "stream",
     "text": [
      "0x7f9d269237d0\n",
      "0x7f9d269237d0\n",
      "True\n",
      "{'k2': 3}\n",
      "{'k2': 3}\n",
      "0x7f9d269237d0\n",
      "0x7f9d269237d0\n",
      "True\n"
     ]
    }
   ],
   "source": [
    "m = {'k1': 1, 'k2': 3}\n",
    "n = m\n",
    "print(hex(id(m)))\n",
    "print(hex(id(n)))\n",
    "print(m is n)\n",
    "\n",
    "n.pop('k1')\n",
    "print(m)\n",
    "print(n)\n",
    "print(hex(id(m)))\n",
    "print(hex(id(n)))\n",
    "print(m is n)"
   ]
  },
  {
   "cell_type": "code",
   "execution_count": 43,
   "metadata": {},
   "outputs": [
    {
     "name": "stdout",
     "output_type": "stream",
     "text": [
      "0x7f9d266b2a00\n",
      "0x7f9d266b2be0\n",
      "False\n",
      "{'k1': 1, 'k2': 3}\n",
      "{'k2': 3}\n",
      "0x7f9d266b2a00\n",
      "0x7f9d266b2be0\n",
      "False\n"
     ]
    }
   ],
   "source": [
    "m = {'k1': 1, 'k2': 3}\n",
    "n = m.copy()\n",
    "print(hex(id(m)))\n",
    "print(hex(id(n)))\n",
    "print(m is n)\n",
    "\n",
    "n.pop('k1')\n",
    "print(m)\n",
    "print(n)\n",
    "print(hex(id(m)))\n",
    "print(hex(id(n)))\n",
    "print(m is n)"
   ]
  },
  {
   "cell_type": "markdown",
   "metadata": {},
   "source": [
    "There! Just don't ask me why Python treats some variables as mutable as others as immutable!"
   ]
  },
  {
   "cell_type": "code",
   "execution_count": null,
   "metadata": {},
   "outputs": [],
   "source": []
  }
 ],
 "metadata": {
  "kernelspec": {
   "display_name": "Python 3",
   "language": "python",
   "name": "python3"
  },
  "language_info": {
   "codemirror_mode": {
    "name": "ipython",
    "version": 3
   },
   "file_extension": ".py",
   "mimetype": "text/x-python",
   "name": "python",
   "nbconvert_exporter": "python",
   "pygments_lexer": "ipython3",
   "version": "3.7.5"
  }
 },
 "nbformat": 4,
 "nbformat_minor": 4
}
