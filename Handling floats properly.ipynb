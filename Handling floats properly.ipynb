{
 "cells": [
  {
   "cell_type": "markdown",
   "metadata": {},
   "source": [
    "# Comparisions"
   ]
  },
  {
   "cell_type": "markdown",
   "metadata": {},
   "source": [
    "Due to the inability of representing some finite decimal point numbers in base ten in internal binary notation, comparisions and operations with floats sometimes won't work properly. Check it out."
   ]
  },
  {
   "cell_type": "markdown",
   "metadata": {},
   "source": [
    "a = 0.1 + 0.1 + 0.1\n",
    "b = 0.3\n",
    "a == b"
   ]
  },
  {
   "cell_type": "markdown",
   "metadata": {},
   "source": [
    "This happens because internally this variables are represented like this. Binary notation can't represent them."
   ]
  },
  {
   "cell_type": "code",
   "execution_count": 3,
   "metadata": {},
   "outputs": [
    {
     "name": "stdout",
     "output_type": "stream",
     "text": [
      "0.1000000000000000055511151\n",
      "0.2999999999999999888977698\n"
     ]
    }
   ],
   "source": [
    "print(format(0.1, '.25f'))\n",
    "print(format(0.3, '.25f'))"
   ]
  },
  {
   "cell_type": "markdown",
   "metadata": {},
   "source": [
    "The way to fix this is using <code>isclose()</code>, from the math module."
   ]
  },
  {
   "cell_type": "code",
   "execution_count": 8,
   "metadata": {},
   "outputs": [
    {
     "name": "stdout",
     "output_type": "stream",
     "text": [
      "True\n",
      "True\n"
     ]
    }
   ],
   "source": [
    "from math import isclose\n",
    "a = 0.0000001\n",
    "b = 0.0000002\n",
    "x = 999999.01\n",
    "y = 999999.02\n",
    "print(isclose(a, b, rel_tol=0.001, abs_tol=0.001))\n",
    "print(isclose(x, y, rel_tol=0.001, abs_tol=0.001))"
   ]
  },
  {
   "cell_type": "markdown",
   "metadata": {},
   "source": [
    "If we use <code>==</code>, things wouldn't work."
   ]
  },
  {
   "cell_type": "code",
   "execution_count": 9,
   "metadata": {},
   "outputs": [
    {
     "name": "stdout",
     "output_type": "stream",
     "text": [
      "False\n",
      "False\n"
     ]
    }
   ],
   "source": [
    "print(a == b)\n",
    "print(x == y)"
   ]
  },
  {
   "cell_type": "markdown",
   "metadata": {},
   "source": [
    "<code>abs_tol</code> (absolute tolerance) is used when comparing small numbers, and <code>rel_tot</code> (relative tolerance) is used when comparing big numbers"
   ]
  },
  {
   "cell_type": "markdown",
   "metadata": {},
   "source": [
    "# Operations"
   ]
  },
  {
   "cell_type": "code",
   "execution_count": 3,
   "metadata": {},
   "outputs": [
    {
     "data": {
      "text/plain": [
       "False"
      ]
     },
     "execution_count": 3,
     "metadata": {},
     "output_type": "execute_result"
    }
   ],
   "source": [
    "a = 3.4\n",
    "b = 2.3\n",
    "c = 5.7\n",
    "c == a + b"
   ]
  },
  {
   "cell_type": "markdown",
   "metadata": {},
   "source": [
    "Why such thing happend?! Because of binary infinity representation for the floats 3.4 and 2.3."
   ]
  },
  {
   "cell_type": "code",
   "execution_count": 11,
   "metadata": {},
   "outputs": [
    {
     "name": "stdout",
     "output_type": "stream",
     "text": [
      "3.399999999999999911182158\n",
      "2.299999999999999822364316\n"
     ]
    }
   ],
   "source": [
    "print(format(a, '.25'))\n",
    "print(format(b, '.25'))"
   ]
  },
  {
   "cell_type": "markdown",
   "metadata": {},
   "source": [
    "In order to fix this we use use the decimal module."
   ]
  },
  {
   "cell_type": "code",
   "execution_count": 2,
   "metadata": {},
   "outputs": [
    {
     "data": {
      "text/plain": [
       "True"
      ]
     },
     "execution_count": 2,
     "metadata": {},
     "output_type": "execute_result"
    }
   ],
   "source": [
    "import decimal\n",
    "from decimal import Decimal #This is just to make code look cleaner\n",
    "\n",
    "a = Decimal('3.4')\n",
    "b = Decimal('2.3')\n",
    "c = Decimal('5.7')\n",
    "c == a + b"
   ]
  },
  {
   "cell_type": "markdown",
   "metadata": {},
   "source": [
    "Two things should be noticed:\n",
    "a. when defining a float as a Decimal object you should use '\n",
    "b. Decimal has been individually imported to avoid writting <code>decimal.Decimal()</code>\n",
    "\n",
    "Now let's havea practical example of what's been said in item a."
   ]
  },
  {
   "cell_type": "code",
   "execution_count": 4,
   "metadata": {},
   "outputs": [
    {
     "name": "stdout",
     "output_type": "stream",
     "text": [
      "0.1\n",
      "0.1000000000000000055511151231257827021181583404541015625\n",
      "False\n"
     ]
    }
   ],
   "source": [
    "a = Decimal('0.1')\n",
    "b = Decimal(0.1)\n",
    "print(a)\n",
    "print(b)\n",
    "print(a == b)"
   ]
  },
  {
   "cell_type": "markdown",
   "metadata": {},
   "source": [
    "Even if passed with single quotes, mathematical operations still work properly."
   ]
  },
  {
   "cell_type": "code",
   "execution_count": 6,
   "metadata": {},
   "outputs": [
    {
     "name": "stdout",
     "output_type": "stream",
     "text": [
      "0.3\n",
      "0.3000000000000000166533453694\n"
     ]
    }
   ],
   "source": [
    "print(a * 3)\n",
    "print(b * 3)"
   ]
  },
  {
   "cell_type": "markdown",
   "metadata": {},
   "source": [
    "The way Decimal objects will behave when performing opertions depend on the context of the Decimal class. This is <b>NOT takes into account when displaying the Decimal objects</b>, though."
   ]
  },
  {
   "cell_type": "code",
   "execution_count": 7,
   "metadata": {},
   "outputs": [
    {
     "data": {
      "text/plain": [
       "Context(prec=28, rounding=ROUND_HALF_EVEN, Emin=-999999, Emax=999999, capitals=1, clamp=0, flags=[], traps=[InvalidOperation, DivisionByZero, Overflow])"
      ]
     },
     "execution_count": 7,
     "metadata": {},
     "output_type": "execute_result"
    }
   ],
   "source": [
    "decimal.getcontext()"
   ]
  },
  {
   "cell_type": "markdown",
   "metadata": {},
   "source": [
    "Let's override the settings in order to show how this works"
   ]
  },
  {
   "cell_type": "code",
   "execution_count": 17,
   "metadata": {},
   "outputs": [
    {
     "name": "stdout",
     "output_type": "stream",
     "text": [
      "0.12\n"
     ]
    }
   ],
   "source": [
    "decimal.getcontext().rounding = decimal.ROUND_HALF_UP\n",
    "decimal.getcontext().prec = 2\n",
    "\n",
    "a = Decimal('0.12345')\n",
    "print(a + 0)"
   ]
  },
  {
   "cell_type": "markdown",
   "metadata": {},
   "source": [
    "<b>IMPORTANT</b>: do NOT use the functions in the math module to make operations with Decimals. They'll make them behave like regular floats. You should always use the operations in the decimals module to handle operations with Decimals. Check it out."
   ]
  },
  {
   "cell_type": "code",
   "execution_count": 21,
   "metadata": {},
   "outputs": [
    {
     "name": "stdout",
     "output_type": "stream",
     "text": [
      "0.3162277660168379331998893544\n",
      "0.31622776601683794\n",
      "False\n"
     ]
    }
   ],
   "source": [
    "#I'll reimport decimal to reset the default rounding values\n",
    "import decimal\n",
    "from decimal import Decimal\n",
    "#Now we're good to go\n",
    "\n",
    "a = Decimal('0.1')\n",
    "print(a.sqrt())\n",
    "\n",
    "import math\n",
    "print(math.sqrt(a))\n",
    "\n",
    "print(a.sqrt() == math.sqrt(a))"
   ]
  },
  {
   "cell_type": "code",
   "execution_count": null,
   "metadata": {},
   "outputs": [],
   "source": []
  }
 ],
 "metadata": {
  "kernelspec": {
   "display_name": "Python 3",
   "language": "python",
   "name": "python3"
  },
  "language_info": {
   "codemirror_mode": {
    "name": "ipython",
    "version": 3
   },
   "file_extension": ".py",
   "mimetype": "text/x-python",
   "name": "python",
   "nbconvert_exporter": "python",
   "pygments_lexer": "ipython3",
   "version": "3.7.5"
  }
 },
 "nbformat": 4,
 "nbformat_minor": 4
}
