{
 "cells": [
  {
   "cell_type": "markdown",
   "metadata": {},
   "source": [
    "Python has built-in methods for measuring code performance. Jupyter notebooks run in IPython, which has the so called magic commands, whilst regular Python has its own library with such features. Here I'll show you both.\n",
    "\n",
    "First let's define some functions that calculate the same using different methods."
   ]
  },
  {
   "cell_type": "code",
   "execution_count": 9,
   "metadata": {},
   "outputs": [],
   "source": [
    "def regular_multiplication(x,y):\n",
    "    return x * y\n",
    "\n",
    "def dumb_multiplication(x,y):\n",
    "    res = int()\n",
    "    for i in range(x):\n",
    "        res += y\n",
    "    return res\n",
    "\n",
    "def dumb_multiplication2(x,y):\n",
    "    res = int()\n",
    "    i = int()\n",
    "    while i < x:\n",
    "        res += y\n",
    "        i += 1\n",
    "    return res"
   ]
  },
  {
   "cell_type": "markdown",
   "metadata": {},
   "source": [
    "# Using IPython magic commands"
   ]
  },
  {
   "cell_type": "code",
   "execution_count": 19,
   "metadata": {},
   "outputs": [
    {
     "name": "stdin",
     "output_type": "stream",
     "text": [
      "First value:  1\n",
      "Second value:  2\n"
     ]
    },
    {
     "name": "stdout",
     "output_type": "stream",
     "text": [
      "76 ns ± 1.82 ns per loop (mean ± std. dev. of 7 runs, 10000000 loops each)\n",
      "294 ns ± 12.3 ns per loop (mean ± std. dev. of 7 runs, 1000000 loops each)\n",
      "233 ns ± 1.85 ns per loop (mean ± std. dev. of 7 runs, 1000000 loops each)\n"
     ]
    }
   ],
   "source": [
    "while True:\n",
    "    try:\n",
    "        a = int(input(\"First value: \"))\n",
    "    except:\n",
    "        continue\n",
    "    else:\n",
    "        break\n",
    "        \n",
    "while True:\n",
    "    try:\n",
    "        b = int(input(\"Second value: \"))\n",
    "    except:\n",
    "        continue\n",
    "    else:\n",
    "        break\n",
    "\n",
    "%timeit regular_multiplication(a,b)\n",
    "%timeit dumb_multiplication(a,b)\n",
    "%timeit dumb_multiplication2(a,b)"
   ]
  },
  {
   "cell_type": "markdown",
   "metadata": {},
   "source": [
    "# Using regular Python library"
   ]
  },
  {
   "cell_type": "code",
   "execution_count": 28,
   "metadata": {},
   "outputs": [
    {
     "name": "stdin",
     "output_type": "stream",
     "text": [
      "First value:  123456\n",
      "Second value:  123456\n",
      "How many times do you want to run the test?  100\n"
     ]
    },
    {
     "name": "stdout",
     "output_type": "stream",
     "text": [
      "4.0531999729864765e-05\n",
      "0.48554555699956836\n",
      "0.7214608860003864\n"
     ]
    }
   ],
   "source": [
    "import timeit\n",
    "\n",
    "while True:\n",
    "    try:\n",
    "        a = int(input(\"First value: \"))\n",
    "    except:\n",
    "        continue\n",
    "    else:\n",
    "        break\n",
    "        \n",
    "while True:\n",
    "    try:\n",
    "        b = int(input(\"Second value: \"))\n",
    "    except:\n",
    "        continue\n",
    "    else:\n",
    "        break\n",
    "\n",
    "while True:\n",
    "    try:\n",
    "        c = int(input(\"How many times do you want to run the test? \"))\n",
    "    except:\n",
    "        continue\n",
    "    else:\n",
    "        break\n",
    "               \n",
    "print(timeit.timeit(f'regular_multiplication({a},{b})',number=c,setup=\"from __main__ import regular_multiplication\"))\n",
    "print(timeit.timeit(f'dumb_multiplication({a},{b})',number=c,setup=\"from __main__ import dumb_multiplication\"))\n",
    "print(timeit.timeit(f'dumb_multiplication2({a},{b})',number=c,setup=\"from __main__ import dumb_multiplication2\"))"
   ]
  },
  {
   "cell_type": "code",
   "execution_count": null,
   "metadata": {},
   "outputs": [],
   "source": []
  }
 ],
 "metadata": {
  "kernelspec": {
   "display_name": "Python 3",
   "language": "python",
   "name": "python3"
  },
  "language_info": {
   "codemirror_mode": {
    "name": "ipython",
    "version": 3
   },
   "file_extension": ".py",
   "mimetype": "text/x-python",
   "name": "python",
   "nbconvert_exporter": "python",
   "pygments_lexer": "ipython3",
   "version": "3.7.5"
  }
 },
 "nbformat": 4,
 "nbformat_minor": 4
}
