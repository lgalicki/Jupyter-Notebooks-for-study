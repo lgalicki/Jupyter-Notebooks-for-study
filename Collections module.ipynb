{
 "cells": [
  {
   "cell_type": "markdown",
   "metadata": {},
   "source": [
    "This is a cool module which has interesting functionalities to work with collections. Shall we check them out!? Do not forget to import them from <code>collections</code>."
   ]
  },
  {
   "cell_type": "markdown",
   "metadata": {},
   "source": [
    "# Counter\n",
    "Counter counts the ammount of occurrences of objects in an iterable and returns the results in a dictionary. It also has some cool methods! Let's take a closer look."
   ]
  },
  {
   "cell_type": "code",
   "execution_count": 2,
   "metadata": {},
   "outputs": [
    {
     "data": {
      "text/plain": [
       "Counter({'a': 5, 'b': 2, 'r': 2, 'c': 1, 'd': 1})"
      ]
     },
     "execution_count": 2,
     "metadata": {},
     "output_type": "execute_result"
    }
   ],
   "source": [
    "from collections import Counter\n",
    "\n",
    "my_list = ['a','b','r','a','c','a','d','a','b','r','a']\n",
    "Counter(my_list)"
   ]
  },
  {
   "cell_type": "code",
   "execution_count": 3,
   "metadata": {},
   "outputs": [
    {
     "data": {
      "text/plain": [
       "Counter({'A': 1, 'l': 1, 'e': 1, 's': 2, 'a': 2, 'n': 1, 'd': 1, 'r': 1})"
      ]
     },
     "execution_count": 3,
     "metadata": {},
     "output_type": "execute_result"
    }
   ],
   "source": [
    "my_string = 'Alessandra'\n",
    "Counter(my_string)"
   ]
  },
  {
   "cell_type": "code",
   "execution_count": 9,
   "metadata": {},
   "outputs": [
    {
     "data": {
      "text/plain": [
       "[('a', 5), ('b', 2)]"
      ]
     },
     "execution_count": 9,
     "metadata": {},
     "output_type": "execute_result"
    }
   ],
   "source": [
    "count = Counter(my_list)\n",
    "count.most_common(2)"
   ]
  },
  {
   "cell_type": "code",
   "execution_count": 15,
   "metadata": {},
   "outputs": [
    {
     "data": {
      "text/plain": [
       "['A', 'l', 'e', 's', 'a', 'n', 'd', 'r']"
      ]
     },
     "execution_count": 15,
     "metadata": {},
     "output_type": "execute_result"
    }
   ],
   "source": [
    "count = Counter(my_string)\n",
    "list(count) #This eliminates duplicated values. I'd use a set(), though."
   ]
  },
  {
   "cell_type": "markdown",
   "metadata": {},
   "source": [
    "# defaultdict\n",
    "These are dictionaries which will never return an error if a unexistant key is requested. They'll return a default value. This default value must be a callable object. If you want to return a zero, for example, the default object should be lambda function that return 0.\n",
    "\n",
    "It works in a kind of weird way: when you try to access an unexistant key, the key is actually created and it receives the default value."
   ]
  },
  {
   "cell_type": "code",
   "execution_count": 39,
   "metadata": {},
   "outputs": [
    {
     "name": "stdout",
     "output_type": "stream",
     "text": [
      "defaultdict(<function <lambda> at 0x7f8cb78be8c0>, {})\n"
     ]
    }
   ],
   "source": [
    "from collections import defaultdict\n",
    "my_dict = defaultdict(lambda : False)\n",
    "print(my_dict)"
   ]
  },
  {
   "cell_type": "code",
   "execution_count": 40,
   "metadata": {},
   "outputs": [
    {
     "data": {
      "text/plain": [
       "False"
      ]
     },
     "execution_count": 40,
     "metadata": {},
     "output_type": "execute_result"
    }
   ],
   "source": [
    "my_dict['abc']"
   ]
  },
  {
   "cell_type": "code",
   "execution_count": 41,
   "metadata": {},
   "outputs": [
    {
     "data": {
      "text/plain": [
       "1"
      ]
     },
     "execution_count": 41,
     "metadata": {},
     "output_type": "execute_result"
    }
   ],
   "source": [
    "len(my_dict)"
   ]
  },
  {
   "cell_type": "code",
   "execution_count": 42,
   "metadata": {},
   "outputs": [
    {
     "data": {
      "text/plain": [
       "dict_items([('abc', False)])"
      ]
     },
     "execution_count": 42,
     "metadata": {},
     "output_type": "execute_result"
    }
   ],
   "source": [
    "my_dict.items()"
   ]
  },
  {
   "cell_type": "code",
   "execution_count": 43,
   "metadata": {},
   "outputs": [],
   "source": [
    "my_dict['lu'] = 3"
   ]
  },
  {
   "cell_type": "code",
   "execution_count": 44,
   "metadata": {},
   "outputs": [
    {
     "name": "stdout",
     "output_type": "stream",
     "text": [
      "defaultdict(<function <lambda> at 0x7f8cb78be8c0>, {'abc': False, 'lu': 3})\n"
     ]
    }
   ],
   "source": [
    "print(my_dict)"
   ]
  },
  {
   "cell_type": "code",
   "execution_count": 45,
   "metadata": {},
   "outputs": [
    {
     "data": {
      "text/plain": [
       "False"
      ]
     },
     "execution_count": 45,
     "metadata": {},
     "output_type": "execute_result"
    }
   ],
   "source": [
    "my_dict['le']"
   ]
  },
  {
   "cell_type": "code",
   "execution_count": 46,
   "metadata": {},
   "outputs": [
    {
     "name": "stdout",
     "output_type": "stream",
     "text": [
      "defaultdict(<function <lambda> at 0x7f8cb78be8c0>, {'abc': False, 'lu': 3, 'le': False})\n"
     ]
    }
   ],
   "source": [
    "print(my_dict)"
   ]
  },
  {
   "cell_type": "markdown",
   "metadata": {},
   "source": [
    "# OrderedDict\n",
    "These are dictinaries that maintain the order or the input of its elements. Regular dictionaries don't do it. Check it out.\n",
    "\n",
    "<B>LOL! TURNS OUT REGULAR DICTIONARIES WERE ALREADY ORDERED.</B> Forget about this shit! I don't know... Is this a version thing? Was my sample too small!?"
   ]
  },
  {
   "cell_type": "code",
   "execution_count": 58,
   "metadata": {},
   "outputs": [
    {
     "name": "stdout",
     "output_type": "stream",
     "text": [
      "z Primeiro\n",
      "e Segundo\n",
      "b Terceiro\n",
      "r Décimo primeiro\n",
      "a Décimo quarto\n",
      "  Sexto\n",
      "l Sétimo\n",
      "i Oitavo\n",
      "s Nono\n",
      "t Décimo\n",
      "d Décimo terceiro\n"
     ]
    }
   ],
   "source": [
    "my_regular_dict = dict()\n",
    "my_regular_dict['z'] = 'Primeiro'\n",
    "my_regular_dict['e'] = 'Segundo'\n",
    "my_regular_dict['b'] = 'Terceiro'\n",
    "my_regular_dict['r'] = 'Quarto'\n",
    "my_regular_dict['a'] = 'Quinto'\n",
    "my_regular_dict[' '] = 'Sexto'\n",
    "my_regular_dict['l'] = 'Sétimo'\n",
    "my_regular_dict['i'] = 'Oitavo'\n",
    "my_regular_dict['s'] = 'Nono'\n",
    "my_regular_dict['t'] = 'Décimo'\n",
    "my_regular_dict['r'] = 'Décimo primeiro'\n",
    "my_regular_dict['a'] = 'Décimo segundo'\n",
    "my_regular_dict['d'] = 'Décimo terceiro'\n",
    "my_regular_dict['a'] = 'Décimo quarto'\n",
    "\n",
    "for k,v in my_regular_dict.items():\n",
    "    print(k,v)"
   ]
  },
  {
   "cell_type": "code",
   "execution_count": 60,
   "metadata": {},
   "outputs": [
    {
     "name": "stdout",
     "output_type": "stream",
     "text": [
      "z Primeiro\n",
      "e Segundo\n",
      "b Terceiro\n",
      "r Décimo primeiro\n",
      "a Décimo quarto\n",
      "  Sexto\n",
      "l Sétimo\n",
      "i Oitavo\n",
      "s Nono\n",
      "t Décimo\n",
      "d Décimo terceiro\n"
     ]
    }
   ],
   "source": [
    "from collections import OrderedDict\n",
    "\n",
    "my_ordered_dict = OrderedDict()\n",
    "my_ordered_dict['z'] = 'Primeiro'\n",
    "my_ordered_dict['e'] = 'Segundo'\n",
    "my_ordered_dict['b'] = 'Terceiro'\n",
    "my_ordered_dict['r'] = 'Quarto'\n",
    "my_ordered_dict['a'] = 'Quinto'\n",
    "my_ordered_dict[' '] = 'Sexto'\n",
    "my_ordered_dict['l'] = 'Sétimo'\n",
    "my_ordered_dict['i'] = 'Oitavo'\n",
    "my_ordered_dict['s'] = 'Nono'\n",
    "my_ordered_dict['t'] = 'Décimo'\n",
    "my_ordered_dict['r'] = 'Décimo primeiro'\n",
    "my_ordered_dict['a'] = 'Décimo segundo'\n",
    "my_ordered_dict['d'] = 'Décimo terceiro'\n",
    "my_ordered_dict['a'] = 'Décimo quarto'\n",
    "\n",
    "for k,v in my_ordered_dict.items():\n",
    "    print(k,v)"
   ]
  },
  {
   "cell_type": "markdown",
   "metadata": {},
   "source": [
    "# namedtuple\n",
    "As the name suggests, it's a tuple with informations that can be accessed also by a label, and not only by index position. It could be usefull if dealing with numerical indexing gets a bit confusin.\n",
    "\n",
    "Because it works kinda like a class, this is a good option if you need to create classes that have no methods, and only atributes. This is also the reason why we'll usually create named tuples capitalized."
   ]
  },
  {
   "cell_type": "code",
   "execution_count": 8,
   "metadata": {},
   "outputs": [
    {
     "name": "stdout",
     "output_type": "stream",
     "text": [
      "Dog(size='small', age=10, name='Circó')\n",
      "Circó\n",
      "small\n",
      "10\n"
     ]
    }
   ],
   "source": [
    "from collections import namedtuple\n",
    "\n",
    "Dog = namedtuple('Dog', 'size age name')\n",
    "first_dog = Dog(size=\"small\", age=10, name=\"Circó\")\n",
    "\n",
    "print(first_dog)\n",
    "print(first_dog.name)\n",
    "print(first_dog.size)\n",
    "print(first_dog.age)"
   ]
  },
  {
   "cell_type": "markdown",
   "metadata": {},
   "source": [
    "We still can access data through numerical index."
   ]
  },
  {
   "cell_type": "code",
   "execution_count": 12,
   "metadata": {},
   "outputs": [
    {
     "name": "stdout",
     "output_type": "stream",
     "text": [
      "small\n",
      "10\n",
      "Circó\n"
     ]
    }
   ],
   "source": [
    "print(first_dog[0])\n",
    "print(first_dog[1])\n",
    "print(first_dog[2])"
   ]
  },
  {
   "cell_type": "markdown",
   "metadata": {},
   "source": [
    "As with regular tuples, we can't change attributes."
   ]
  },
  {
   "cell_type": "code",
   "execution_count": 14,
   "metadata": {},
   "outputs": [
    {
     "ename": "AttributeError",
     "evalue": "can't set attribute",
     "output_type": "error",
     "traceback": [
      "\u001b[0;31m---------------------------------------------------------------------------\u001b[0m",
      "\u001b[0;31mAttributeError\u001b[0m                            Traceback (most recent call last)",
      "\u001b[0;32m<ipython-input-14-23bf06099a0e>\u001b[0m in \u001b[0;36m<module>\u001b[0;34m\u001b[0m\n\u001b[0;32m----> 1\u001b[0;31m \u001b[0mfirst_dog\u001b[0m\u001b[0;34m.\u001b[0m\u001b[0mname\u001b[0m \u001b[0;34m=\u001b[0m \u001b[0;34m'Circolino'\u001b[0m\u001b[0;34m\u001b[0m\u001b[0;34m\u001b[0m\u001b[0m\n\u001b[0m",
      "\u001b[0;31mAttributeError\u001b[0m: can't set attribute"
     ]
    }
   ],
   "source": [
    "first_dog.name = 'Circolino'"
   ]
  },
  {
   "cell_type": "markdown",
   "metadata": {},
   "source": [
    "Passing the name of the attributes is optional if you inform them in the correct order."
   ]
  },
  {
   "cell_type": "code",
   "execution_count": 18,
   "metadata": {},
   "outputs": [
    {
     "name": "stdout",
     "output_type": "stream",
     "text": [
      "Dog(size='big', age=6, name='Júpiter')\n"
     ]
    }
   ],
   "source": [
    "second_dog = Dog(\"big\",6,\"Júpiter\")\n",
    "print(second_dog)"
   ]
  },
  {
   "cell_type": "code",
   "execution_count": null,
   "metadata": {},
   "outputs": [],
   "source": []
  }
 ],
 "metadata": {
  "kernelspec": {
   "display_name": "Python 3",
   "language": "python",
   "name": "python3"
  },
  "language_info": {
   "codemirror_mode": {
    "name": "ipython",
    "version": 3
   },
   "file_extension": ".py",
   "mimetype": "text/x-python",
   "name": "python",
   "nbconvert_exporter": "python",
   "pygments_lexer": "ipython3",
   "version": "3.7.6"
  }
 },
 "nbformat": 4,
 "nbformat_minor": 4
}
