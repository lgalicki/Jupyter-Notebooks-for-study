{
 "cells": [
  {
   "cell_type": "markdown",
   "metadata": {},
   "source": [
    "# Reading Excel files"
   ]
  },
  {
   "cell_type": "markdown",
   "metadata": {},
   "source": [
    "In order to interpret Excel files with Python we must use the OpenPYXL module.\n",
    "The term workbook refers to an Excel file.\n",
    "First let's open the file."
   ]
  },
  {
   "cell_type": "code",
   "execution_count": 37,
   "metadata": {},
   "outputs": [],
   "source": [
    "import openpyxl\n",
    "\n",
    "wb = openpyxl.load_workbook('store.xlsx')"
   ]
  },
  {
   "cell_type": "markdown",
   "metadata": {},
   "source": [
    "Now let's see the spread sheets it contains."
   ]
  },
  {
   "cell_type": "code",
   "execution_count": 38,
   "metadata": {},
   "outputs": [
    {
     "data": {
      "text/plain": [
       "['Products', 'Sales 2018']"
      ]
     },
     "execution_count": 38,
     "metadata": {},
     "output_type": "execute_result"
    }
   ],
   "source": [
    "wb.sheetnames"
   ]
  },
  {
   "cell_type": "markdown",
   "metadata": {},
   "source": [
    "The workbook object is iterable. Check it out!"
   ]
  },
  {
   "cell_type": "code",
   "execution_count": 39,
   "metadata": {},
   "outputs": [
    {
     "name": "stdout",
     "output_type": "stream",
     "text": [
      "Products\n",
      "Sales 2018\n"
     ]
    }
   ],
   "source": [
    "for sheet in wb:\n",
    "    print(sheet.title)"
   ]
  },
  {
   "cell_type": "markdown",
   "metadata": {},
   "source": [
    "And this is how you access directly a worksheet. Pass in its name as index."
   ]
  },
  {
   "cell_type": "code",
   "execution_count": 40,
   "metadata": {},
   "outputs": [
    {
     "data": {
      "text/plain": [
       "<Worksheet \"Products\">"
      ]
     },
     "execution_count": 40,
     "metadata": {},
     "output_type": "execute_result"
    }
   ],
   "source": [
    "sheet = wb['Products']\n",
    "sheet"
   ]
  },
  {
   "cell_type": "markdown",
   "metadata": {},
   "source": [
    "This is how you would get the active spread sheets in the document. The active spread sheet is thelast opened."
   ]
  },
  {
   "cell_type": "code",
   "execution_count": 41,
   "metadata": {},
   "outputs": [
    {
     "name": "stdout",
     "output_type": "stream",
     "text": [
      "<Worksheet \"Sales 2018\">\n",
      "<Worksheet \"Products\">\n"
     ]
    }
   ],
   "source": [
    "sheet = wb.active\n",
    "print(sheet)\n",
    "\n",
    "wb.active = wb['Products']\n",
    "sheet = wb.active\n",
    "print(sheet)"
   ]
  },
  {
   "cell_type": "markdown",
   "metadata": {},
   "source": [
    "Ok. Now that we know how to select which sheet we'll be working with, let's see how to get the value within its cells."
   ]
  },
  {
   "cell_type": "code",
   "execution_count": 42,
   "metadata": {},
   "outputs": [
    {
     "name": "stdout",
     "output_type": "stream",
     "text": [
      "Product Name\n",
      "Mobile Phone\n"
     ]
    }
   ],
   "source": [
    "print(sheet['b1'].value)\n",
    "print(sheet['b2'].value)"
   ]
  },
  {
   "cell_type": "markdown",
   "metadata": {},
   "source": [
    "And here is another way to access the content of a cell."
   ]
  },
  {
   "cell_type": "code",
   "execution_count": 43,
   "metadata": {},
   "outputs": [
    {
     "data": {
      "text/plain": [
       "'Mobile Phone'"
      ]
     },
     "execution_count": 43,
     "metadata": {},
     "output_type": "execute_result"
    }
   ],
   "source": [
    "sheet.cell(row=2, column=2).value"
   ]
  },
  {
   "cell_type": "markdown",
   "metadata": {},
   "source": [
    "The reverse engineering of the previous command is getting the coordinates of a cell. This is how it's done."
   ]
  },
  {
   "cell_type": "code",
   "execution_count": 44,
   "metadata": {},
   "outputs": [
    {
     "name": "stdout",
     "output_type": "stream",
     "text": [
      "2 1\n"
     ]
    }
   ],
   "source": [
    "cell = sheet['a2']\n",
    "print(cell.row, cell.column)"
   ]
  },
  {
   "cell_type": "markdown",
   "metadata": {},
   "source": [
    "It's possible to check the type of content a cell holds. The encoding scheme too."
   ]
  },
  {
   "cell_type": "code",
   "execution_count": 45,
   "metadata": {},
   "outputs": [
    {
     "name": "stdout",
     "output_type": "stream",
     "text": [
      "1 n utf-8\n",
      "Mobile Phone s utf-8\n"
     ]
    }
   ],
   "source": [
    "cell_a2 = sheet['a2']\n",
    "cell_b2 = sheet['b2']\n",
    "\n",
    "print(cell_a2.value, cell_a2.data_type, cell_a2.encoding)\n",
    "print(cell_b2.value, cell_b2.data_type, cell_a2.encoding)"
   ]
  },
  {
   "cell_type": "markdown",
   "metadata": {},
   "source": [
    "Wanna check to which spread sheet a cell belongs?"
   ]
  },
  {
   "cell_type": "code",
   "execution_count": 46,
   "metadata": {},
   "outputs": [
    {
     "data": {
      "text/plain": [
       "<Worksheet \"Products\">"
      ]
     },
     "execution_count": 46,
     "metadata": {},
     "output_type": "execute_result"
    }
   ],
   "source": [
    "cell_a2.parent"
   ]
  },
  {
   "cell_type": "markdown",
   "metadata": {},
   "source": [
    "And there's a shit load more of stuff about a cell that you can check."
   ]
  },
  {
   "cell_type": "code",
   "execution_count": 47,
   "metadata": {},
   "outputs": [
    {
     "data": {
      "text/plain": [
       "['__class__',\n",
       " '__delattr__',\n",
       " '__dir__',\n",
       " '__doc__',\n",
       " '__eq__',\n",
       " '__format__',\n",
       " '__ge__',\n",
       " '__getattribute__',\n",
       " '__gt__',\n",
       " '__hash__',\n",
       " '__init__',\n",
       " '__init_subclass__',\n",
       " '__le__',\n",
       " '__lt__',\n",
       " '__module__',\n",
       " '__ne__',\n",
       " '__new__',\n",
       " '__reduce__',\n",
       " '__reduce_ex__',\n",
       " '__repr__',\n",
       " '__setattr__',\n",
       " '__sizeof__',\n",
       " '__slots__',\n",
       " '__str__',\n",
       " '__subclasshook__',\n",
       " '_bind_value',\n",
       " '_comment',\n",
       " '_hyperlink',\n",
       " '_style',\n",
       " '_value',\n",
       " 'alignment',\n",
       " 'base_date',\n",
       " 'border',\n",
       " 'check_error',\n",
       " 'check_string',\n",
       " 'col_idx',\n",
       " 'column',\n",
       " 'column_letter',\n",
       " 'comment',\n",
       " 'coordinate',\n",
       " 'data_type',\n",
       " 'encoding',\n",
       " 'fill',\n",
       " 'font',\n",
       " 'guess_types',\n",
       " 'has_style',\n",
       " 'hyperlink',\n",
       " 'internal_value',\n",
       " 'is_date',\n",
       " 'number_format',\n",
       " 'offset',\n",
       " 'parent',\n",
       " 'pivotButton',\n",
       " 'protection',\n",
       " 'quotePrefix',\n",
       " 'row',\n",
       " 'style',\n",
       " 'style_id',\n",
       " 'value']"
      ]
     },
     "execution_count": 47,
     "metadata": {},
     "output_type": "execute_result"
    }
   ],
   "source": [
    "dir(cell_a2)"
   ]
  },
  {
   "cell_type": "markdown",
   "metadata": {},
   "source": [
    "Do you want to read a range of cells? No problem!"
   ]
  },
  {
   "cell_type": "code",
   "execution_count": 54,
   "metadata": {},
   "outputs": [
    {
     "name": "stdout",
     "output_type": "stream",
     "text": [
      "Product: Mobile Phone \t Units: 15\n",
      "Product: Laptop \t Units: 15\n",
      "Product: Smart Watch \t Units: 50\n",
      "Product: Fitness Band \t Units: 30\n",
      "Product: VR Headset \t Units: 20\n",
      "Product: E-Reader \t Units: 30\n",
      "Product: Headphones \t Units: 80\n",
      "Product: Camera \t Units: 20\n",
      "Product: Game Console \t Units: 25\n",
      "Product: Video Projector \t Units: 10\n"
     ]
    }
   ],
   "source": [
    "cell_range = sheet['b2':'c11']\n",
    "for name, units in cell_range:\n",
    "    print(f'Product: {name.value} \\t Units: {units.value}')"
   ]
  },
  {
   "cell_type": "markdown",
   "metadata": {},
   "source": [
    "How big is a sheet? You can check it by using these variables."
   ]
  },
  {
   "cell_type": "code",
   "execution_count": 55,
   "metadata": {},
   "outputs": [
    {
     "name": "stdout",
     "output_type": "stream",
     "text": [
      "A1:E11\n",
      "5\n",
      "11\n"
     ]
    }
   ],
   "source": [
    "print(sheet.dimensions)\n",
    "print(sheet.max_column)\n",
    "print(sheet.max_row)"
   ]
  },
  {
   "cell_type": "markdown",
   "metadata": {},
   "source": [
    "Let's show the full content of a workbook!"
   ]
  },
  {
   "cell_type": "code",
   "execution_count": 80,
   "metadata": {},
   "outputs": [
    {
     "name": "stdout",
     "output_type": "stream",
     "text": [
      "\n",
      "PRODUCTS\n",
      "None\tProduct Name\tTotal Units\tUnit Price\tTotal Amount\t\n",
      "1\tMobile Phone\t15\t400\t6000\t\n",
      "2\tLaptop\t15\t800\t12000\t\n",
      "3\tSmart Watch\t50\t150\t7500\t\n",
      "4\tFitness Band\t30\t100\t3000\t\n",
      "5\tVR Headset\t20\t300\t6000\t\n",
      "6\tE-Reader\t30\t100\t3000\t\n",
      "7\tHeadphones\t80\t80\t6400\t\n",
      "8\tCamera\t20\t600\t12000\t\n",
      "9\tGame Console\t25\t700\t17500\t\n",
      "10\tVideo Projector\t10\t800\t8000\t\n",
      "\n",
      "SALES 2018\n",
      "None\tTotal Sales\t\n",
      "January\t30000\t\n",
      "February\t26000\t\n",
      "March\t32000\t\n",
      "April\t28000\t\n",
      "May\t24000\t\n",
      "June\t32000\t\n",
      "July\t34000\t\n",
      "August\t36000\t\n",
      "September\t38000\t\n",
      "October\t39000\t\n",
      "November\t40000\t\n",
      "December\t37000\t\n"
     ]
    }
   ],
   "source": [
    "import openpyxl\n",
    "\n",
    "#data_only=False means formulas would return as formulas. If you want the values, set it to True.\n",
    "wb = openpyxl.load_workbook('store.xlsx', data_only=False)\n",
    "\n",
    "for sheet in wb:\n",
    "    print(f'\\n{sheet.title.upper()}')\n",
    "    for row in sheet.rows:\n",
    "        for cell in row:\n",
    "            print(cell.value, end='\\t')\n",
    "        print('')"
   ]
  },
  {
   "cell_type": "markdown",
   "metadata": {},
   "source": [
    "Perhaps it's more interesting to visualize each row of the sheet as a tuple. That's how it's done."
   ]
  },
  {
   "cell_type": "code",
   "execution_count": 85,
   "metadata": {},
   "outputs": [
    {
     "name": "stdout",
     "output_type": "stream",
     "text": [
      "(None, 'Product Name', 'Total Units', 'Unit Price', 'Total Amount')\n",
      "(1, 'Mobile Phone', 15, 400, 6000)\n",
      "(2, 'Laptop', 15, 800, 12000)\n",
      "(3, 'Smart Watch', 50, 150, 7500)\n",
      "(4, 'Fitness Band', 30, 100, 3000)\n",
      "(5, 'VR Headset', 20, 300, 6000)\n",
      "(6, 'E-Reader', 30, 100, 3000)\n",
      "(7, 'Headphones', 80, 80, 6400)\n",
      "(8, 'Camera', 20, 600, 12000)\n",
      "(9, 'Game Console', 25, 700, 17500)\n",
      "(10, 'Video Projector', 10, 800, 8000)\n"
     ]
    }
   ],
   "source": [
    "sheet = wb['Products']\n",
    "for row in sheet.values:\n",
    "    print(row)"
   ]
  },
  {
   "cell_type": "code",
   "execution_count": null,
   "metadata": {},
   "outputs": [],
   "source": []
  },
  {
   "cell_type": "code",
   "execution_count": null,
   "metadata": {},
   "outputs": [],
   "source": []
  }
 ],
 "metadata": {
  "kernelspec": {
   "display_name": "Python 3",
   "language": "python",
   "name": "python3"
  },
  "language_info": {
   "codemirror_mode": {
    "name": "ipython",
    "version": 3
   },
   "file_extension": ".py",
   "mimetype": "text/x-python",
   "name": "python",
   "nbconvert_exporter": "python",
   "pygments_lexer": "ipython3",
   "version": "3.7.6"
  }
 },
 "nbformat": 4,
 "nbformat_minor": 4
}
