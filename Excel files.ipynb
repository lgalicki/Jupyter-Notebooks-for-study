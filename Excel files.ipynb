{
 "cells": [
  {
   "cell_type": "markdown",
   "metadata": {},
   "source": [
    "# Reading Excel files"
   ]
  },
  {
   "cell_type": "markdown",
   "metadata": {},
   "source": [
    "In order to interpret Excel files with Python we must use the OpenPYXL module.\n",
    "The term workbook refers to an Excel file.\n",
    "First let's open the file."
   ]
  },
  {
   "cell_type": "code",
   "execution_count": 1,
   "metadata": {},
   "outputs": [],
   "source": [
    "import openpyxl\n",
    "\n",
    "wb = openpyxl.load_workbook('store.xlsx')"
   ]
  },
  {
   "cell_type": "markdown",
   "metadata": {},
   "source": [
    "Now let's see the spread sheets it contains."
   ]
  },
  {
   "cell_type": "code",
   "execution_count": 2,
   "metadata": {},
   "outputs": [
    {
     "data": {
      "text/plain": [
       "['Products', 'Sales 2018']"
      ]
     },
     "execution_count": 2,
     "metadata": {},
     "output_type": "execute_result"
    }
   ],
   "source": [
    "wb.sheetnames"
   ]
  },
  {
   "cell_type": "markdown",
   "metadata": {},
   "source": [
    "The workbook object is iterable. Check it out!"
   ]
  },
  {
   "cell_type": "code",
   "execution_count": 3,
   "metadata": {},
   "outputs": [
    {
     "name": "stdout",
     "output_type": "stream",
     "text": [
      "Products\n",
      "Sales 2018\n"
     ]
    }
   ],
   "source": [
    "for sheet in wb:\n",
    "    print(sheet.title)"
   ]
  },
  {
   "cell_type": "markdown",
   "metadata": {},
   "source": [
    "And this is how you access directly a worksheet. Pass in its name as index."
   ]
  },
  {
   "cell_type": "code",
   "execution_count": 4,
   "metadata": {},
   "outputs": [
    {
     "data": {
      "text/plain": [
       "<Worksheet \"Products\">"
      ]
     },
     "execution_count": 4,
     "metadata": {},
     "output_type": "execute_result"
    }
   ],
   "source": [
    "sheet = wb['Products']\n",
    "sheet"
   ]
  },
  {
   "cell_type": "markdown",
   "metadata": {},
   "source": [
    "This is how you would get the active spread sheets in the document. The active spread sheet is thelast opened."
   ]
  },
  {
   "cell_type": "code",
   "execution_count": 5,
   "metadata": {},
   "outputs": [
    {
     "name": "stdout",
     "output_type": "stream",
     "text": [
      "<Worksheet \"Sales 2018\">\n",
      "<Worksheet \"Products\">\n"
     ]
    }
   ],
   "source": [
    "sheet = wb.active\n",
    "print(sheet)\n",
    "\n",
    "wb.active = wb['Products']\n",
    "sheet = wb.active\n",
    "print(sheet)"
   ]
  },
  {
   "cell_type": "markdown",
   "metadata": {},
   "source": [
    "Ok. Now that we know how to select which sheet we'll be working with, let's see how to get the value within its cells."
   ]
  },
  {
   "cell_type": "code",
   "execution_count": 6,
   "metadata": {},
   "outputs": [
    {
     "name": "stdout",
     "output_type": "stream",
     "text": [
      "Product Name\n",
      "Mobile Phone\n"
     ]
    }
   ],
   "source": [
    "print(sheet['b1'].value)\n",
    "print(sheet['b2'].value)"
   ]
  },
  {
   "cell_type": "markdown",
   "metadata": {},
   "source": [
    "And here is another way to access the content of a cell."
   ]
  },
  {
   "cell_type": "code",
   "execution_count": 7,
   "metadata": {},
   "outputs": [
    {
     "data": {
      "text/plain": [
       "'Mobile Phone'"
      ]
     },
     "execution_count": 7,
     "metadata": {},
     "output_type": "execute_result"
    }
   ],
   "source": [
    "sheet.cell(row=2, column=2).value"
   ]
  },
  {
   "cell_type": "markdown",
   "metadata": {},
   "source": [
    "The reverse engineering of the previous command is getting the coordinates of a cell. This is how it's done."
   ]
  },
  {
   "cell_type": "code",
   "execution_count": 8,
   "metadata": {},
   "outputs": [
    {
     "name": "stdout",
     "output_type": "stream",
     "text": [
      "2 1\n"
     ]
    }
   ],
   "source": [
    "cell = sheet['a2']\n",
    "print(cell.row, cell.column)"
   ]
  },
  {
   "cell_type": "markdown",
   "metadata": {},
   "source": [
    "It's possible to check the type of content a cell holds. The encoding scheme too."
   ]
  },
  {
   "cell_type": "code",
   "execution_count": 9,
   "metadata": {},
   "outputs": [
    {
     "name": "stdout",
     "output_type": "stream",
     "text": [
      "1 n utf-8\n",
      "Mobile Phone s utf-8\n"
     ]
    }
   ],
   "source": [
    "cell_a2 = sheet['a2']\n",
    "cell_b2 = sheet['b2']\n",
    "\n",
    "print(cell_a2.value, cell_a2.data_type, cell_a2.encoding)\n",
    "print(cell_b2.value, cell_b2.data_type, cell_a2.encoding)"
   ]
  },
  {
   "cell_type": "markdown",
   "metadata": {},
   "source": [
    "Wanna check to which spread sheet a cell belongs?"
   ]
  },
  {
   "cell_type": "code",
   "execution_count": 10,
   "metadata": {},
   "outputs": [
    {
     "data": {
      "text/plain": [
       "<Worksheet \"Products\">"
      ]
     },
     "execution_count": 10,
     "metadata": {},
     "output_type": "execute_result"
    }
   ],
   "source": [
    "cell_a2.parent"
   ]
  },
  {
   "cell_type": "markdown",
   "metadata": {},
   "source": [
    "And there's a shit load more of stuff about a cell that you can check."
   ]
  },
  {
   "cell_type": "code",
   "execution_count": 11,
   "metadata": {},
   "outputs": [
    {
     "data": {
      "text/plain": [
       "['__class__',\n",
       " '__delattr__',\n",
       " '__dir__',\n",
       " '__doc__',\n",
       " '__eq__',\n",
       " '__format__',\n",
       " '__ge__',\n",
       " '__getattribute__',\n",
       " '__gt__',\n",
       " '__hash__',\n",
       " '__init__',\n",
       " '__init_subclass__',\n",
       " '__le__',\n",
       " '__lt__',\n",
       " '__module__',\n",
       " '__ne__',\n",
       " '__new__',\n",
       " '__reduce__',\n",
       " '__reduce_ex__',\n",
       " '__repr__',\n",
       " '__setattr__',\n",
       " '__sizeof__',\n",
       " '__slots__',\n",
       " '__str__',\n",
       " '__subclasshook__',\n",
       " '_bind_value',\n",
       " '_comment',\n",
       " '_hyperlink',\n",
       " '_infer_value',\n",
       " '_style',\n",
       " '_value',\n",
       " 'alignment',\n",
       " 'base_date',\n",
       " 'border',\n",
       " 'check_error',\n",
       " 'check_string',\n",
       " 'col_idx',\n",
       " 'column',\n",
       " 'column_letter',\n",
       " 'comment',\n",
       " 'coordinate',\n",
       " 'data_type',\n",
       " 'encoding',\n",
       " 'fill',\n",
       " 'font',\n",
       " 'guess_types',\n",
       " 'has_style',\n",
       " 'hyperlink',\n",
       " 'internal_value',\n",
       " 'is_date',\n",
       " 'number_format',\n",
       " 'offset',\n",
       " 'parent',\n",
       " 'pivotButton',\n",
       " 'protection',\n",
       " 'quotePrefix',\n",
       " 'row',\n",
       " 'set_explicit_value',\n",
       " 'style',\n",
       " 'style_id',\n",
       " 'value']"
      ]
     },
     "execution_count": 11,
     "metadata": {},
     "output_type": "execute_result"
    }
   ],
   "source": [
    "dir(cell_a2)"
   ]
  },
  {
   "cell_type": "markdown",
   "metadata": {},
   "source": [
    "Do you want to read a range of cells? No problem!"
   ]
  },
  {
   "cell_type": "code",
   "execution_count": 12,
   "metadata": {},
   "outputs": [
    {
     "name": "stdout",
     "output_type": "stream",
     "text": [
      "Product: Mobile Phone \t Units: 15\n",
      "Product: Laptop \t Units: 15\n",
      "Product: Smart Watch \t Units: 50\n",
      "Product: Fitness Band \t Units: 30\n",
      "Product: VR Headset \t Units: 20\n",
      "Product: E-Reader \t Units: 30\n",
      "Product: Headphones \t Units: 80\n",
      "Product: Camera \t Units: 20\n",
      "Product: Game Console \t Units: 25\n",
      "Product: Video Projector \t Units: 10\n"
     ]
    }
   ],
   "source": [
    "cell_range = sheet['b2':'c11']\n",
    "for name, units in cell_range:\n",
    "    print(f'Product: {name.value} \\t Units: {units.value}')"
   ]
  },
  {
   "cell_type": "markdown",
   "metadata": {},
   "source": [
    "How big is a sheet? You can check it by using these variables."
   ]
  },
  {
   "cell_type": "code",
   "execution_count": 13,
   "metadata": {},
   "outputs": [
    {
     "name": "stdout",
     "output_type": "stream",
     "text": [
      "A1:E11\n",
      "5\n",
      "11\n"
     ]
    }
   ],
   "source": [
    "print(sheet.dimensions)\n",
    "print(sheet.max_column)\n",
    "print(sheet.max_row)"
   ]
  },
  {
   "cell_type": "markdown",
   "metadata": {},
   "source": [
    "Let's show the full content of a workbook!"
   ]
  },
  {
   "cell_type": "code",
   "execution_count": 14,
   "metadata": {},
   "outputs": [
    {
     "name": "stdout",
     "output_type": "stream",
     "text": [
      "\n",
      "PRODUCTS\n",
      "None\tProduct Name\tTotal Units\tUnit Price\tTotal Amount\t\n",
      "1\tMobile Phone\t15\t400\t6000\t\n",
      "2\tLaptop\t15\t800\t12000\t\n",
      "3\tSmart Watch\t50\t150\t7500\t\n",
      "4\tFitness Band\t30\t100\t3000\t\n",
      "5\tVR Headset\t20\t300\t6000\t\n",
      "6\tE-Reader\t30\t100\t3000\t\n",
      "7\tHeadphones\t80\t80\t6400\t\n",
      "8\tCamera\t20\t600\t12000\t\n",
      "9\tGame Console\t25\t700\t17500\t\n",
      "10\tVideo Projector\t10\t800\t8000\t\n",
      "\n",
      "SALES 2018\n",
      "None\tTotal Sales\t\n",
      "January\t30000\t\n",
      "February\t26000\t\n",
      "March\t32000\t\n",
      "April\t28000\t\n",
      "May\t24000\t\n",
      "June\t32000\t\n",
      "July\t34000\t\n",
      "August\t36000\t\n",
      "September\t38000\t\n",
      "October\t39000\t\n",
      "November\t40000\t\n",
      "December\t37000\t\n"
     ]
    }
   ],
   "source": [
    "import openpyxl\n",
    "\n",
    "#data_only=False means formulas would return as formulas. If you want the values, set it to True.\n",
    "wb = openpyxl.load_workbook('store.xlsx', data_only=False)\n",
    "\n",
    "for sheet in wb:\n",
    "    print(f'\\n{sheet.title.upper()}')\n",
    "    for row in sheet.rows:\n",
    "        for cell in row:\n",
    "            print(cell.value, end='\\t')\n",
    "        print('')"
   ]
  },
  {
   "cell_type": "markdown",
   "metadata": {},
   "source": [
    "Perhaps it's more interesting to visualize each row of the sheet as a tuple. That's how it's done."
   ]
  },
  {
   "cell_type": "code",
   "execution_count": 15,
   "metadata": {},
   "outputs": [
    {
     "name": "stdout",
     "output_type": "stream",
     "text": [
      "(None, 'Product Name', 'Total Units', 'Unit Price', 'Total Amount')\n",
      "(1, 'Mobile Phone', 15, 400, 6000)\n",
      "(2, 'Laptop', 15, 800, 12000)\n",
      "(3, 'Smart Watch', 50, 150, 7500)\n",
      "(4, 'Fitness Band', 30, 100, 3000)\n",
      "(5, 'VR Headset', 20, 300, 6000)\n",
      "(6, 'E-Reader', 30, 100, 3000)\n",
      "(7, 'Headphones', 80, 80, 6400)\n",
      "(8, 'Camera', 20, 600, 12000)\n",
      "(9, 'Game Console', 25, 700, 17500)\n",
      "(10, 'Video Projector', 10, 800, 8000)\n"
     ]
    }
   ],
   "source": [
    "sheet = wb['Products']\n",
    "for row in sheet.values:\n",
    "    print(row)"
   ]
  },
  {
   "cell_type": "markdown",
   "metadata": {},
   "source": [
    "Basically this thing works in three dimensions.\n",
    "<br>1st) spreadsheets\n",
    "<br>2nd) row\n",
    "<br>3rd) column"
   ]
  },
  {
   "cell_type": "markdown",
   "metadata": {},
   "source": [
    "# Writing Excel files\n",
    "If you want to alter the value of a cell, you reference it as a dictionary key."
   ]
  },
  {
   "cell_type": "code",
   "execution_count": 16,
   "metadata": {},
   "outputs": [],
   "source": [
    "import openpyxl\n",
    "\n",
    "wb = openpyxl.load_workbook('My XL file.xlsx')\n",
    "sheet = wb['Family members']\n",
    "sheet['a1'] = 'Nome'\n",
    "wb.save('My XL file.xlsx')"
   ]
  },
  {
   "cell_type": "markdown",
   "metadata": {},
   "source": [
    "In order to save a new line into the Excel file you must use the append() method."
   ]
  },
  {
   "cell_type": "code",
   "execution_count": 17,
   "metadata": {},
   "outputs": [],
   "source": [
    "new_member = ('Gasparzinho', 'eternal', 0, 'post human')\n",
    "sheet.append(new_member)\n",
    "wb.save('My XL file.xlsx')"
   ]
  },
  {
   "cell_type": "markdown",
   "metadata": {},
   "source": [
    "Let's try to write a new column in the file."
   ]
  },
  {
   "cell_type": "code",
   "execution_count": 22,
   "metadata": {},
   "outputs": [],
   "source": [
    "for d, e in sheet['d1:e6']:\n",
    "    if d.value == 'Species':\n",
    "        e.value = 'Furry?'\n",
    "    elif d.value == 'Dog':\n",
    "        e.value = 'yes'\n",
    "    else:\n",
    "        e.value = 'no'\n",
    "\n",
    "wb.save('My XL file.xlsx')"
   ]
  },
  {
   "cell_type": "markdown",
   "metadata": {},
   "source": [
    "Wanna create a new Excel file? Easy! Just load a new a workbook into memory with the <code>Workbook()</code> method, assume as working sheet the active sheet and you're good to go!"
   ]
  },
  {
   "cell_type": "code",
   "execution_count": 29,
   "metadata": {},
   "outputs": [],
   "source": [
    "import openpyxl\n",
    "\n",
    "wb = openpyxl.Workbook()\n",
    "sheet = wb.active\n",
    "sheet['a1'] = 'Food'\n",
    "sheet['b1'] = 'Grade'\n",
    "sheet['c1'] = 'Daily consumption'\n",
    "\n",
    "food_dict = {'French Fries': ('Awesome', 5), 'Coke': ('Bad', 0), 'Garlic': ('Yummy!', 100)}\n",
    "\n",
    "for k,v in food_dict.items():\n",
    "    sheet.append((k, v[0], v[1]))\n",
    "    \n",
    "wb.save('Food.xlsx')"
   ]
  },
  {
   "cell_type": "markdown",
   "metadata": {},
   "source": [
    "# Using formulas\n",
    "No tricks here. Just write them as strings, specifying them exactly as you'd do it in Excel."
   ]
  },
  {
   "cell_type": "code",
   "execution_count": 37,
   "metadata": {},
   "outputs": [],
   "source": [
    "wb = openpyxl.load_workbook('Food.xlsx')\n",
    "sheet = wb.active\n",
    "sheet['d1'] = '=IF(A1<>B1;\"annual consumption\";\"pau!\")'\n",
    "wb.save('Food.xlsx')"
   ]
  },
  {
   "cell_type": "markdown",
   "metadata": {},
   "source": [
    "But what if you wanna write formulas to various rows? Well... Given what's been taught so far, you should be able to figure it out."
   ]
  },
  {
   "cell_type": "code",
   "execution_count": 39,
   "metadata": {},
   "outputs": [],
   "source": [
    "wb = openpyxl.load_workbook('Food.xlsx')\n",
    "sheet = wb.active\n",
    "for c, d in sheet['c2':'d4']:\n",
    "    d.value = f'={c.coordinate}*365'\n",
    "    \n",
    "wb.save('Food.xlsx')"
   ]
  },
  {
   "cell_type": "markdown",
   "metadata": {},
   "source": [
    "# Sheet operations\n",
    "Let's dive a bit deeper into the handling of sheets.\n",
    "First let's check two commands that allow you to check sheet properties."
   ]
  },
  {
   "cell_type": "code",
   "execution_count": 41,
   "metadata": {},
   "outputs": [
    {
     "name": "stdout",
     "output_type": "stream",
     "text": [
      "['Sheet']\n",
      "-----------\n",
      "['BREAK_COLUMN', 'BREAK_NONE', 'BREAK_ROW', 'HeaderFooter', 'ORIENTATION_LANDSCAPE', 'ORIENTATION_PORTRAIT', 'PAPERSIZE_A3', 'PAPERSIZE_A4', 'PAPERSIZE_A4_SMALL', 'PAPERSIZE_A5', 'PAPERSIZE_EXECUTIVE', 'PAPERSIZE_LEDGER', 'PAPERSIZE_LEGAL', 'PAPERSIZE_LETTER', 'PAPERSIZE_LETTER_SMALL', 'PAPERSIZE_STATEMENT', 'PAPERSIZE_TABLOID', 'SHEETSTATE_HIDDEN', 'SHEETSTATE_VERYHIDDEN', 'SHEETSTATE_VISIBLE', '_WorkbookChild__title', '__class__', '__delattr__', '__delitem__', '__dict__', '__dir__', '__doc__', '__eq__', '__format__', '__ge__', '__getattribute__', '__getitem__', '__gt__', '__hash__', '__init__', '__init_subclass__', '__iter__', '__le__', '__lt__', '__module__', '__ne__', '__new__', '__reduce__', '__reduce_ex__', '__repr__', '__setattr__', '__setitem__', '__sizeof__', '__str__', '__subclasshook__', '__weakref__', '_add_cell', '_add_column', '_add_row', '_cells', '_cells_by_col', '_cells_by_row', '_charts', '_clean_merge_range', '_comments', '_current_row', '_default_title', '_drawing', '_get_cell', '_hyperlinks', '_id', '_images', '_invalid_row', '_merged_cell_range', '_move_cell', '_move_cells', '_parent', '_path', '_pivots', '_print_area', '_print_cols', '_print_rows', '_rel_type', '_rels', '_setup', '_tables', 'active_cell', 'add_chart', 'add_data_validation', 'add_image', 'add_pivot', 'add_table', 'append', 'auto_filter', 'calculate_dimension', 'cell', 'column_dimensions', 'columns', 'conditional_formatting', 'data_validations', 'delete_cols', 'delete_rows', 'dimensions', 'encoding', 'evenFooter', 'evenHeader', 'firstFooter', 'firstHeader', 'formula_attributes', 'freeze_panes', 'insert_cols', 'insert_rows', 'iter_cols', 'iter_rows', 'legacy_drawing', 'max_column', 'max_row', 'merge_cells', 'merged_cell_ranges', 'merged_cells', 'mime_type', 'min_column', 'min_row', 'move_range', 'oddFooter', 'oddHeader', 'orientation', 'page_breaks', 'page_margins', 'page_setup', 'paper_size', 'parent', 'path', 'print_area', 'print_options', 'print_title_cols', 'print_title_rows', 'print_titles', 'protection', 'row_dimensions', 'rows', 'scenarios', 'selected_cell', 'set_printer_settings', 'sheet_format', 'sheet_properties', 'sheet_state', 'sheet_view', 'show_gridlines', 'show_summary_below', 'show_summary_right', 'title', 'unmerge_cells', 'values', 'views']\n",
      "-----------\n",
      "<openpyxl.worksheet.dimensions.SheetFormatProperties object>\n",
      "Parameters:\n",
      "baseColWidth=8, defaultColWidth=None, defaultRowHeight=15.0, customHeight=None, zeroHeight=False, thickTop=None, thickBottom=None, outlineLevelRow=0, outlineLevelCol=None\n",
      "-----------\n",
      "<openpyxl.worksheet.properties.WorksheetProperties object>\n",
      "Parameters:\n",
      "codeName=None, enableFormatConditionsCalculation=None, filterMode=False, published=None, syncHorizontal=None, syncRef=None, syncVertical=None, transitionEvaluation=None, transitionEntry=None, tabColor=None, outlinePr=<openpyxl.worksheet.properties.Outline object>\n",
      "Parameters:\n",
      "applyStyles=None, summaryBelow=True, summaryRight=True, showOutlineSymbols=None, pageSetUpPr=<openpyxl.worksheet.properties.PageSetupProperties object>\n",
      "Parameters:\n",
      "autoPageBreaks=None, fitToPage=False\n"
     ]
    }
   ],
   "source": [
    "import openpyxl\n",
    "\n",
    "wb = openpyxl.load_workbook('Food.xlsx')\n",
    "print(wb.sheetnames) #Returns the names of the sheets\n",
    "print('-----------')\n",
    "\n",
    "sheet = wb.active\n",
    "\n",
    "print(dir(sheet)) #Checking all methods a sheet object has\n",
    "print('-----------')\n",
    "print(sheet.sheet_format) #Sheet properties\n",
    "print('-----------')\n",
    "print(sheet.sheet_properties) #More sheet properties\n"
   ]
  },
  {
   "cell_type": "markdown",
   "metadata": {},
   "source": [
    "Now let's create a new sheet in the workbook. The second parameter specifies the position of the sheet withing the document."
   ]
  },
  {
   "cell_type": "code",
   "execution_count": 42,
   "metadata": {},
   "outputs": [],
   "source": [
    "wb.create_sheet('Turnover1',0)\n",
    "wb.save('Food.xlsx')"
   ]
  },
  {
   "cell_type": "markdown",
   "metadata": {},
   "source": [
    "Now let's delete a sheet."
   ]
  },
  {
   "cell_type": "code",
   "execution_count": 43,
   "metadata": {},
   "outputs": [],
   "source": [
    "sheet = wb['Turnover1']\n",
    "wb.remove(sheet)\n",
    "wb.save('Food.xlsx')"
   ]
  },
  {
   "cell_type": "markdown",
   "metadata": {},
   "source": [
    "And finally let's make a copy of a worksheet into another one."
   ]
  },
  {
   "cell_type": "code",
   "execution_count": 44,
   "metadata": {},
   "outputs": [
    {
     "name": "stdout",
     "output_type": "stream",
     "text": [
      "<Worksheet \"Sheet Copy\">\n"
     ]
    }
   ],
   "source": [
    "source = wb.active\n",
    "dest = wb.copy_worksheet(source)\n",
    "print(dest)\n",
    "wb.save('Food.xlsx')"
   ]
  },
  {
   "cell_type": "markdown",
   "metadata": {},
   "source": [
    "# Working with styles\n",
    "It's time to make your spreadsheet beautiful! Notice that, to make things simpler, we import the openpyxl styles into our module directly.\n",
    "First let's take a look at the properties that can be tweaked."
   ]
  },
  {
   "cell_type": "code",
   "execution_count": 47,
   "metadata": {},
   "outputs": [
    {
     "data": {
      "text/plain": [
       "['__class__',\n",
       " '__delattr__',\n",
       " '__dir__',\n",
       " '__doc__',\n",
       " '__eq__',\n",
       " '__format__',\n",
       " '__ge__',\n",
       " '__getattribute__',\n",
       " '__gt__',\n",
       " '__hash__',\n",
       " '__init__',\n",
       " '__init_subclass__',\n",
       " '__le__',\n",
       " '__lt__',\n",
       " '__module__',\n",
       " '__ne__',\n",
       " '__new__',\n",
       " '__reduce__',\n",
       " '__reduce_ex__',\n",
       " '__repr__',\n",
       " '__setattr__',\n",
       " '__sizeof__',\n",
       " '__slots__',\n",
       " '__str__',\n",
       " '__subclasshook__',\n",
       " '_bind_value',\n",
       " '_comment',\n",
       " '_hyperlink',\n",
       " '_infer_value',\n",
       " '_style',\n",
       " '_value',\n",
       " 'alignment',\n",
       " 'base_date',\n",
       " 'border',\n",
       " 'check_error',\n",
       " 'check_string',\n",
       " 'col_idx',\n",
       " 'column',\n",
       " 'column_letter',\n",
       " 'comment',\n",
       " 'coordinate',\n",
       " 'data_type',\n",
       " 'encoding',\n",
       " 'fill',\n",
       " 'font',\n",
       " 'guess_types',\n",
       " 'has_style',\n",
       " 'hyperlink',\n",
       " 'internal_value',\n",
       " 'is_date',\n",
       " 'number_format',\n",
       " 'offset',\n",
       " 'parent',\n",
       " 'pivotButton',\n",
       " 'protection',\n",
       " 'quotePrefix',\n",
       " 'row',\n",
       " 'set_explicit_value',\n",
       " 'style',\n",
       " 'style_id',\n",
       " 'value']"
      ]
     },
     "execution_count": 47,
     "metadata": {},
     "output_type": "execute_result"
    }
   ],
   "source": [
    "import openpyxl\n",
    "from openpyxl.styles import *\n",
    "\n",
    "wb = openpyxl.load_workbook('Food.xlsx')\n",
    "sheet = wb.active\n",
    "cell = sheet['a1']\n",
    "dir(cell)"
   ]
  },
  {
   "cell_type": "markdown",
   "metadata": {},
   "source": [
    "Let's try to change the font of our cell. This is how it's done. We create a Font object and then aply it to the cell. If you wanna know everything you can set about it, call the dir method uppon the font object. Let's see."
   ]
  },
  {
   "cell_type": "markdown",
   "metadata": {},
   "source": [
    "dir(cell.font)"
   ]
  },
  {
   "cell_type": "markdown",
   "metadata": {},
   "source": [
    "Well, there it is. Let's tweak stuff!"
   ]
  },
  {
   "cell_type": "code",
   "execution_count": 50,
   "metadata": {},
   "outputs": [],
   "source": [
    "font = Font(b=True, color=colors.RED, name='Tahoma', size=10)\n",
    "cell.font = font\n",
    "wb.save('Food.xlsx')"
   ]
  },
  {
   "cell_type": "markdown",
   "metadata": {},
   "source": [
    "Wanna change the fill of the cell? Have you seen the cell object has a fill attribute up there? Well, let's mess with it too!"
   ]
  },
  {
   "cell_type": "code",
   "execution_count": 55,
   "metadata": {},
   "outputs": [],
   "source": [
    "fill = PatternFill(fill_type='solid', fgColor=colors.YELLOW)\n",
    "cell.fill = fill\n",
    "wb.save('Food.xlsx')"
   ]
  },
  {
   "cell_type": "markdown",
   "metadata": {},
   "source": [
    "Time to mess around with borders!"
   ]
  },
  {
   "cell_type": "code",
   "execution_count": 61,
   "metadata": {},
   "outputs": [],
   "source": [
    "cell = sheet['b2']\n",
    "double_green = Side(border_style='double', color=colors.GREEN)\n",
    "thin_red = Side(style='thin', color='FF0000')\n",
    "cell_border = Border(left=thin_red, right=thin_red, top=double_green, bottom=double_green)\n",
    "wb.save('Food.xlsx')"
   ]
  },
  {
   "cell_type": "markdown",
   "metadata": {},
   "source": [
    "What about alignment?"
   ]
  },
  {
   "cell_type": "code",
   "execution_count": 63,
   "metadata": {},
   "outputs": [],
   "source": [
    "cell = sheet['a1']\n",
    "align = Alignment(horizontal='center', vertical='center')\n",
    "cell.alignment = align\n",
    "wb.save('Food.xlsx')"
   ]
  },
  {
   "cell_type": "markdown",
   "metadata": {},
   "source": [
    "Let's copy the style of a cell to another. For this we'll need to import a method from another module."
   ]
  },
  {
   "cell_type": "code",
   "execution_count": 64,
   "metadata": {},
   "outputs": [],
   "source": [
    "from copy import copy\n",
    "\n",
    "new_cell = sheet['b1']\n",
    "new_font = copy(cell.font)\n",
    "new_font.color = colors.GREEN # quick color tweak for demonstration\n",
    "new_cell.font = new_font\n",
    "wb.save('Food.xlsx')"
   ]
  },
  {
   "cell_type": "code",
   "execution_count": null,
   "metadata": {},
   "outputs": [],
   "source": []
  }
 ],
 "metadata": {
  "kernelspec": {
   "display_name": "Python 3",
   "language": "python",
   "name": "python3"
  },
  "language_info": {
   "codemirror_mode": {
    "name": "ipython",
    "version": 3
   },
   "file_extension": ".py",
   "mimetype": "text/x-python",
   "name": "python",
   "nbconvert_exporter": "python",
   "pygments_lexer": "ipython3",
   "version": "3.7.6"
  }
 },
 "nbformat": 4,
 "nbformat_minor": 4
}
