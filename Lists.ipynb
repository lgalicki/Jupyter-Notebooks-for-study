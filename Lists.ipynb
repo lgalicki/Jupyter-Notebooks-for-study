{
 "cells": [
  {
   "cell_type": "code",
   "execution_count": 62,
   "metadata": {},
   "outputs": [
    {
     "name": "stdout",
     "output_type": "stream",
     "text": [
      "My family consists of 4 members.\n",
      "My favorite one is Júpiter\n",
      "Júpiter's name has 7 letters.\n",
      "Circó's name last letter is ó.'\n",
      "My family consists of two dogs: ['Júpiter', 'Circó'] and one human: Alessandra\n",
      "The whole family is ['Júpiter', 'Circó', 'Alessandra', 'Luciano'].\n",
      "My family without me is ['Júpiter', 'Circó', 'Alessandra']\n",
      "And I'm back in the family: ['Júpiter', 'Circó', 'Alessandra', 'Luciano']\n",
      "My family's names in sorted order are ['Alessandra', 'Circó', 'Júpiter', 'Luciano']\n",
      "My family's names in reversed order are ['Luciano', 'Júpiter', 'Circó', 'Alessandra']\n",
      "d\n"
     ]
    }
   ],
   "source": [
    "my_family = ['Júpiter','Circó','Alessandra','']\n",
    "print(f'My family consists of {len(my_family)} members.')\n",
    "print(f'My favorite one is {my_family[0]}')\n",
    "print(f\"{my_family[0]}'s name has {len(my_family[0])} letters.\")\n",
    "print(f\"{my_family[1]}'s name last letter is {my_family[1][-1]}.'\")\n",
    "print(f'My family consists of two dogs: {my_family[0:2]} and one human: {my_family[-2]}')\n",
    "\n",
    "#Contrary to strings, lists are not immutable. Check this out.\n",
    "my_family[3] = 'Luciano' # I had to create this position by leaving it blank in the first declaration, though.\n",
    "print(f\"The whole family is {my_family}.\")\n",
    "\n",
    "#I could have appended a new element, though.\n",
    "my_family.pop() # Let me first remove the last element so I can show you how to append a new one.\n",
    "print(f\"My family without me is {my_family}\")\n",
    "my_family.append('Luciano')\n",
    "print(f\"And I'm back in the family: {my_family}\")\n",
    "\n",
    "sorted_family = my_family\n",
    "sorted_family.sort()\n",
    "print(f\"My family's names in sorted order are {sorted_family}\")\n",
    "\n",
    "reversed_family = my_family\n",
    "reversed_family.reverse()\n",
    "print(f\"My family's names in reversed order are {reversed_family}\")\n",
    "\n",
    "crazy_list = ['Banana',45,'Coconut',38,[1,2,'d',3]]\n",
    "print(crazy_list[4][2])"
   ]
  },
  {
   "cell_type": "code",
   "execution_count": null,
   "metadata": {},
   "outputs": [],
   "source": []
  }
 ],
 "metadata": {
  "kernelspec": {
   "display_name": "Python 3",
   "language": "python",
   "name": "python3"
  },
  "language_info": {
   "codemirror_mode": {
    "name": "ipython",
    "version": 3
   },
   "file_extension": ".py",
   "mimetype": "text/x-python",
   "name": "python",
   "nbconvert_exporter": "python",
   "pygments_lexer": "ipython3",
   "version": "3.7.5"
  }
 },
 "nbformat": 4,
 "nbformat_minor": 4
}
