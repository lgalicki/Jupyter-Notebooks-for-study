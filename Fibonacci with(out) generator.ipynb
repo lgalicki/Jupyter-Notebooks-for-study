{
 "cells": [
  {
   "cell_type": "code",
   "execution_count": 1,
   "metadata": {},
   "outputs": [
    {
     "name": "stdin",
     "output_type": "stream",
     "text": [
      "Which position in the sequence do you wish to know?  15\n"
     ]
    },
    {
     "name": "stdout",
     "output_type": "stream",
     "text": [
      "Processing time with generator: 0:00:00.000267\n",
      "Processing time without generator: 0:00:00.000214\n",
      "Processing without generator was -19.85019% slower\n"
     ]
    }
   ],
   "source": [
    "'''\n",
    "This calculates the value of a certain position in a fibonacci sequence and calculates it with and without the\n",
    "use of Python generators. It then compares the difference of performace. The fibonacci sequence used here starts\n",
    "with 0,1,1,2,3,5...\n",
    "\n",
    "I won't flood the screen with all the numbers in the sequence, but this test actually makes sense if you think\n",
    "that we are simulating a situation in which all the values in the list would be used.\n",
    "'''\n",
    "from datetime import datetime\n",
    "\n",
    "def with_generator(n):\n",
    "    a = 0\n",
    "    b = 1\n",
    "    \n",
    "    for i in range(n):\n",
    "        yield a\n",
    "        temp = b\n",
    "        b = a + b\n",
    "        a = temp\n",
    "        \n",
    "def without_generator(n):\n",
    "    i = 1\n",
    "    a = 0\n",
    "    b = 1\n",
    "    while i < n:\n",
    "        temp = b\n",
    "        b = a + b\n",
    "        a = temp\n",
    "        i += 1\n",
    "        \n",
    "    return a\n",
    "\n",
    "\n",
    "while True:\n",
    "    try:\n",
    "        pos = int(input('Which position in the sequence do you wish to know? '))\n",
    "    except:\n",
    "        continue\n",
    "    else:\n",
    "        if pos < 1:\n",
    "            continue\n",
    "        else:\n",
    "            break\n",
    "\n",
    "#Looping with the generator\n",
    "init_time = datetime.now()\n",
    "\n",
    "for i in with_generator(pos):\n",
    "    pass\n",
    "else:\n",
    "    result_with = i\n",
    "    \n",
    "fin_time = datetime.now()\n",
    "time_dif_with_gen = fin_time - init_time\n",
    "print(f'Processing time with generator: {time_dif_with_gen}')\n",
    "\n",
    "#Looping without the generator\n",
    "init_time = datetime.now()\n",
    "\n",
    "for i in range(1,pos+1):\n",
    "    result_without = without_generator(pos)\n",
    "    \n",
    "fin_time = datetime.now()\n",
    "time_dif_without_gen = fin_time - init_time\n",
    "print(f'Processing time without generator: {time_dif_without_gen}')\n",
    "\n",
    "percentage = (time_dif_without_gen - time_dif_with_gen) / time_dif_with_gen * 100\n",
    "print(f'Processing without generator was {percentage:0.5f}% slower')"
   ]
  },
  {
   "cell_type": "code",
   "execution_count": 5,
   "metadata": {},
   "outputs": [
    {
     "name": "stdout",
     "output_type": "stream",
     "text": [
      "0\n",
      "1\n",
      "1\n",
      "2\n",
      "3\n",
      "5\n",
      "8\n",
      "13\n",
      "21\n",
      "34\n"
     ]
    }
   ],
   "source": [
    "for i in with_generator(10):\n",
    "    print(i)"
   ]
  },
  {
   "cell_type": "code",
   "execution_count": 15,
   "metadata": {},
   "outputs": [
    {
     "name": "stdout",
     "output_type": "stream",
     "text": [
      "0\n",
      "1\n",
      "1\n",
      "2\n",
      "3\n",
      "5\n",
      "8\n",
      "13\n",
      "21\n",
      "34\n"
     ]
    }
   ],
   "source": [
    "for i in list(range(1,11)):\n",
    "    print(without_generator(i))"
   ]
  },
  {
   "cell_type": "code",
   "execution_count": 8,
   "metadata": {},
   "outputs": [
    {
     "name": "stdout",
     "output_type": "stream",
     "text": [
      "[0, 1, 2, 3, 4, 5, 6, 7, 8, 9]\n"
     ]
    }
   ],
   "source": []
  },
  {
   "cell_type": "code",
   "execution_count": null,
   "metadata": {},
   "outputs": [],
   "source": []
  }
 ],
 "metadata": {
  "kernelspec": {
   "display_name": "Python 3",
   "language": "python",
   "name": "python3"
  },
  "language_info": {
   "codemirror_mode": {
    "name": "ipython",
    "version": 3
   },
   "file_extension": ".py",
   "mimetype": "text/x-python",
   "name": "python",
   "nbconvert_exporter": "python",
   "pygments_lexer": "ipython3",
   "version": "3.7.5"
  }
 },
 "nbformat": 4,
 "nbformat_minor": 4
}
